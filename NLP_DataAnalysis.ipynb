{
 "cells": [
  {
   "cell_type": "code",
   "execution_count": 14,
   "metadata": {},
   "outputs": [],
   "source": [
    "import pandas as pd\n",
    "\n",
    "sheets = pd.read_csv('Covid_19_tweets_train.csv', encoding= \"latin1\")\n",
    "\n",
    "size = sheets['OriginalTweet'].shape[0]"
   ]
  },
  {
   "cell_type": "code",
   "execution_count": 15,
   "metadata": {},
   "outputs": [],
   "source": [
    "import pkg_resources\n",
    "import re, string, json\n",
    "from tqdm import tqdm\n",
    "from collections import Counter"
   ]
  },
  {
   "cell_type": "code",
   "execution_count": 16,
   "metadata": {},
   "outputs": [],
   "source": [
    "test_exp = 18"
   ]
  },
  {
   "cell_type": "code",
   "execution_count": 17,
   "metadata": {},
   "outputs": [],
   "source": [
    "import re\n",
    "\n",
    "#result1 = []\n",
    "\n",
    "#for i in range(size):\n",
    "#    result1.append(sheets['OriginalTweet'][i])\n",
    "#print(result1[test_exp])"
   ]
  },
  {
   "cell_type": "code",
   "execution_count": 18,
   "metadata": {},
   "outputs": [],
   "source": [
    "def simplify_punctuation_and_whitespace(sentence):\n",
    "    #norm_sents = []\n",
    "    #print(\"Normalizing whitespaces and punctuation\\n----------------------------\")\n",
    "    sentence = _replace_urls(sentence)\n",
    "    sentence = _simplify_punctuation(sentence)\n",
    "    sentence = _normalize_whitespace(sentence)\n",
    "    return sentence\n",
    "\n",
    "def _replace_urls(text):\n",
    "    \"\"\"\n",
    "    Get rid of URLs and Mentions\n",
    "    \"\"\"\n",
    "    url_regex = r'(https?:\\/\\/(?:www\\.|(?!www))[a-zA-Z0-9][a-zA-Z0-9-]+[a-zA-Z0-9]\\.[^\\s]{2,}|www\\.[a-zA-Z0-9][a-zA-Z0-9-]+[a-zA-Z0-9]\\.[^\\s]{2,}|https?:\\/\\/(?:www\\.|(?!www))[a-zA-Z0-9]+\\.[^\\s]{2,}|www\\.[a-zA-Z0-9]+\\.[^\\s]{2,})'\n",
    "    text = re.sub(url_regex, \"\", text)\n",
    "    text = re.sub(r'@\\w+', '', text)\n",
    "    \n",
    "    return text\n",
    "\n",
    "def _simplify_punctuation(text):\n",
    "    corrected = str(text)\n",
    "    corrected = re.sub(r'([!?,;])\\1+', r'\\1', corrected)       # simplifie doubled or more complex punctuation\n",
    "    corrected = re.sub(r'\\.(\\.| \\.){1,}', r'...', corrected)   # unify repeted dots\n",
    "    corrected = re.sub(r'â|Â[\\x92]|â|Â[\\x93]', \"'\", corrected) # unrecognized charecters that can be a ( ' )\n",
    "    corrected = re.sub(r'[^\\x20-\\x7E]', \"\", corrected)         # dispose unrecognized charecters \n",
    "    corrected = re.sub(r'([\\w])\\1{2,}', r'\\1', corrected)      # simplifie repeted letters\n",
    "    return corrected\n",
    "\n",
    "def _normalize_whitespace(text):\n",
    "    \"\"\"\n",
    "    This function normalizes whitespaces, removing duplicates.\n",
    "    \"\"\"\n",
    "    corrected = str(text)\n",
    "    corrected = re.sub(r\"//t\",r\"\\t\", corrected)\n",
    "    corrected = re.sub(r\"( )\\1+\",r\"\\1\", corrected)\n",
    "    corrected = re.sub(r\"(\\n)\\1+\",r\"\\1\", corrected)\n",
    "    corrected = re.sub(r\"(\\r)\\1+\",r\"\\1\", corrected)\n",
    "    corrected = re.sub(r\"(\\t)\\1+\",r\"\\1\", corrected)\n",
    "    return corrected.strip(\" \")"
   ]
  },
  {
   "cell_type": "code",
   "execution_count": 19,
   "metadata": {},
   "outputs": [
    {
     "name": "stdout",
     "output_type": "stream",
     "text": [
      "Normalizing whitespaces and punctuation\n",
      "----------------------------\n",
      "Amazon Glitch Stymies Whole Foods, Fresh Grocery Deliveries'As COVID-19 has spread, we've seen a significant increase in people shopping online for groceries, a spokeswoman said in a statement. 'Today this resulted in a systems impact affecting our ...\n"
     ]
    },
    {
     "data": {
      "text/html": [
       "<div>\n",
       "<style scoped>\n",
       "    .dataframe tbody tr th:only-of-type {\n",
       "        vertical-align: middle;\n",
       "    }\n",
       "\n",
       "    .dataframe tbody tr th {\n",
       "        vertical-align: top;\n",
       "    }\n",
       "\n",
       "    .dataframe thead th {\n",
       "        text-align: right;\n",
       "    }\n",
       "</style>\n",
       "<table border=\"1\" class=\"dataframe\">\n",
       "  <thead>\n",
       "    <tr style=\"text-align: right;\">\n",
       "      <th></th>\n",
       "      <th>UserName</th>\n",
       "      <th>ScreenName</th>\n",
       "      <th>Location</th>\n",
       "      <th>TweetAt</th>\n",
       "      <th>OriginalTweet</th>\n",
       "      <th>Sentiment</th>\n",
       "    </tr>\n",
       "  </thead>\n",
       "  <tbody>\n",
       "    <tr>\n",
       "      <th>0</th>\n",
       "      <td>3799</td>\n",
       "      <td>48751</td>\n",
       "      <td>London</td>\n",
       "      <td>16-03-2020</td>\n",
       "      <td>@MeNyrbie @Phil_Gahan @Chrisitv https://t.co/i...</td>\n",
       "      <td>Neutral</td>\n",
       "    </tr>\n",
       "    <tr>\n",
       "      <th>1</th>\n",
       "      <td>3800</td>\n",
       "      <td>48752</td>\n",
       "      <td>UK</td>\n",
       "      <td>16-03-2020</td>\n",
       "      <td>advice Talk to your neighbours family to excha...</td>\n",
       "      <td>Positive</td>\n",
       "    </tr>\n",
       "    <tr>\n",
       "      <th>2</th>\n",
       "      <td>3801</td>\n",
       "      <td>48753</td>\n",
       "      <td>Vagabonds</td>\n",
       "      <td>16-03-2020</td>\n",
       "      <td>Coronavirus Australia: Woolworths to give elde...</td>\n",
       "      <td>Positive</td>\n",
       "    </tr>\n",
       "    <tr>\n",
       "      <th>3</th>\n",
       "      <td>3802</td>\n",
       "      <td>48754</td>\n",
       "      <td>NaN</td>\n",
       "      <td>16-03-2020</td>\n",
       "      <td>My food stock is not the only one which is emp...</td>\n",
       "      <td>Positive</td>\n",
       "    </tr>\n",
       "    <tr>\n",
       "      <th>4</th>\n",
       "      <td>3803</td>\n",
       "      <td>48755</td>\n",
       "      <td>NaN</td>\n",
       "      <td>16-03-2020</td>\n",
       "      <td>Me, ready to go at supermarket during the #COV...</td>\n",
       "      <td>Extremely Negative</td>\n",
       "    </tr>\n",
       "  </tbody>\n",
       "</table>\n",
       "</div>"
      ],
      "text/plain": [
       "   UserName  ScreenName   Location     TweetAt  \\\n",
       "0      3799       48751     London  16-03-2020   \n",
       "1      3800       48752         UK  16-03-2020   \n",
       "2      3801       48753  Vagabonds  16-03-2020   \n",
       "3      3802       48754        NaN  16-03-2020   \n",
       "4      3803       48755        NaN  16-03-2020   \n",
       "\n",
       "                                       OriginalTweet           Sentiment  \n",
       "0  @MeNyrbie @Phil_Gahan @Chrisitv https://t.co/i...             Neutral  \n",
       "1  advice Talk to your neighbours family to excha...            Positive  \n",
       "2  Coronavirus Australia: Woolworths to give elde...            Positive  \n",
       "3  My food stock is not the only one which is emp...            Positive  \n",
       "4  Me, ready to go at supermarket during the #COV...  Extremely Negative  "
      ]
     },
     "execution_count": 19,
     "metadata": {},
     "output_type": "execute_result"
    }
   ],
   "source": [
    "print(\"Normalizing whitespaces and punctuation\\n----------------------------\")\n",
    "#result2 = simplify_punctuation_and_whitespace(result1)\n",
    "orgTweets = sheets['OriginalTweet']\n",
    "orgTweets = orgTweets.apply(simplify_punctuation_and_whitespace)\n",
    "print(orgTweets[test_exp])\n",
    "sheets.head()"
   ]
  },
  {
   "cell_type": "code",
   "execution_count": 20,
   "metadata": {},
   "outputs": [],
   "source": [
    "def unify_whitespace(sentence):\n",
    "    return re.sub(r'\\r|\\n|\\t', ' ',sentence)"
   ]
  },
  {
   "cell_type": "code",
   "execution_count": 21,
   "metadata": {},
   "outputs": [
    {
     "name": "stdout",
     "output_type": "stream",
     "text": [
      "Amazon Glitch Stymies Whole Foods, Fresh Grocery Deliveries'As COVID-19 has spread, we've seen a significant increase in people shopping online for groceries, a spokeswoman said in a statement. 'Today this resulted in a systems impact affecting our ...\n"
     ]
    },
    {
     "data": {
      "text/html": [
       "<div>\n",
       "<style scoped>\n",
       "    .dataframe tbody tr th:only-of-type {\n",
       "        vertical-align: middle;\n",
       "    }\n",
       "\n",
       "    .dataframe tbody tr th {\n",
       "        vertical-align: top;\n",
       "    }\n",
       "\n",
       "    .dataframe thead th {\n",
       "        text-align: right;\n",
       "    }\n",
       "</style>\n",
       "<table border=\"1\" class=\"dataframe\">\n",
       "  <thead>\n",
       "    <tr style=\"text-align: right;\">\n",
       "      <th></th>\n",
       "      <th>UserName</th>\n",
       "      <th>ScreenName</th>\n",
       "      <th>Location</th>\n",
       "      <th>TweetAt</th>\n",
       "      <th>OriginalTweet</th>\n",
       "      <th>Sentiment</th>\n",
       "    </tr>\n",
       "  </thead>\n",
       "  <tbody>\n",
       "    <tr>\n",
       "      <th>0</th>\n",
       "      <td>3799</td>\n",
       "      <td>48751</td>\n",
       "      <td>London</td>\n",
       "      <td>16-03-2020</td>\n",
       "      <td>@MeNyrbie @Phil_Gahan @Chrisitv https://t.co/i...</td>\n",
       "      <td>Neutral</td>\n",
       "    </tr>\n",
       "    <tr>\n",
       "      <th>1</th>\n",
       "      <td>3800</td>\n",
       "      <td>48752</td>\n",
       "      <td>UK</td>\n",
       "      <td>16-03-2020</td>\n",
       "      <td>advice Talk to your neighbours family to excha...</td>\n",
       "      <td>Positive</td>\n",
       "    </tr>\n",
       "    <tr>\n",
       "      <th>2</th>\n",
       "      <td>3801</td>\n",
       "      <td>48753</td>\n",
       "      <td>Vagabonds</td>\n",
       "      <td>16-03-2020</td>\n",
       "      <td>Coronavirus Australia: Woolworths to give elde...</td>\n",
       "      <td>Positive</td>\n",
       "    </tr>\n",
       "    <tr>\n",
       "      <th>3</th>\n",
       "      <td>3802</td>\n",
       "      <td>48754</td>\n",
       "      <td>NaN</td>\n",
       "      <td>16-03-2020</td>\n",
       "      <td>My food stock is not the only one which is emp...</td>\n",
       "      <td>Positive</td>\n",
       "    </tr>\n",
       "    <tr>\n",
       "      <th>4</th>\n",
       "      <td>3803</td>\n",
       "      <td>48755</td>\n",
       "      <td>NaN</td>\n",
       "      <td>16-03-2020</td>\n",
       "      <td>Me, ready to go at supermarket during the #COV...</td>\n",
       "      <td>Extremely Negative</td>\n",
       "    </tr>\n",
       "  </tbody>\n",
       "</table>\n",
       "</div>"
      ],
      "text/plain": [
       "   UserName  ScreenName   Location     TweetAt  \\\n",
       "0      3799       48751     London  16-03-2020   \n",
       "1      3800       48752         UK  16-03-2020   \n",
       "2      3801       48753  Vagabonds  16-03-2020   \n",
       "3      3802       48754        NaN  16-03-2020   \n",
       "4      3803       48755        NaN  16-03-2020   \n",
       "\n",
       "                                       OriginalTweet           Sentiment  \n",
       "0  @MeNyrbie @Phil_Gahan @Chrisitv https://t.co/i...             Neutral  \n",
       "1  advice Talk to your neighbours family to excha...            Positive  \n",
       "2  Coronavirus Australia: Woolworths to give elde...            Positive  \n",
       "3  My food stock is not the only one which is emp...            Positive  \n",
       "4  Me, ready to go at supermarket during the #COV...  Extremely Negative  "
      ]
     },
     "execution_count": 21,
     "metadata": {},
     "output_type": "execute_result"
    }
   ],
   "source": [
    "#result3 = []\n",
    "  \n",
    "#for i in range(size):\n",
    "    #result3.append(re.sub(r'\\r|\\n|\\t', ' ',result2[i])) # unify whitespace\n",
    "orgTweets = orgTweets.apply(unify_whitespace)\n",
    "print(orgTweets[test_exp])\n",
    "sheets.head()"
   ]
  },
  {
   "cell_type": "code",
   "execution_count": 30,
   "metadata": {},
   "outputs": [],
   "source": [
    "from nltk.tokenize import TweetTokenizer\n",
    "import nltk\n",
    "\n",
    "#result4 = []\n",
    "#temp = []\n",
    "#tweet_tokenizer = TweetTokenizer() # Here we use the Tweet Tokenizer for our examples\n",
    "\n",
    "#for i in range(size):\n",
    "    #tokens = tweet_tokenizer.tokenize(result3[i])\n",
    "    #result4.append(tokens)\n",
    "    #num = len(result4[i])\n",
    "    #if num > 3:\n",
    "        #for j in range(num - 3): # faceing a problem with Hashtags with \"?\"\n",
    "            #if result4[i][j] == \"#COVID\" and result4[i][j+1] == \"?\" and result4[i][j+2] == \"19\":\n",
    "                #result4[i][j] = \"#COVID?19\"\n",
    "                #result4[i].pop(j+1)\n",
    "                #result4[i].pop(j+1)\n",
    "                #break\n",
    "\n",
    "#print(result4[test_exp])\n",
    "def tokenize(sentence):\n",
    "    tweet_tokenizer = TweetTokenizer() \n",
    "    tokens = tweet_tokenizer.tokenize(sentence)\n",
    "    return ' '.join(tokens).strip()"
   ]
  },
  {
   "cell_type": "code",
   "execution_count": 31,
   "metadata": {},
   "outputs": [
    {
     "name": "stdout",
     "output_type": "stream",
     "text": [
      "Amazon Glitch Stymies Whole Foods , Fresh Grocery Deliveries'As COVID - 19 has spread , we've seen a significant increase in people shopping online for groceries , a spokeswoman said in a statement . ' Today this resulted in a systems impact affecting our ...\n"
     ]
    },
    {
     "data": {
      "text/html": [
       "<div>\n",
       "<style scoped>\n",
       "    .dataframe tbody tr th:only-of-type {\n",
       "        vertical-align: middle;\n",
       "    }\n",
       "\n",
       "    .dataframe tbody tr th {\n",
       "        vertical-align: top;\n",
       "    }\n",
       "\n",
       "    .dataframe thead th {\n",
       "        text-align: right;\n",
       "    }\n",
       "</style>\n",
       "<table border=\"1\" class=\"dataframe\">\n",
       "  <thead>\n",
       "    <tr style=\"text-align: right;\">\n",
       "      <th></th>\n",
       "      <th>UserName</th>\n",
       "      <th>ScreenName</th>\n",
       "      <th>Location</th>\n",
       "      <th>TweetAt</th>\n",
       "      <th>OriginalTweet</th>\n",
       "      <th>Sentiment</th>\n",
       "    </tr>\n",
       "  </thead>\n",
       "  <tbody>\n",
       "    <tr>\n",
       "      <th>0</th>\n",
       "      <td>3799</td>\n",
       "      <td>48751</td>\n",
       "      <td>London</td>\n",
       "      <td>16-03-2020</td>\n",
       "      <td>@MeNyrbie @Phil_Gahan @Chrisitv https://t.co/i...</td>\n",
       "      <td>Neutral</td>\n",
       "    </tr>\n",
       "    <tr>\n",
       "      <th>1</th>\n",
       "      <td>3800</td>\n",
       "      <td>48752</td>\n",
       "      <td>UK</td>\n",
       "      <td>16-03-2020</td>\n",
       "      <td>advice Talk to your neighbours family to excha...</td>\n",
       "      <td>Positive</td>\n",
       "    </tr>\n",
       "    <tr>\n",
       "      <th>2</th>\n",
       "      <td>3801</td>\n",
       "      <td>48753</td>\n",
       "      <td>Vagabonds</td>\n",
       "      <td>16-03-2020</td>\n",
       "      <td>Coronavirus Australia: Woolworths to give elde...</td>\n",
       "      <td>Positive</td>\n",
       "    </tr>\n",
       "    <tr>\n",
       "      <th>3</th>\n",
       "      <td>3802</td>\n",
       "      <td>48754</td>\n",
       "      <td>NaN</td>\n",
       "      <td>16-03-2020</td>\n",
       "      <td>My food stock is not the only one which is emp...</td>\n",
       "      <td>Positive</td>\n",
       "    </tr>\n",
       "    <tr>\n",
       "      <th>4</th>\n",
       "      <td>3803</td>\n",
       "      <td>48755</td>\n",
       "      <td>NaN</td>\n",
       "      <td>16-03-2020</td>\n",
       "      <td>Me, ready to go at supermarket during the #COV...</td>\n",
       "      <td>Extremely Negative</td>\n",
       "    </tr>\n",
       "  </tbody>\n",
       "</table>\n",
       "</div>"
      ],
      "text/plain": [
       "   UserName  ScreenName   Location     TweetAt  \\\n",
       "0      3799       48751     London  16-03-2020   \n",
       "1      3800       48752         UK  16-03-2020   \n",
       "2      3801       48753  Vagabonds  16-03-2020   \n",
       "3      3802       48754        NaN  16-03-2020   \n",
       "4      3803       48755        NaN  16-03-2020   \n",
       "\n",
       "                                       OriginalTweet           Sentiment  \n",
       "0  @MeNyrbie @Phil_Gahan @Chrisitv https://t.co/i...             Neutral  \n",
       "1  advice Talk to your neighbours family to excha...            Positive  \n",
       "2  Coronavirus Australia: Woolworths to give elde...            Positive  \n",
       "3  My food stock is not the only one which is emp...            Positive  \n",
       "4  Me, ready to go at supermarket during the #COV...  Extremely Negative  "
      ]
     },
     "execution_count": 31,
     "metadata": {},
     "output_type": "execute_result"
    }
   ],
   "source": [
    "orgTweets = orgTweets.apply(tokenize)\n",
    "print(orgTweets[test_exp])\n",
    "sheets.head()"
   ]
  },
  {
   "cell_type": "code",
   "execution_count": 32,
   "metadata": {},
   "outputs": [
    {
     "name": "stdout",
     "output_type": "stream",
     "text": [
      "Cashier at grocery store was sharing his insights on #Covid_19 To prove his credibility he commented \" I'm in Civics class so I know what I'm talking about \" .\n"
     ]
    }
   ],
   "source": [
    "print(orgTweets[6])"
   ]
  },
  {
   "cell_type": "code",
   "execution_count": 33,
   "metadata": {},
   "outputs": [],
   "source": [
    "def normalize_contractions(sentence):\n",
    "    contraction_list = json.loads(open('english_contractions.json', 'r').read())\n",
    "    #norm_sents = []\n",
    "    #print(\"Normalizing contractions\\n----------------------------\")\n",
    "    tokens = sentence.split()\n",
    "    temp = _normalize_contractions_text(tokens, contraction_list)\n",
    "    return ' '.join(temp).strip()\n",
    "\n",
    "def _normalize_contractions_text(token_list, contractions):\n",
    "    \"\"\"\n",
    "    This function normalizes english contractions. exp: I'm --> I am\n",
    "    \"\"\"\n",
    "    new_token_list = []\n",
    "    #token_list = text.split()\n",
    "    for word_pos in range(len(token_list)):\n",
    "        word = token_list[word_pos]\n",
    "        first_upper = False\n",
    "        if word and word[0].isupper():\n",
    "            first_upper = True\n",
    "        if word.lower() in contractions:\n",
    "            replacement = contractions[word.lower()]\n",
    "            if first_upper:\n",
    "                replacement = replacement[0].upper()+replacement[1:]\n",
    "            replacement_tokens = replacement.split()\n",
    "            if len(replacement_tokens)>1:\n",
    "                new_token_list.append(replacement_tokens[0])\n",
    "                new_token_list.append(replacement_tokens[1])\n",
    "            else:\n",
    "                new_token_list.append(replacement_tokens[0])\n",
    "        else:\n",
    "            new_token_list.append(word)\n",
    "    return new_token_list"
   ]
  },
  {
   "cell_type": "code",
   "execution_count": 34,
   "metadata": {},
   "outputs": [
    {
     "name": "stdout",
     "output_type": "stream",
     "text": [
      "Amazon Glitch Stymies Whole Foods , Fresh Grocery Deliveries'As COVID - 19 has spread , we have seen a significant increase in people shopping online for groceries , a spokeswoman said in a statement . ' Today this resulted in a systems impact affecting our ...\n"
     ]
    },
    {
     "data": {
      "text/html": [
       "<div>\n",
       "<style scoped>\n",
       "    .dataframe tbody tr th:only-of-type {\n",
       "        vertical-align: middle;\n",
       "    }\n",
       "\n",
       "    .dataframe tbody tr th {\n",
       "        vertical-align: top;\n",
       "    }\n",
       "\n",
       "    .dataframe thead th {\n",
       "        text-align: right;\n",
       "    }\n",
       "</style>\n",
       "<table border=\"1\" class=\"dataframe\">\n",
       "  <thead>\n",
       "    <tr style=\"text-align: right;\">\n",
       "      <th></th>\n",
       "      <th>UserName</th>\n",
       "      <th>ScreenName</th>\n",
       "      <th>Location</th>\n",
       "      <th>TweetAt</th>\n",
       "      <th>OriginalTweet</th>\n",
       "      <th>Sentiment</th>\n",
       "    </tr>\n",
       "  </thead>\n",
       "  <tbody>\n",
       "    <tr>\n",
       "      <th>0</th>\n",
       "      <td>3799</td>\n",
       "      <td>48751</td>\n",
       "      <td>London</td>\n",
       "      <td>16-03-2020</td>\n",
       "      <td>@MeNyrbie @Phil_Gahan @Chrisitv https://t.co/i...</td>\n",
       "      <td>Neutral</td>\n",
       "    </tr>\n",
       "    <tr>\n",
       "      <th>1</th>\n",
       "      <td>3800</td>\n",
       "      <td>48752</td>\n",
       "      <td>UK</td>\n",
       "      <td>16-03-2020</td>\n",
       "      <td>advice Talk to your neighbours family to excha...</td>\n",
       "      <td>Positive</td>\n",
       "    </tr>\n",
       "    <tr>\n",
       "      <th>2</th>\n",
       "      <td>3801</td>\n",
       "      <td>48753</td>\n",
       "      <td>Vagabonds</td>\n",
       "      <td>16-03-2020</td>\n",
       "      <td>Coronavirus Australia: Woolworths to give elde...</td>\n",
       "      <td>Positive</td>\n",
       "    </tr>\n",
       "    <tr>\n",
       "      <th>3</th>\n",
       "      <td>3802</td>\n",
       "      <td>48754</td>\n",
       "      <td>NaN</td>\n",
       "      <td>16-03-2020</td>\n",
       "      <td>My food stock is not the only one which is emp...</td>\n",
       "      <td>Positive</td>\n",
       "    </tr>\n",
       "    <tr>\n",
       "      <th>4</th>\n",
       "      <td>3803</td>\n",
       "      <td>48755</td>\n",
       "      <td>NaN</td>\n",
       "      <td>16-03-2020</td>\n",
       "      <td>Me, ready to go at supermarket during the #COV...</td>\n",
       "      <td>Extremely Negative</td>\n",
       "    </tr>\n",
       "  </tbody>\n",
       "</table>\n",
       "</div>"
      ],
      "text/plain": [
       "   UserName  ScreenName   Location     TweetAt  \\\n",
       "0      3799       48751     London  16-03-2020   \n",
       "1      3800       48752         UK  16-03-2020   \n",
       "2      3801       48753  Vagabonds  16-03-2020   \n",
       "3      3802       48754        NaN  16-03-2020   \n",
       "4      3803       48755        NaN  16-03-2020   \n",
       "\n",
       "                                       OriginalTweet           Sentiment  \n",
       "0  @MeNyrbie @Phil_Gahan @Chrisitv https://t.co/i...             Neutral  \n",
       "1  advice Talk to your neighbours family to excha...            Positive  \n",
       "2  Coronavirus Australia: Woolworths to give elde...            Positive  \n",
       "3  My food stock is not the only one which is emp...            Positive  \n",
       "4  Me, ready to go at supermarket during the #COV...  Extremely Negative  "
      ]
     },
     "execution_count": 34,
     "metadata": {},
     "output_type": "execute_result"
    }
   ],
   "source": [
    "#result5 = normalize_contractions(result4)\n",
    "#print(result5[test_exp])\n",
    "\n",
    "orgTweets = orgTweets.apply(normalize_contractions)\n",
    "print(orgTweets[test_exp])\n",
    "sheets.head()\n"
   ]
  },
  {
   "cell_type": "code",
   "execution_count": 35,
   "metadata": {},
   "outputs": [],
   "source": [
    "from nltk.corpus import stopwords\n",
    "\n",
    "#result6 = []\n",
    "# This regular expression get rid of tokens with numbers and punctuations \n",
    "def lemmatize_and_remove_stopwords(sentence):\n",
    "    pattern = r'^((\\d|[-+=!?,;:\\/)(\"])(\\d|[-+=!?,;:\\/)(. A-z\"])*|((\\]\\[)|[-!?,;:\\\"$.\\'])+|[. ]+)$'\n",
    "    stop_words = set(stopwords.words('english'))\n",
    "    wnl = nltk.WordNetLemmatizer()\n",
    "    tokens = sentence.split()\n",
    "    lowerCaseTokens = [re.sub(pattern, \"\", t.lower()) for t in tokens]\n",
    "    lemmatizedTokens = [wnl.lemmatize(l) for l in lowerCaseTokens if l and len(l) > 1 and not l in stop_words]\n",
    "    return ' '.join(lemmatizedTokens).strip()\n",
    "\n",
    "#for i in range(size):\n",
    "# Turn the words to lower case \n",
    "#lowerCaseTokens = [re.sub(pattern, \"\", t.lower()) for t in result5[i]]\n",
    "# Lemetize the tokens and remove Stop Words\n",
    "#lemmatizedTokens = [wnl.lemmatize(l) for l in lowerCaseTokens if l and len(l) > 1 and not l in stop_words]\n",
    "#result6.append(lemmatizedTokens)\n",
    "\n",
    "#print(result6[test_exp])\n",
    "#print(result6[400:405]) "
   ]
  },
  {
   "cell_type": "code",
   "execution_count": 36,
   "metadata": {},
   "outputs": [
    {
     "name": "stdout",
     "output_type": "stream",
     "text": [
      "amazon glitch stymy whole food fresh grocery deliveries'as covid spread seen significant increase people shopping online grocery spokeswoman said statement today resulted system impact affecting\n",
      "400    provider feel sick consumer feel sick seek med...\n",
      "401    amzn new article amazon delivery infrastructur...\n",
      "402    shopkeeper selling mask highly price r actual ...\n",
      "403    would love practice social distancing occupati...\n",
      "404    fear panic seems gripping uk first time today ...\n",
      "Name: OriginalTweet, dtype: object\n"
     ]
    }
   ],
   "source": [
    "orgTweets = orgTweets.apply(lemmatize_and_remove_stopwords)\n",
    "print(orgTweets[test_exp])\n",
    "print(orgTweets[400:405]) \n"
   ]
  },
  {
   "cell_type": "code",
   "execution_count": 37,
   "metadata": {},
   "outputs": [
    {
     "name": "stdout",
     "output_type": "stream",
     "text": [
      "\n"
     ]
    }
   ],
   "source": [
    "print(orgTweets[16])"
   ]
  },
  {
   "cell_type": "code",
   "execution_count": 38,
   "metadata": {},
   "outputs": [],
   "source": [
    "def ploter(number, all_hash_freq):\n",
    "    import matplotlib.pyplot as plt \n",
    "   \n",
    "    #left = [2, 4, 6, 8, 10, 12, 14, 16, 18, 20]\n",
    "    left = [i for i in range(number)]\n",
    "\n",
    "    height = [all_hash_freq[key[0]] for key in all_hash_freq.most_common(20)]\n",
    "  \n",
    "    tick_label = [key[0] for key in all_hash_freq.most_common(20)]\n",
    "\n",
    "    plt.subplots(figsize=(15, 5))\n",
    "    plt.bar(left, height[:number], tick_label = tick_label[:number], \n",
    "        width = 0.8, color = 'black') \n",
    "  \n",
    "    plt.xlabel('Hashtags')\n",
    "    plt.xticks(rotation=45)\n",
    "    plt.ylabel('No.') \n",
    "    plt.title('Common Hashtags') \n",
    "    plt.grid()\n",
    "    plt.show() "
   ]
  },
  {
   "cell_type": "code",
   "execution_count": 26,
   "metadata": {},
   "outputs": [
    {
     "data": {
      "text/plain": [
       "[('#coronavirus', 15876),\n",
       " ('#covid19', 4815),\n",
       " ('#covid_19', 3147),\n",
       " ('#covid2019', 1662),\n",
       " ('#toiletpaper', 1610),\n",
       " ('#covid', 1223),\n",
       " ('#socialdistancing', 933),\n",
       " ('#coronacrisis', 763),\n",
       " ('#pandemic', 482),\n",
       " ('#stayhome', 459),\n",
       " ('#coronavirusoutbreak', 437),\n",
       " ('#coronaviruspandemic', 436),\n",
       " ('#corona', 426),\n",
       " ('#covid-19', 398),\n",
       " ('#lockdown', 386),\n",
       " ('#retail', 383),\n",
       " ('#stayathome', 381),\n",
       " ('#supermarket', 371),\n",
       " ('#quarantine', 363),\n",
       " ('#stayhomesavelives', 357)]"
      ]
     },
     "execution_count": 26,
     "metadata": {},
     "output_type": "execute_result"
    }
   ],
   "source": [
    "\"\"\"\n",
    "    Here we check the most common Hashtags\n",
    "\"\"\"\n",
    "all_hash_freq = Counter()\n",
    "\n",
    "for i in range(size):\n",
    "    all_hash_freq.update(token for token in result6[i] if token[0] == \"#\")\n",
    "    \n",
    "all_hash_freq.most_common(20)"
   ]
  },
  {
   "cell_type": "code",
   "execution_count": 27,
   "metadata": {},
   "outputs": [
    {
     "data": {
      "image/png": "[encoded data removed]",
      "text/plain": [
       "<Figure size 1080x360 with 1 Axes>"
      ]
     },
     "metadata": {
      "needs_background": "light"
     },
     "output_type": "display_data"
    }
   ],
   "source": [
    "ploter(20 ,all_hash_freq)"
   ]
  },
  {
   "cell_type": "code",
   "execution_count": 28,
   "metadata": {},
   "outputs": [
    {
     "name": "stdout",
     "output_type": "stream",
     "text": [
      "[('covid', 10502), ('price', 8776), ('store', 8095), ('supermarket', 7247), ('food', 6954), ('grocery', 6491), ('people', 5477), ('consumer', 4869), ('shopping', 3348), ('online', 3318), ('need', 3210), ('time', 3097), ('get', 3018), ('worker', 2859), ('pandemic', 2653), ('hand', 2628), ('u', 2608), ('go', 2450), ('panic', 2410), ('like', 2384)]\n",
      "\n",
      "[('iluminatis', 1), ('iluminati', 1), ('fintwits', 1), ('three-pack', 1), ('tonight.wait', 1), ('environ', 1), ('lett', 1), ('subdued', 1), ('foreseen', 1), ('prices.contac', 1), ('rawalpindi', 1), ('pmsg', 1), ('benny', 1), ('liban', 1), ('marco', 1), ('lauro', 1), ('setterfield', 1), ('lintao', 1), ('spikesas', 1), ('chapple', 1), ('phoenix-area', 1), ('stasis', 1), ('adqcc', 1), ('luxuryhealth', 1), ('luxuryreal-time', 1), ('second-largest', 1), ('penelope', 1), ('aconsumer', 1), ('portalto', 1), ('choked', 1), ('prejudice', 1), ('misperceptions', 1), ('authenticate', 1), ('sneakerheads', 1), ('agtech', 1), ('traction', 1), ('ramp-ups', 1), ('products.while', 1), ('strict.medicine', 1), ('sunset', 1), ('squeo', 1), ('carifika', 1), ('reservoirsspeaker', 1), ('jaffrikeep', 1), (\"bullion's\", 1), ('appeal.it', 1), ('rejecting', 1), ('martinsville', 1), ('rift', 1), ('whethe', 1)]\n"
     ]
    }
   ],
   "source": [
    "\"\"\"\n",
    "    Here we check the most common words\n",
    "\"\"\"\n",
    "all_words_freq = Counter()\n",
    "\n",
    "for i in range(size):\n",
    "    all_words_freq.update(w for w in result6[i] if w[0] != \"#\")\n",
    "    \n",
    "print((all_words_freq.most_common(20)))\n",
    "print()\n",
    "print(all_words_freq.most_common()[-50:])"
   ]
  },
  {
   "cell_type": "code",
   "execution_count": 29,
   "metadata": {},
   "outputs": [
    {
     "data": {
      "image/png": "[encoded data removed]",
      "text/plain": [
       "<Figure size 1080x360 with 1 Axes>"
      ]
     },
     "metadata": {
      "needs_background": "light"
     },
     "output_type": "display_data"
    }
   ],
   "source": [
    "ploter(20, all_words_freq)"
   ]
  },
  {
   "cell_type": "code",
   "execution_count": 30,
   "metadata": {},
   "outputs": [
    {
     "data": {
      "text/plain": [
       "[(('grocery', 'store'), 5019),\n",
       " (('hand', 'sanitizer'), 1487),\n",
       " (('#coronavirus', '#covid19'), 1373),\n",
       " (('online', 'shopping'), 1302),\n",
       " (('toilet', 'paper'), 1231),\n",
       " (('#covid19', '#coronavirus'), 1156),\n",
       " (('panic', 'buying'), 1064),\n",
       " (('oil', 'price'), 926),\n",
       " (('covid', 'pandemic'), 885),\n",
       " (('social', 'distancing'), 627),\n",
       " (('due', 'covid'), 557),\n",
       " (('food', 'bank'), 524),\n",
       " (('store', 'worker'), 523),\n",
       " (('stay', 'home'), 483),\n",
       " (('supermarket', 'shelf'), 470),\n",
       " (('supply', 'chain'), 466),\n",
       " (('#coronavirus', 'pandemic'), 399),\n",
       " (('gas', 'price'), 388),\n",
       " (('retail', 'store'), 379),\n",
       " (('covid', 'crisis'), 377)]"
      ]
     },
     "execution_count": 30,
     "metadata": {},
     "output_type": "execute_result"
    }
   ],
   "source": [
    "from iteration_utilities import Iterable\n",
    "\n",
    "\"\"\"\n",
    "    Here we check the most common duos of words\n",
    "\"\"\"\n",
    "\n",
    "biwords_freq = Counter()\n",
    "for i in range(size):\n",
    "    biwords_freq.update(Iterable(result6[i]).successive(2).as_counter())\n",
    "    \n",
    "biwords_freq.most_common(20)"
   ]
  },
  {
   "cell_type": "code",
   "execution_count": 31,
   "metadata": {},
   "outputs": [
    {
     "name": "stdout",
     "output_type": "stream",
     "text": [
      "[('UnKnown', 36090), ('US', 19154), ('GB', 8903), ('IN', 3383), ('CA', 2780), ('AU', 1705), ('ZA', 740), ('NG', 513), ('DE', 426), ('IE', 388), ('PK', 345), ('AE', 342), ('FR', 316), ('CU', 308), ('NZ', 244), ('NL', 244), ('SG', 239), ('ES', 239), ('KE', 232), ('CN', 209), ('PH', 206), ('MY', 194), ('IT', 173), ('BE', 166), ('CH', 148), ('GE', 148), ('BR', 148), ('GH', 142), ('UG', 142), ('BD', 140), ('HK', 132), ('CY', 118), ('SA', 97), ('LK', 97), ('PT', 92), ('JP', 92), ('JM', 74), ('GR', 70), ('TH', 69), ('LB', 68), ('QA', 63), ('AR', 62), ('TR', 62), ('SE', 61), ('FI', 59), ('EG', 59), ('OM', 53), ('ID', 51), ('NO', 50), ('DK', 49), ('MN', 44), ('MX', 44), ('AT', 43), ('IL', 42), ('RU', 40), ('FJ', 40), ('TZ', 38), ('PL', 38), ('VN', 33), ('KW', 32), ('KR', 31), ('UA', 28), ('RW', 28), ('LU', 27), ('HU', 26), ('MA', 26), ('DO', 26), ('NP', 26), ('IQ', 25), ('CO', 21), ('BH', 20), ('CM', 19), ('MT', 19), ('ZW', 18), ('JO', 18), ('CR', 17), ('TW', 16), ('SI', 15), ('BG', 15), ('SL', 15), ('AF', 14), ('PR', 14), ('KY', 13), ('JE', 13), ('MU', 13), ('EC', 13), ('BO', 11), ('LT', 10), ('CZ', 10), ('AL', 10), ('ZM', 9), ('MW', 9), ('MM', 9), ('VE', 8), ('UY', 8), ('GG', 7), ('AZ', 7), ('CD', 7), ('GY', 7), ('PA', 7), ('MO', 6), ('CL', 5), ('SK', 5), ('IR', 5), ('TL', 5), ('SO', 5), ('ET', 5), ('BT', 5), ('GM', 5), ('LY', 5), ('BY', 5), ('IM', 4), ('MK', 4), ('BB', 4), ('BM', 4), ('PG', 4), ('CI', 4), ('RS', 3), ('RO', 3), ('CV', 3), ('ML', 3), ('BW', 3), ('SV', 3), ('AI', 3), ('LS', 3), ('TO', 3), ('KH', 2), ('PE', 2), ('BZ', 2), ('BJ', 2), ('KZ', 2), ('HR', 2), ('ER', 1), ('PS', 1), ('AD', 1), ('MG', 1), ('SS', 1), ('GI', 1), ('CG', 1), ('SY', 1), ('DM', 0), ('MV', 0), ('AQ', 0), ('WS', 0), ('CF', 0), ('HN', 0), ('SZ', 0), ('TN', 0), ('GN', 0), ('PY', 0), ('SN', 0), ('GP', 0), ('GD', 0), ('EE', 0), ('GT', 0), ('SD', 0), ('NA', 0), ('AM', 0), ('BS', 0), ('IS', 0), ('MC', 0), ('NI', 0), ('SC', 0), ('LC', 0), ('NE', 0), ('LV', 0), ('NU', 0), ('KI', 0)]\n"
     ]
    }
   ],
   "source": [
    "from geotext import GeoText\n",
    "\n",
    "\n",
    "\"\"\"\n",
    "    Using Geotext we can detect each city/country and refer it to the right country\n",
    "\"\"\"\n",
    "\n",
    "location_data = sheets['Location']\n",
    "Contry_tweets = Counter()\n",
    "locations = []\n",
    "for m in range(size):\n",
    "    locations.append([])\n",
    "\n",
    "for i in range(size):\n",
    "    hash_count = [token for token in result6[i] if token[0] == \"#\"] # The number of Hashtags in this ith tweet\n",
    "    if isinstance(location_data[i], str):\n",
    "        #print(location_data[i])\n",
    "        places = GeoText(location_data[i]).country_mentions \n",
    "        for key in places:\n",
    "            locations[i].append(key)\n",
    "        if not locations[i]:\n",
    "            tmp = re.search(r'(^USA$)|(^US$)', location_data[i])\n",
    "            if tmp:\n",
    "                locations[i].append(\"US\")\n",
    "            tmp = re.search(r'(^UK$)', location_data[i])\n",
    "            if tmp:\n",
    "                locations[i].append(\"GB\")\n",
    "        if not locations[i]:\n",
    "            locations[i].append(\"UnKnown\")\n",
    "        #print(locations[i])\n",
    "    else:\n",
    "        locations[i].append(\"UnKnown\")\n",
    "    \n",
    "    Contry_tweets.update({locations[i][0]: len(hash_count)})\n",
    "print(Contry_tweets.most_common())"
   ]
  },
  {
   "cell_type": "code",
   "execution_count": 32,
   "metadata": {},
   "outputs": [],
   "source": [
    "Locations_to_plot = Counter()\n",
    "for key, value in Contry_tweets.most_common()[1:30]:\n",
    "    Locations_to_plot.update({key : value})"
   ]
  },
  {
   "cell_type": "code",
   "execution_count": 33,
   "metadata": {},
   "outputs": [
    {
     "data": {
      "image/png": "[encoded data removed]",
      "text/plain": [
       "<Figure size 432x288 with 1 Axes>"
      ]
     },
     "metadata": {
      "needs_background": "light"
     },
     "output_type": "display_data"
    },
    {
     "data": {
      "text/plain": [
       "<matplotlib.axes._subplots.AxesSubplot at 0x23e2b3c8fd0>"
      ]
     },
     "execution_count": 33,
     "metadata": {},
     "output_type": "execute_result"
    }
   ],
   "source": [
    "LocationFreqdist = nltk.FreqDist(Locations_to_plot)\n",
    "LocationFreqdist.plot(30,cumulative=False)"
   ]
  },
  {
   "cell_type": "code",
   "execution_count": 34,
   "metadata": {},
   "outputs": [
    {
     "name": "stdout",
     "output_type": "stream",
     "text": [
      "[('Positive', 11422), ('Negative', 9917), ('Neutral', 7713), ('Extremely Positive', 6624), ('Extremely Negative', 5481)]\n"
     ]
    }
   ],
   "source": [
    "sentiment_count = Counter()\n",
    "sentiment_count.update(sheets['Sentiment'])\n",
    "print(sentiment_count.most_common())"
   ]
  },
  {
   "cell_type": "code",
   "execution_count": 35,
   "metadata": {},
   "outputs": [
    {
     "data": {
      "image/png": "[encoded data removed]",
      "text/plain": [
       "<Figure size 432x288 with 1 Axes>"
      ]
     },
     "metadata": {},
     "output_type": "display_data"
    }
   ],
   "source": [
    "import matplotlib.pyplot as plt\n",
    "\n",
    "labels = [i for i in sentiment_count]\n",
    "sizes = [j for i, j in sentiment_count.most_common()]\n",
    "\n",
    "fig1, ax1 = plt.subplots()\n",
    "ax1.pie(sizes, labels=labels, autopct='%1.1f%%',\n",
    "        shadow=True, startangle=90)\n",
    "ax1.axis('equal')\n",
    "ax1.set_title(\"Sentiment Commonity\", pad=50)\n",
    "plt.show()"
   ]
  },
  {
   "cell_type": "code",
   "execution_count": 36,
   "metadata": {},
   "outputs": [],
   "source": [
    "def unusual_words(text):\n",
    "    text_vocab = set(w.lower() for w in text if w.isalpha())\n",
    "    english_vocab = set(w.lower() for w in nltk.corpus.words.words())\n",
    "    unusual = text_vocab - english_vocab\n",
    "    return sorted(unusual)"
   ]
  },
  {
   "cell_type": "code",
   "execution_count": 37,
   "metadata": {},
   "outputs": [],
   "source": [
    "all_words = []\n",
    "for tokens in result6:\n",
    "    for token in tokens:\n",
    "        all_words.append(token)"
   ]
  },
  {
   "cell_type": "code",
   "execution_count": 38,
   "metadata": {
    "scrolled": true
   },
   "outputs": [
    {
     "name": "stdout",
     "output_type": "stream",
     "text": [
      "15352\n",
      "['advant', 'advantageof', 'advertised', 'advertisin', 'adviceif', 'advisersthanks', 'advises', 'advising', 'advisorythe', 'advntge', 'advocating', 'aec', 'aeco', 'aedc', 'aedt', 'aen', 'aerated', 'aerion', 'aerosolized', 'aerospace', 'aest', 'aetna', 'af', 'afdb', 'afeez', 'afer', 'affectiva', 'affiliated', 'affirmed', 'affirming', 'affluenza', 'affordability', 'affordably', 'afforded', 'affording', 'affrai', 'affraid', 'afghanistan', 'afn', 'afp', 'afr', 'afraidinslee', 'africa', 'africaannounces', 'africanunion', 'africathis', 'afrorack', 'afry', 'afsc', 'afstand']\n"
     ]
    }
   ],
   "source": [
    "\"\"\"\n",
    "    Here we can find the possible wrong words we found in our Tweets\n",
    "\"\"\"\n",
    "possible_wrong_words = unusual_words(all_words)\n",
    "print(len(possible_wrong_words))\n",
    "print(possible_wrong_words[200:250])"
   ]
  },
  {
   "cell_type": "code",
   "execution_count": 39,
   "metadata": {},
   "outputs": [],
   "source": [
    "from gensim import corpora\n",
    "\n",
    "id2word = corpora.Dictionary(result6) # turn data to dictionary\n",
    "corpus = [id2word.doc2bow(text) for text in result6]"
   ]
  },
  {
   "cell_type": "code",
   "execution_count": 40,
   "metadata": {},
   "outputs": [],
   "source": [
    "import gensim\n",
    "\"\"\"\n",
    "    Generating the topics\n",
    "\"\"\"\n",
    "lda = gensim.models.LdaModel(corpus=corpus, id2word=id2word, num_topics=4, passes=10)"
   ]
  },
  {
   "cell_type": "code",
   "execution_count": 41,
   "metadata": {},
   "outputs": [
    {
     "data": {
      "text/plain": [
       "[(0,\n",
       "  '0.055*\"#coronavirus\" + 0.025*\"#covid19\" + 0.025*\"hand\" + 0.023*\"sanitizer\" + 0.016*\"mask\" + 0.013*\"#socialdistancing\"'),\n",
       " (1,\n",
       "  '0.023*\"supermarket\" + 0.023*\"store\" + 0.020*\"grocery\" + 0.018*\"people\" + 0.013*\"food\" + 0.012*\"#coronavirus\"'),\n",
       " (2,\n",
       "  '0.035*\"covid\" + 0.028*\"consumer\" + 0.012*\"online\" + 0.012*\"food\" + 0.009*\"help\" + 0.008*\"pandemic\"'),\n",
       " (3,\n",
       "  '0.053*\"price\" + 0.021*\"covid\" + 0.016*\"#coronavirus\" + 0.011*\"oil\" + 0.010*\"demand\" + 0.009*\"pandemic\"')]"
      ]
     },
     "execution_count": 41,
     "metadata": {},
     "output_type": "execute_result"
    }
   ],
   "source": [
    "lda.print_topics(num_words=6)"
   ]
  },
  {
   "cell_type": "code",
   "execution_count": 29,
   "metadata": {},
   "outputs": [
    {
     "data": {
      "text/html": [
       "\n",
       "<link rel=\"stylesheet\" type=\"text/css\" href=\"https://cdn.rawgit.com/bmabey/pyLDAvis/files/ldavis.v1.0.0.css\">\n",
       "\n",
       "\n",
       "<div id=\"ldavis_el1162818551610817446742019288\"></div>\n",
       "<script type=\"text/javascript\">\n",
       "\n",
       "var ldavis_el1162818551610817446742019288_data = {\"mdsDat\": {\"x\": [-0.1061978968962422, 0.22728962537526648, -0.20739454806057284, 0.0863028195815483], \"y\": [0.23430638228838904, -0.02517078865496332, -0.1656565598398247, -0.04347903379360099], \"topics\": [1, 2, 3, 4], \"cluster\": [1, 1, 1, 1], \"Freq\": [15.826127052307129, 39.16445541381836, 18.039165496826172, 26.97025489807129]}, \"tinfo\": {\"Term\": [\"price\", \"consumer\", \"food\", \"covid\", \"online\", \"supermarket\", \"store\", \"grocery\", \"oil\", \"shopping\", \"#coronavirus\", \"hand\", \"sanitizer\", \"go\", \"people\", \"demand\", \"market\", \"going\", \"mask\", \"pandemic\", \"#COVID19\", \"#toiletpaper\", \"global\", \"get\", \"due\", \"help\", \"behavior\", \"paper\", \"amp\", \"low\", \"behavior\", \"scam\", \"protection\", \"medical\", \"brand\", \"driver\", \"information\", \"test\", \"healthcare\", \"drug\", \"testing\", \"scammer\", \"ppe\", \"email\", \"critical\", \"webinar\", \"interesting\", \"advantage\", \"hero\", \"gouging\", \"personal\", \"federal\", \"equipment\", \"raise\", \"complaint\", \"kit\", \"executive\", \"protective\", \"truck\", \"alert\", \"click\", \"consumer\", \"report\", \"related\", \"changing\", \"sanitizer\", \"health\", \"insight\", \"hand\", \"#Coronavirus\", \"#COVID19\", \"coronavirus\", \"mask\", \"check\", \"covid\", \"#coronavirus\", \"fight\", \"new\", \"product\", \"company\", \"#covid19\", \"price\", \"pandemic\", \"face\", \"help\", \"worker\", \"via\", \"#toiletpaper\", \"paper\", \"toilet\", \"#SocialDistancing\", \"thing\", \"shelf\", \"got\", \"really\", \"#socialdistancing\", \"went\", \"wear\", \"someone\", \"wearing\", \"feel\", \"everything\", \"soap\", \"alcohol\", \"wash\", \"away\", \"#StayHomeSaveLives\", \"outside\", \"man\", \"else\", \"distance\", \"queue\", \"woman\", \"roll\", \"empty\", \"aisle\", \"something\", \"go\", \"going\", \"#StayAtHome\", \"supermarket\", \"grocery\", \"get\", \"#Covid_19\", \"everyone\", \"people\", \"like\", \"#coronavirus\", \"store\", \"glove\", \"#COVID2019\", \"think\", \"stop\", \"one\", \"hand\", \"cannot\", \"line\", \"buy\", \"day\", \"#COVID19\", \"sanitizer\", \"mask\", \"need\", \"make\", \"time\", \"home\", \"know\", \"work\", \"food\", \"worker\", \"oil\", \"global\", \"low\", \"economy\", \"economic\", \"spending\", \"drop\", \"fall\", \"china\", \"trend\", \"lower\", \"gas\", \"research\", \"rate\", \"russia\", \"sentiment\", \"opec\", \"fuel\", \"output\", \"confidence\", \"gold\", \"falling\", \"energy\", \"record\", \"decline\", \"recession\", \"#oil\", \"crude\", \"growth\", \"chinese\", \"died\", \"price\", \"market\", \"commodity\", \"cut\", \"trump\", \"impact\", \"march\", \"consumer\", \"covid\", \"amid\", \"pandemic\", \"year\", \"world\", \"crisis\", \"#coronavirus\", \"due\", \"hit\", \"demand\", \"could\", \"industry\", \"coronavirus\", \"u\", \"#COVID19\", \"via\", \"online\", \"bank\", \"chain\", \"support\", \"community\", \"april\", \"closed\", \"meet\", \"restriction\", \"donation\", \"bill\", \"donate\", \"card\", \"pantry\", \"payment\", \"forced\", \"program\", \"paid\", \"closure\", \"fund\", \"restaurant\", \"insurance\", \"pay\", \"easter\", \"shut\", \"rent\", \"senior\", \"monday\", \"closing\", \"deliver\", \"register\", \"retail\", \"service\", \"amp\", \"ensure\", \"food\", \"shopping\", \"retailer\", \"demand\", \"customer\", \"delivery\", \"covid\", \"help\", \"measure\", \"business\", \"supply\", \"order\", \"due\", \"job\", \"employee\", \"pandemic\", \"home\", \"worker\", \"store\", \"essential\", \"need\", \"grocery\", \"new\", \"many\", \"people\", \"time\", \"u\", \"supermarket\"], \"Freq\": [7759.0, 5493.0, 5936.0, 11384.0, 3168.0, 6506.0, 7245.0, 6336.0, 1676.0, 3149.0, 11151.0, 3261.0, 2933.0, 2538.0, 4813.0, 2484.0, 1286.0, 2057.0, 2137.0, 2973.0, 3475.0, 1501.0, 798.0, 2838.0, 1676.0, 2111.0, 679.0, 1330.0, 1312.0, 696.0, 678.6803588867188, 529.2440185546875, 490.3843994140625, 403.0794677734375, 393.80767822265625, 398.90386962890625, 343.68780517578125, 328.3715515136719, 272.4217529296875, 264.5352783203125, 215.854248046875, 206.49575805664062, 220.9855194091797, 200.3306884765625, 205.54766845703125, 195.51495361328125, 206.73048400878906, 186.86416625976562, 182.66693115234375, 174.79296875, 175.13546752929688, 169.92361450195312, 164.6141815185547, 169.52650451660156, 145.84420776367188, 141.8523406982422, 151.70294189453125, 138.82980346679688, 134.41552734375, 128.3582305908203, 131.52781677246094, 3176.134521484375, 502.84698486328125, 244.68235778808594, 212.26150512695312, 1129.258544921875, 485.5328063964844, 244.09376525878906, 1076.9097900390625, 715.06201171875, 995.0848388671875, 680.523681640625, 719.813720703125, 373.870361328125, 1759.2763671875, 1395.31201171875, 305.4139709472656, 583.5518798828125, 425.2416076660156, 415.1181945800781, 456.58343505859375, 957.8488159179688, 554.6158447265625, 358.5215148925781, 432.62506103515625, 455.894775390625, 380.2562255859375, 1500.4241943359375, 1330.022705078125, 1251.9073486328125, 1239.02392578125, 1048.4722900390625, 887.3929443359375, 760.4419555664062, 601.4363403320312, 573.9649658203125, 517.2628784179688, 494.8800048828125, 490.6182556152344, 468.2818298339844, 462.15936279296875, 464.55352783203125, 443.47955322265625, 438.0855407714844, 406.966552734375, 400.22930908203125, 746.59326171875, 357.8728942871094, 348.7095947265625, 342.85919189453125, 340.21697998046875, 324.4397277832031, 321.51739501953125, 323.1898193359375, 307.5035095214844, 307.12359619140625, 301.4267578125, 2531.572998046875, 2048.793212890625, 403.1454162597656, 5578.06884765625, 5070.47607421875, 2409.74609375, 1682.451904296875, 814.1143188476562, 3782.565673828125, 1997.49169921875, 7743.56884765625, 5231.85888671875, 648.75439453125, 1262.6695556640625, 800.5928955078125, 733.3187866210938, 1580.1368408203125, 2184.4814453125, 886.9884033203125, 799.3855590820312, 950.4387817382812, 1343.6572265625, 2033.504638671875, 1803.6485595703125, 1416.779296875, 1606.0189208984375, 1089.4658203125, 1529.161376953125, 1266.6170654296875, 948.7969970703125, 1027.0626220703125, 1443.6453857421875, 1109.696533203125, 1676.006591796875, 798.1600952148438, 696.012451171875, 559.0243530273438, 481.583984375, 443.05767822265625, 398.4044189453125, 372.04058837890625, 373.61187744140625, 324.28228759765625, 307.5692138671875, 565.11474609375, 258.9493408203125, 225.3438720703125, 217.82398986816406, 220.83595275878906, 215.0257568359375, 205.87240600585938, 202.9812774658203, 192.13345336914062, 188.82986450195312, 193.90953063964844, 183.24099731445312, 182.94410705566406, 165.58612060546875, 165.62843322753906, 157.58285522460938, 155.1528778076172, 158.08570861816406, 157.77523803710938, 256.0750427246094, 6801.2939453125, 1185.5228271484375, 219.09971618652344, 519.5010986328125, 363.9388122558594, 778.8338623046875, 392.08184814453125, 1966.061767578125, 2864.45556640625, 509.0857238769531, 1013.3876953125, 450.3881530761719, 482.1852111816406, 642.1253051757812, 1753.6328125, 639.9442138671875, 313.8511047363281, 694.3919677734375, 455.3000793457031, 359.6705017089844, 464.4422302246094, 446.48333740234375, 422.3698425292969, 379.0474548339844, 3167.618896484375, 809.650146484375, 789.9146728515625, 770.0895385742188, 523.6511840820312, 465.4716796875, 366.9300842285156, 356.5107421875, 249.8863983154297, 228.3181915283203, 232.51878356933594, 221.39894104003906, 210.391845703125, 184.25991821289062, 193.9998321533203, 189.01913452148438, 181.18734741210938, 180.5261993408203, 177.63165283203125, 183.40737915039062, 426.8458251953125, 177.58201599121094, 523.0928955078125, 259.65948486328125, 155.16220092773438, 154.44442749023438, 179.35252380371094, 174.79917907714844, 143.8948974609375, 139.38278198242188, 146.1510772705078, 894.4441528320312, 931.7569580078125, 1178.0855712890625, 228.9189453125, 4491.9228515625, 2469.59814453125, 418.0592956542969, 1789.2080078125, 858.55419921875, 987.0439453125, 6263.64990234375, 1464.7572021484375, 346.64276123046875, 1047.6285400390625, 1052.6719970703125, 591.6681518554688, 1036.099365234375, 548.6220092773438, 680.4254760742188, 1405.6856689453125, 1126.443603515625, 1254.9093017578125, 2012.9697265625, 706.326171875, 1017.2061157226562, 1265.8875732421875, 786.6099853515625, 686.6694946289062, 1030.4212646484375, 857.041748046875, 770.440185546875, 927.7171630859375], \"Total\": [7759.0, 5493.0, 5936.0, 11384.0, 3168.0, 6506.0, 7245.0, 6336.0, 1676.0, 3149.0, 11151.0, 3261.0, 2933.0, 2538.0, 4813.0, 2484.0, 1286.0, 2057.0, 2137.0, 2973.0, 3475.0, 1501.0, 798.0, 2838.0, 1676.0, 2111.0, 679.0, 1330.0, 1312.0, 696.0, 679.4485473632812, 529.9772338867188, 491.135498046875, 403.8330993652344, 394.55780029296875, 399.6729736328125, 344.4354553222656, 329.1337585449219, 273.1850280761719, 265.2871398925781, 216.6186981201172, 207.23178100585938, 221.7781982421875, 201.07791137695312, 206.3175048828125, 196.26885986328125, 207.54483032226562, 187.62127685546875, 183.4342498779297, 175.52984619140625, 175.89585876464844, 170.67510986328125, 165.36270141601562, 170.323486328125, 146.58804321289062, 142.5936737060547, 152.50430297851562, 139.59588623046875, 135.17507934570312, 129.09754943847656, 132.32127380371094, 5493.232421875, 728.1651611328125, 306.7244567871094, 253.0927734375, 2933.359375, 872.0156860351562, 314.01519775390625, 3261.843505859375, 1955.71826171875, 3475.95068359375, 1916.327392578125, 2137.044921875, 672.1544799804688, 11384.744140625, 11151.0185546875, 496.7366943359375, 1969.0726318359375, 1025.293701171875, 1032.4730224609375, 1311.3973388671875, 7759.68408203125, 2973.98974609375, 949.6455078125, 2111.470703125, 2820.708984375, 1476.7208251953125, 1501.0916748046875, 1330.693359375, 1252.5732421875, 1239.708740234375, 1049.1632080078125, 888.075927734375, 761.1270751953125, 602.1207275390625, 574.681640625, 517.9375610351562, 495.5562438964844, 491.295166015625, 468.9532775878906, 462.8468322753906, 465.25103759765625, 444.17181396484375, 438.80096435546875, 407.6444091796875, 400.9162902832031, 747.9671630859375, 358.54925537109375, 349.3955993652344, 343.53564453125, 340.8939514160156, 325.1069641113281, 322.1928405761719, 323.87457275390625, 308.1717834472656, 307.79278564453125, 302.11151123046875, 2538.724609375, 2057.697998046875, 408.4667053222656, 6506.2177734375, 6336.7998046875, 2838.3154296875, 1939.479248046875, 882.5288696289062, 4813.4326171875, 2386.705078125, 11151.0185546875, 7245.2607421875, 693.53369140625, 1502.33154296875, 886.3295288085938, 809.4644775390625, 2111.759765625, 3261.843505859375, 1046.9024658203125, 919.7957763671875, 1153.9976806640625, 1866.342041015625, 3475.95068359375, 2933.359375, 2137.044921875, 2795.041015625, 1542.688232421875, 2872.9697265625, 2393.763427734375, 1255.5933837890625, 1572.810546875, 5936.00830078125, 2820.708984375, 1676.754150390625, 798.992919921875, 696.7791748046875, 559.7872924804688, 482.3443298339844, 443.8265380859375, 399.1651916503906, 372.8121032714844, 374.3916320800781, 325.0656433105469, 308.3333740234375, 566.813720703125, 259.75518798828125, 226.11119079589844, 218.5694122314453, 221.59559631347656, 215.77345275878906, 206.62754821777344, 203.7324981689453, 192.88925170898438, 189.5853729248047, 194.69198608398438, 183.99842834472656, 183.7103271484375, 166.3331298828125, 166.37655639648438, 158.32383728027344, 155.89498901367188, 158.84510803222656, 158.55377197265625, 257.54913330078125, 7759.68408203125, 1286.674560546875, 227.06814575195312, 586.655517578125, 398.0029602050781, 1053.5401611328125, 514.538818359375, 5493.232421875, 11384.744140625, 925.2963256835938, 2973.98974609375, 774.4138793945312, 893.3951416015625, 1578.30224609375, 11151.0185546875, 1676.564453125, 449.4870300292969, 2484.114501953125, 1057.6690673828125, 670.76318359375, 1916.327392578125, 2402.70166015625, 3475.95068359375, 1476.7208251953125, 3168.351806640625, 810.3798217773438, 790.6517944335938, 770.859130859375, 524.3831787109375, 466.3213195800781, 367.65594482421875, 357.239501953125, 250.63937377929688, 229.05348205566406, 233.2747039794922, 222.14842224121094, 211.13433837890625, 184.97869873046875, 194.76980590820312, 189.77679443359375, 181.9222869873047, 181.26657104492188, 178.36834716796875, 184.17730712890625, 428.68701171875, 178.35113525390625, 525.3902587890625, 260.8170166015625, 155.89520263671875, 155.17605590820312, 180.2120819091797, 175.6776885986328, 144.62921142578125, 140.1138916015625, 146.94114685058594, 937.0629272460938, 1013.5804443359375, 1312.4989013671875, 235.99009704589844, 5936.00830078125, 3149.871337890625, 459.66796875, 2484.114501953125, 1094.0003662109375, 1302.6741943359375, 11384.744140625, 2111.470703125, 392.39984130859375, 1496.014404296875, 1651.2232666015625, 793.6624755859375, 1676.564453125, 731.4603271484375, 990.3311767578125, 2973.98974609375, 2393.763427734375, 2820.708984375, 7245.2607421875, 1212.0159912109375, 2795.041015625, 6336.7998046875, 1969.0726318359375, 1414.5509033203125, 4813.4326171875, 2872.9697265625, 2402.70166015625, 6506.2177734375], \"Category\": [\"Default\", \"Default\", \"Default\", \"Default\", \"Default\", \"Default\", \"Default\", \"Default\", \"Default\", \"Default\", \"Default\", \"Default\", \"Default\", \"Default\", \"Default\", \"Default\", \"Default\", \"Default\", \"Default\", \"Default\", \"Default\", \"Default\", \"Default\", \"Default\", \"Default\", \"Default\", \"Default\", \"Default\", \"Default\", \"Default\", \"Topic1\", \"Topic1\", \"Topic1\", \"Topic1\", \"Topic1\", \"Topic1\", \"Topic1\", \"Topic1\", \"Topic1\", \"Topic1\", \"Topic1\", \"Topic1\", \"Topic1\", \"Topic1\", \"Topic1\", \"Topic1\", \"Topic1\", \"Topic1\", \"Topic1\", \"Topic1\", \"Topic1\", \"Topic1\", \"Topic1\", \"Topic1\", \"Topic1\", \"Topic1\", \"Topic1\", \"Topic1\", \"Topic1\", \"Topic1\", \"Topic1\", \"Topic1\", \"Topic1\", \"Topic1\", \"Topic1\", \"Topic1\", \"Topic1\", \"Topic1\", \"Topic1\", \"Topic1\", \"Topic1\", \"Topic1\", \"Topic1\", \"Topic1\", \"Topic1\", \"Topic1\", \"Topic1\", \"Topic1\", \"Topic1\", \"Topic1\", \"Topic1\", \"Topic1\", \"Topic1\", \"Topic1\", \"Topic1\", \"Topic1\", \"Topic1\", \"Topic2\", \"Topic2\", \"Topic2\", \"Topic2\", \"Topic2\", \"Topic2\", \"Topic2\", \"Topic2\", \"Topic2\", \"Topic2\", \"Topic2\", \"Topic2\", \"Topic2\", \"Topic2\", \"Topic2\", \"Topic2\", \"Topic2\", \"Topic2\", \"Topic2\", \"Topic2\", \"Topic2\", \"Topic2\", \"Topic2\", \"Topic2\", \"Topic2\", \"Topic2\", \"Topic2\", \"Topic2\", \"Topic2\", \"Topic2\", \"Topic2\", \"Topic2\", \"Topic2\", \"Topic2\", \"Topic2\", \"Topic2\", \"Topic2\", \"Topic2\", \"Topic2\", \"Topic2\", \"Topic2\", \"Topic2\", \"Topic2\", \"Topic2\", \"Topic2\", \"Topic2\", \"Topic2\", \"Topic2\", \"Topic2\", \"Topic2\", \"Topic2\", \"Topic2\", \"Topic2\", \"Topic2\", \"Topic2\", \"Topic2\", \"Topic2\", \"Topic2\", \"Topic2\", \"Topic2\", \"Topic2\", \"Topic2\", \"Topic2\", \"Topic3\", \"Topic3\", \"Topic3\", \"Topic3\", \"Topic3\", \"Topic3\", \"Topic3\", \"Topic3\", \"Topic3\", \"Topic3\", \"Topic3\", \"Topic3\", \"Topic3\", \"Topic3\", \"Topic3\", \"Topic3\", \"Topic3\", \"Topic3\", \"Topic3\", \"Topic3\", \"Topic3\", \"Topic3\", \"Topic3\", \"Topic3\", \"Topic3\", \"Topic3\", \"Topic3\", \"Topic3\", \"Topic3\", \"Topic3\", \"Topic3\", \"Topic3\", \"Topic3\", \"Topic3\", \"Topic3\", \"Topic3\", \"Topic3\", \"Topic3\", \"Topic3\", \"Topic3\", \"Topic3\", \"Topic3\", \"Topic3\", \"Topic3\", \"Topic3\", \"Topic3\", \"Topic3\", \"Topic3\", \"Topic3\", \"Topic3\", \"Topic3\", \"Topic3\", \"Topic3\", \"Topic3\", \"Topic3\", \"Topic4\", \"Topic4\", \"Topic4\", \"Topic4\", \"Topic4\", \"Topic4\", \"Topic4\", \"Topic4\", \"Topic4\", \"Topic4\", \"Topic4\", \"Topic4\", \"Topic4\", \"Topic4\", \"Topic4\", \"Topic4\", \"Topic4\", \"Topic4\", \"Topic4\", \"Topic4\", \"Topic4\", \"Topic4\", \"Topic4\", \"Topic4\", \"Topic4\", \"Topic4\", \"Topic4\", \"Topic4\", \"Topic4\", \"Topic4\", \"Topic4\", \"Topic4\", \"Topic4\", \"Topic4\", \"Topic4\", \"Topic4\", \"Topic4\", \"Topic4\", \"Topic4\", \"Topic4\", \"Topic4\", \"Topic4\", \"Topic4\", \"Topic4\", \"Topic4\", \"Topic4\", \"Topic4\", \"Topic4\", \"Topic4\", \"Topic4\", \"Topic4\", \"Topic4\", \"Topic4\", \"Topic4\", \"Topic4\", \"Topic4\", \"Topic4\", \"Topic4\", \"Topic4\", \"Topic4\", \"Topic4\", \"Topic4\", \"Topic4\"], \"logprob\": [30.0, 29.0, 28.0, 27.0, 26.0, 25.0, 24.0, 23.0, 22.0, 21.0, 20.0, 19.0, 18.0, 17.0, 16.0, 15.0, 14.0, 13.0, 12.0, 11.0, 10.0, 9.0, 8.0, 7.0, 6.0, 5.0, 4.0, 3.0, 2.0, 1.0, -5.106900215148926, -5.355599880218506, -5.43179988861084, -5.627900123596191, -5.651199817657471, -5.638299942016602, -5.787300109863281, -5.832900047302246, -6.019700050354004, -6.049099922180176, -6.252399921417236, -6.296800136566162, -6.228899955749512, -6.327099800109863, -6.301400184631348, -6.351399898529053, -6.295599937438965, -6.396699905395508, -6.419400215148926, -6.463399887084961, -6.46150016784668, -6.491700172424316, -6.523399829864502, -6.49399995803833, -6.644499778747559, -6.6722002029418945, -6.605100154876709, -6.69379997253418, -6.726099967956543, -6.772200107574463, -6.747799873352051, -3.5636000633239746, -5.406700134277344, -6.127099990844727, -6.269199848175049, -4.597700119018555, -5.441800117492676, -6.129499912261963, -4.645199775695801, -5.054699897766113, -4.7241997718811035, -5.1041998863220215, -5.047999858856201, -5.703100204467773, -4.154399871826172, -4.386199951171875, -5.905399799346924, -5.257900238037109, -5.574399948120117, -5.598499774932861, -5.503300189971924, -4.76230001449585, -5.308800220489502, -5.744999885559082, -5.557199954986572, -5.504799842834473, -5.686200141906738, -5.219600200653076, -5.340199947357178, -5.400700092315674, -5.411099910736084, -5.578100204467773, -5.744900226593018, -5.899199962615967, -6.133800029754639, -6.180600166320801, -6.284599781036377, -6.328800201416016, -6.337500095367432, -6.384099960327148, -6.397200107574463, -6.392099857330322, -6.438499927520752, -6.450699806213379, -6.524400234222412, -6.541100025177002, -5.917600154876709, -6.6529998779296875, -6.678899765014648, -6.695799827575684, -6.70359992980957, -6.750999927520752, -6.7600998878479, -6.754899978637695, -6.804699897766113, -6.8059000968933105, -6.8246002197265625, -4.696499824523926, -4.908100128173828, -6.53380012512207, -3.9065001010894775, -4.001999855041504, -4.7459001541137695, -5.105100154876709, -5.830999851226807, -4.295000076293945, -4.933499813079834, -3.5785000324249268, -3.970599889755249, -6.05810022354126, -5.392199993133545, -5.847799777984619, -5.9355998039245605, -5.167900085449219, -4.843999862670898, -5.745299816131592, -5.849299907684326, -5.676199913024902, -5.329999923706055, -4.915599822998047, -5.035600185394287, -5.2769999504089355, -5.151599884033203, -5.539700031280518, -5.200699806213379, -5.388999938964844, -5.6778998374938965, -5.598700046539307, -5.258200168609619, -5.521299839019775, -4.333700180053711, -5.0756001472473145, -5.212600231170654, -5.431700229644775, -5.5808000564575195, -5.6641998291015625, -5.770500183105469, -5.838900089263916, -5.834700107574463, -5.97629976272583, -6.029200077056885, -5.420899868011475, -6.201300144195557, -6.3403000831604, -6.374199867248535, -6.360499858856201, -6.387199878692627, -6.430699825286865, -6.444799900054932, -6.49970006942749, -6.517099857330322, -6.490499973297119, -6.547100067138672, -6.548699855804443, -6.648399829864502, -6.648200035095215, -6.697999954223633, -6.713500022888184, -6.694799900054932, -6.696700096130371, -6.212399959564209, -2.9330999851226807, -4.679999828338623, -6.3684000968933105, -5.505000114440918, -5.860899925231934, -5.100100040435791, -5.786399841308594, -4.174099922180176, -3.797800064086914, -5.525300025939941, -4.836900234222412, -5.647799968719482, -5.579599857330322, -5.293099880218506, -4.28849983215332, -5.296500205993652, -6.008999824523926, -5.214900016784668, -5.63700008392334, -5.872700214385986, -5.617099761962891, -5.656499862670898, -5.711999893188477, -5.820300102233887, -4.099400043487549, -5.463500022888184, -5.4882001876831055, -5.513599872589111, -5.8993000984191895, -6.017099857330322, -6.254899978637695, -6.283699989318848, -6.639100074768066, -6.729400157928467, -6.711100101470947, -6.7600998878479, -6.811100006103516, -6.94379997253418, -6.892300128936768, -6.918300151824951, -6.960599899291992, -6.964200019836426, -6.980400085449219, -6.948400020599365, -6.103700160980225, -6.9807000160217285, -5.900300025939941, -6.6006999015808105, -7.115600109100342, -7.120299816131592, -6.970799922943115, -6.996500015258789, -7.190999984741211, -7.222899913787842, -7.17549991607666, -5.363900184631348, -5.322999954223633, -5.088500022888184, -6.7266998291015625, -3.7500998973846436, -4.348299980163574, -6.124499797821045, -4.670599937438965, -5.404900074005127, -5.265399932861328, -3.41759991645813, -4.870699882507324, -6.311800003051758, -5.2058000564575195, -5.201000213623047, -5.777200222015381, -5.216899871826172, -5.852700233459473, -5.637400150299072, -4.911799907684326, -5.133299827575684, -5.025300025939941, -4.552700042724609, -5.599999904632568, -5.235300064086914, -5.016600131988525, -5.492400169372559, -5.628300189971924, -5.222400188446045, -5.406599998474121, -5.5131001472473145, -5.327400207519531], \"loglift\": [30.0, 29.0, 28.0, 27.0, 26.0, 25.0, 24.0, 23.0, 22.0, 21.0, 20.0, 19.0, 18.0, 17.0, 16.0, 15.0, 14.0, 13.0, 12.0, 11.0, 10.0, 9.0, 8.0, 7.0, 6.0, 5.0, 4.0, 3.0, 2.0, 1.0, 1.8423999547958374, 1.8421000242233276, 1.8420000076293945, 1.841599941253662, 1.841599941253662, 1.841599941253662, 1.8413000106811523, 1.8411999940872192, 1.8407000303268433, 1.8407000303268433, 1.840000033378601, 1.840000033378601, 1.839900016784668, 1.8398000001907349, 1.8398000001907349, 1.8396999835968018, 1.8395999670028687, 1.8394999504089355, 1.8393000364303589, 1.8393000364303589, 1.8392000198364258, 1.8391000032424927, 1.8389999866485596, 1.8387999534606934, 1.8384000062942505, 1.8382999897003174, 1.8381999731063843, 1.8380000591278076, 1.8379000425338745, 1.8378000259399414, 1.837499976158142, 1.295699954032898, 1.4732999801635742, 1.6174999475479126, 1.6676000356674194, 0.8888999819755554, 1.2578999996185303, 1.591599941253662, 0.7353000044822693, 0.8374000191688538, 0.5927000045776367, 0.8082000017166138, 0.755299985408783, 1.2568999528884888, -0.023900000378489494, -0.23489999771118164, 1.357100009918213, 0.6273000240325928, 0.9634000062942505, 0.9323999881744385, 0.7883999943733215, -0.2485000044107437, 0.16410000622272491, 0.8694000244140625, 0.2581999897956848, 0.020999999716877937, 0.4867999851703644, 0.9369999766349792, 0.9369000196456909, 0.9369000196456909, 0.9368000030517578, 0.9366999864578247, 0.9366000294685364, 0.9365000128746033, 0.9362999796867371, 0.9362000226974487, 0.9361000061035156, 0.9359999895095825, 0.9359999895095825, 0.9359999895095825, 0.9358999729156494, 0.9358999729156494, 0.9358000159263611, 0.9358000159263611, 0.935699999332428, 0.935699999332428, 0.9355999827384949, 0.9355000257492065, 0.9354000091552734, 0.9354000091552734, 0.9354000091552734, 0.9352999925613403, 0.9352999925613403, 0.9352999925613403, 0.9351999759674072, 0.9351999759674072, 0.9351000189781189, 0.9345999956130981, 0.9330999851226807, 0.9243000149726868, 0.7835000157356262, 0.7145000100135803, 0.7736999988555908, 0.795199990272522, 0.8567000031471252, 0.696399986743927, 0.7594000101089478, 0.572700023651123, 0.6118000149726868, 0.8707000017166138, 0.7635999917984009, 0.8356999754905701, 0.8385999798774719, 0.6474000215530396, 0.5364999771118164, 0.7716000080108643, 0.7971000075340271, 0.7433000206947327, 0.6087999939918518, 0.40130001306533813, 0.4510999917984009, 0.5264000296592712, 0.3833000063896179, 0.5896000266075134, 0.3068000078201294, 0.30090001225471497, 0.6571999788284302, 0.5112000107765198, -0.476500004529953, 0.0044999998062849045, 1.7122000455856323, 1.7115999460220337, 1.7115000486373901, 1.711300015449524, 1.7109999656677246, 1.7108999490737915, 1.7107000350952148, 1.7106000185012817, 1.7105000019073486, 1.7101999521255493, 1.7101000547409058, 1.7095999717712402, 1.7094999551773071, 1.7092000246047974, 1.7092000246047974, 1.7092000246047974, 1.7092000246047974, 1.7089999914169312, 1.708899974822998, 1.7086999416351318, 1.7086000442504883, 1.7086000442504883, 1.7085000276565552, 1.708400011062622, 1.7080999612808228, 1.7080999612808228, 1.707900047302246, 1.707900047302246, 1.707800030708313, 1.7077000141143799, 1.7069000005722046, 1.5808000564575195, 1.6306999921798706, 1.676900029182434, 1.5910999774932861, 1.6232000589370728, 1.4105000495910645, 1.4407999515533447, 0.6851000189781189, 0.3327000141143799, 1.1151000261306763, 0.6359999775886536, 1.1706000566482544, 1.095900058746338, 0.8133000135421753, -0.1371999979019165, 0.7494999766349792, 1.3533999919891357, 0.43799999356269836, 0.8697999715805054, 1.089400053024292, 0.2953000068664551, 0.02969999983906746, -0.3950999975204468, 0.35269999504089355, 1.3101999759674072, 1.309499979019165, 1.309499979019165, 1.309399962425232, 1.309000015258789, 1.3085999488830566, 1.308500051498413, 1.30840003490448, 1.3073999881744385, 1.3071999549865723, 1.3071999549865723, 1.3071000576019287, 1.3069000244140625, 1.30649995803833, 1.30649995803833, 1.306399941444397, 1.306399941444397, 1.3063000440597534, 1.3063000440597534, 1.3062000274658203, 1.3061000108718872, 1.3061000108718872, 1.3061000108718872, 1.305999994277954, 1.3056999444961548, 1.3056999444961548, 1.3056999444961548, 1.305400013923645, 1.305299997329712, 1.3051999807357788, 1.3049999475479126, 1.2639000415802002, 1.2263000011444092, 1.2023999691009521, 1.2799999713897705, 1.0317000150680542, 1.0671000480651855, 1.2156000137329102, 0.9822999835014343, 1.0680999755859375, 1.0329999923706055, 0.7128999829292297, 0.9447000026702881, 1.186400055885315, 0.954200029373169, 0.8603000044822693, 1.016700029373169, 0.829200029373169, 1.0227999687194824, 0.9351000189781189, 0.5611000061035156, 0.5565999746322632, 0.5005000233650208, 0.02969999983906746, 0.7705000042915344, 0.2996000051498413, -0.3001999855041504, 0.3928999900817871, 0.5877000093460083, -0.23100000619888306, 0.10080000013113022, 0.17299999296665192, -0.6373999714851379]}, \"token.table\": {\"Topic\": [1, 2, 3, 4, 1, 2, 3, 1, 2, 3, 4, 1, 2, 3, 2, 1, 2, 1, 2, 1, 2, 3, 4, 1, 2, 3, 3, 2, 2, 1, 2, 2, 1, 3, 4, 1, 2, 3, 4, 4, 2, 4, 1, 4, 1, 1, 3, 4, 2, 3, 4, 2, 4, 4, 4, 1, 4, 1, 2, 4, 3, 3, 1, 4, 4, 4, 1, 3, 4, 1, 3, 4, 1, 3, 1, 3, 4, 1, 2, 3, 4, 2, 3, 4, 1, 2, 3, 4, 1, 3, 4, 1, 3, 1, 2, 4, 3, 4, 2, 3, 4, 3, 4, 1, 2, 4, 3, 4, 2, 3, 2, 4, 4, 1, 3, 1, 3, 4, 2, 4, 3, 3, 2, 1, 1, 2, 4, 2, 3, 1, 4, 1, 1, 2, 4, 2, 4, 2, 1, 1, 2, 3, 4, 3, 3, 1, 2, 1, 2, 3, 4, 2, 4, 4, 3, 4, 3, 4, 1, 2, 4, 3, 1, 2, 2, 4, 2, 4, 3, 2, 1, 2, 4, 3, 1, 2, 1, 4, 1, 1, 2, 4, 1, 2, 3, 4, 2, 4, 1, 3, 4, 1, 3, 4, 1, 1, 3, 4, 1, 2, 4, 1, 1, 2, 4, 1, 2, 3, 4, 1, 2, 4, 3, 3, 1, 2, 3, 4, 2, 1, 2, 3, 4, 3, 4, 3, 4, 1, 2, 3, 4, 1, 4, 4, 1, 2, 4, 1, 2, 3, 4, 3, 1, 2, 3, 4, 4, 3, 1, 2, 4, 3, 2, 4, 1, 3, 4, 4, 2, 1, 4, 4, 2, 4, 1, 1, 1, 3, 1, 2, 3, 4, 4, 1, 1, 2, 1, 3, 2, 3, 3, 4, 1, 3, 4, 4, 1, 3, 3, 2, 4, 4, 1, 4, 1, 3, 4, 2, 3, 1, 2, 1, 1, 4, 3, 1, 4, 2, 2, 4, 4, 2, 2, 2, 3, 2, 4, 2, 4, 2, 4, 1, 2, 3, 4, 4, 1, 1, 2, 2, 3, 4, 1, 2, 3, 4, 2, 3, 1, 1, 3, 1, 2, 3, 4, 1, 2, 3, 4, 2, 2, 2, 1, 2, 2, 2, 4, 1, 2, 4, 1, 2, 3, 4, 2, 3, 4], \"Freq\": [0.28625261783599854, 0.5851636528968811, 0.12140563130378723, 0.007192276883870363, 0.01065011229366064, 0.8406932353973389, 0.14843595027923584, 0.3655945956707001, 0.3717304468154907, 0.18918880820274353, 0.07363023608922958, 0.03763896971940994, 0.8672431111335754, 0.09487082809209824, 0.9994282722473145, 0.012240899726748466, 0.9866164922714233, 0.0013369570951908827, 0.9987069368362427, 0.12510067224502563, 0.694465696811676, 0.15729504823684692, 0.023226577788591385, 0.34848323464393616, 0.5452199578285217, 0.10675635188817978, 0.9979546070098877, 0.9988138675689697, 0.9992727637290955, 0.9966886639595032, 0.997424304485321, 0.9981746673583984, 0.9914982914924622, 0.5500940680503845, 0.4495857059955597, 0.09752389043569565, 0.004571432247757912, 0.0007619053940288723, 0.8975245356559753, 0.9971665143966675, 0.9977145195007324, 0.9995313286781311, 0.9993398189544678, 0.9988223910331726, 0.9985862374305725, 0.13636232912540436, 0.16310003399848938, 0.7005280256271362, 0.823225200176239, 0.0337955616414547, 0.14298121631145477, 0.847261369228363, 0.15187661349773407, 0.9946274161338806, 0.9991756081581116, 0.8376374840736389, 0.15804481506347656, 0.5564197301864624, 0.17853039503097534, 0.26482006907463074, 0.9989539384841919, 0.9965073466300964, 0.9975720047950745, 0.9982158541679382, 0.9956494569778442, 0.997934877872467, 0.030827749520540237, 0.9644681811332703, 0.9992693066596985, 0.401947557926178, 0.2973443269729614, 0.30024996399879456, 0.9959884881973267, 0.9953898191452026, 0.5781659483909607, 0.3578949272632599, 0.06389680504798889, 0.3553672432899475, 0.0981043204665184, 0.24212981760501862, 0.30474960803985596, 0.44437339901924133, 0.4301912784576416, 0.12480274587869644, 0.15450501441955566, 0.0436549112200737, 0.25156471133232117, 0.5502099990844727, 0.19451281428337097, 0.40676620602607727, 0.3985294997692108, 0.9984610676765442, 0.9942589998245239, 0.004570382181555033, 0.21023759245872498, 0.7851917147636414, 0.8863804936408997, 0.1142067164182663, 0.7201252579689026, 0.08144273608922958, 0.1982487589120865, 0.9979972243309021, 0.9920501112937927, 0.0023029549047350883, 0.24027496576309204, 0.7576721906661987, 0.27937519550323486, 0.7201761603355408, 0.003882754361256957, 0.993985116481781, 0.9973776340484619, 0.9948303699493408, 0.9954007267951965, 0.9983161687850952, 0.99708092212677, 0.9989176392555237, 0.3817330002784729, 0.6179302930831909, 0.0038341055624186993, 0.9968674778938293, 0.9992861151695251, 0.9985935688018799, 0.9984408020973206, 0.9946393370628357, 0.025244081392884254, 0.286772757768631, 0.6866390109062195, 0.9994425773620605, 0.994573712348938, 0.02966226078569889, 0.9703797101974487, 0.9978066086769104, 0.04125358164310455, 0.3754075765609741, 0.5825005769729614, 0.9223494529724121, 0.0770513042807579, 0.9994603991508484, 0.9966931939125061, 0.3780358135700226, 0.43805819749832153, 0.13584016263484955, 0.04843912646174431, 0.9978216886520386, 0.9964457154273987, 0.9960444569587708, 0.9981703758239746, 0.6140074133872986, 0.16507740318775177, 0.02415766753256321, 0.1952744871377945, 0.24326111376285553, 0.756737470626831, 0.9959067702293396, 0.9969629049301147, 0.993607759475708, 0.9968001246452332, 0.001764248008839786, 0.0024662516079843044, 0.8490952253341675, 0.14832742512226105, 0.9987573027610779, 0.06344320625066757, 0.9357872605323792, 0.9973511695861816, 0.0027572899125516415, 0.9957729578018188, 0.0038878396153450012, 0.9969123601913452, 0.9985191822052002, 0.9969814419746399, 0.8000884056091309, 0.19978538155555725, 0.9946796894073486, 0.33018139004707336, 0.6695600152015686, 0.5573294162750244, 0.4426525831222534, 0.9956621527671814, 0.20507033169269562, 0.10135115683078766, 0.6938291788101196, 0.9976326823234558, 0.17798066139221191, 0.6985741257667542, 0.12236170470714569, 0.5292920470237732, 0.4703890085220337, 0.08542626351118088, 0.7394117712974548, 0.17464925348758698, 0.09392286837100983, 0.5367020964622498, 0.36972811818122864, 0.9987357258796692, 0.7770324349403381, 0.21973459422588348, 0.9980311989784241, 0.9973748922348022, 0.2488173246383667, 0.7505533695220947, 0.995836615562439, 0.12424404174089432, 0.7558179497718811, 0.12026186287403107, 0.013826592825353146, 0.8367183804512024, 0.036451928317546844, 0.11270768195390701, 0.04566230997443199, 0.8686711192131042, 0.08480143547058105, 0.9988817572593689, 0.9989187717437744, 0.12510628998279572, 0.7059106230735779, 0.022039450705051422, 0.14649751782417297, 0.9988677501678467, 0.011311010457575321, 0.43900859355926514, 0.06362443417310715, 0.48566651344299316, 0.7618472576141357, 0.23710553348064423, 0.9217560291290283, 0.07849692553281784, 0.3369138240814209, 0.6630651354789734, 0.11467894911766052, 0.8843020796775818, 0.997937023639679, 0.9993295669555664, 0.9961424469947815, 0.06153756007552147, 0.5745890736579895, 0.363858699798584, 0.2965863049030304, 0.1401675045490265, 0.1640366166830063, 0.3996805250644684, 0.9995502233505249, 0.018468009307980537, 0.7481911778450012, 0.0719778835773468, 0.16100315749645233, 0.9998889565467834, 0.9964154362678528, 0.12977808713912964, 0.1247381642460823, 0.7459090352058411, 0.9964045882225037, 0.9984681010246277, 0.9985293745994568, 0.18661800026893616, 0.34061986207962036, 0.47276559472084045, 0.9947091341018677, 0.9994789361953735, 0.0038066941779106855, 0.995450496673584, 0.9960476160049438, 0.7859256267547607, 0.21398450434207916, 0.9949069023132324, 0.9964910745620728, 0.123458631336689, 0.8764532208442688, 0.4145153760910034, 0.10533566772937775, 0.15020085871219635, 0.32966163754463196, 0.9949303269386292, 0.9976879954338074, 0.9957313537597656, 0.9965950846672058, 0.998100757598877, 0.9950856566429138, 0.9981387257575989, 0.9977366924285889, 0.9961334466934204, 0.9935950636863708, 0.7987625002861023, 0.048903826624155045, 0.15323199331760406, 0.9924211502075195, 0.6907773613929749, 0.3089958429336548, 0.9970926642417908, 0.0023327041417360306, 0.9960647225379944, 0.9974490404129028, 0.04482089728116989, 0.954044759273529, 0.010877416469156742, 0.07831739634275436, 0.9093520045280457, 0.9972996711730957, 0.9973948001861572, 0.38488295674324036, 0.6149945259094238, 0.9981560707092285, 0.9940560460090637, 0.9932741522789001, 0.9973122477531433, 0.07991471886634827, 0.9195126295089722, 0.9987884759902954, 0.2158818393945694, 0.7841590046882629, 0.9942576885223389, 0.9973617792129517, 0.9993991851806641, 0.9963208436965942, 0.9981377124786377, 0.905536949634552, 0.09388923645019531, 0.7221271991729736, 0.27783679962158203, 0.8573337197303772, 0.14263279736042023, 0.0690397247672081, 0.10658764839172363, 0.1871339976787567, 0.6377090215682983, 0.9988855123519897, 0.9965553283691406, 0.9971438646316528, 0.998891294002533, 0.9037270545959473, 0.0936446264386177, 0.003384745679795742, 0.10685806721448898, 0.5322019457817078, 0.06265293806791306, 0.29829761385917664, 0.9995423555374146, 0.9967217445373535, 0.9913069605827332, 0.08291395753622055, 0.9145660400390625, 0.11944887042045593, 0.37416213750839233, 0.1856243759393692, 0.3204725682735443, 0.2573269009590149, 0.19028647243976593, 0.2566497325897217, 0.29592594504356384, 0.9984191656112671, 0.9988775253295898, 0.9979672431945801, 0.998630166053772, 0.9981898069381714, 0.9994014501571655, 0.6529712080955505, 0.34651345014572144, 0.16166149079799652, 0.3935180902481079, 0.44492360949516296, 0.08506873995065689, 0.289905309677124, 0.5395148992538452, 0.08506873995065689, 0.41708964109420776, 0.5810846090316772, 0.0012912991223856807], \"Term\": [\"#COVID19\", \"#COVID19\", \"#COVID19\", \"#COVID19\", \"#COVID2019\", \"#COVID2019\", \"#COVID2019\", \"#Coronavirus\", \"#Coronavirus\", \"#Coronavirus\", \"#Coronavirus\", \"#Covid_19\", \"#Covid_19\", \"#Covid_19\", \"#SocialDistancing\", \"#StayAtHome\", \"#StayAtHome\", \"#StayHomeSaveLives\", \"#StayHomeSaveLives\", \"#coronavirus\", \"#coronavirus\", \"#coronavirus\", \"#coronavirus\", \"#covid19\", \"#covid19\", \"#covid19\", \"#oil\", \"#socialdistancing\", \"#toiletpaper\", \"advantage\", \"aisle\", \"alcohol\", \"alert\", \"amid\", \"amid\", \"amp\", \"amp\", \"amp\", \"amp\", \"april\", \"away\", \"bank\", \"behavior\", \"bill\", \"brand\", \"business\", \"business\", \"business\", \"buy\", \"buy\", \"buy\", \"cannot\", \"cannot\", \"card\", \"chain\", \"changing\", \"changing\", \"check\", \"check\", \"check\", \"china\", \"chinese\", \"click\", \"closed\", \"closing\", \"closure\", \"commodity\", \"commodity\", \"community\", \"company\", \"company\", \"company\", \"complaint\", \"confidence\", \"consumer\", \"consumer\", \"consumer\", \"coronavirus\", \"coronavirus\", \"coronavirus\", \"coronavirus\", \"could\", \"could\", \"could\", \"covid\", \"covid\", \"covid\", \"covid\", \"crisis\", \"crisis\", \"crisis\", \"critical\", \"crude\", \"customer\", \"customer\", \"customer\", \"cut\", \"cut\", \"day\", \"day\", \"day\", \"decline\", \"deliver\", \"delivery\", \"delivery\", \"delivery\", \"demand\", \"demand\", \"died\", \"died\", \"distance\", \"donate\", \"donation\", \"driver\", \"drop\", \"drug\", \"due\", \"due\", \"easter\", \"easter\", \"economic\", \"economy\", \"else\", \"email\", \"employee\", \"employee\", \"employee\", \"empty\", \"energy\", \"ensure\", \"ensure\", \"equipment\", \"essential\", \"essential\", \"essential\", \"everyone\", \"everyone\", \"everything\", \"executive\", \"face\", \"face\", \"face\", \"face\", \"fall\", \"falling\", \"federal\", \"feel\", \"fight\", \"fight\", \"fight\", \"fight\", \"food\", \"food\", \"forced\", \"fuel\", \"fund\", \"gas\", \"gas\", \"get\", \"get\", \"get\", \"global\", \"glove\", \"glove\", \"go\", \"go\", \"going\", \"going\", \"gold\", \"got\", \"gouging\", \"grocery\", \"grocery\", \"growth\", \"hand\", \"hand\", \"health\", \"health\", \"healthcare\", \"help\", \"help\", \"help\", \"hero\", \"hit\", \"hit\", \"hit\", \"home\", \"home\", \"impact\", \"impact\", \"impact\", \"industry\", \"industry\", \"industry\", \"information\", \"insight\", \"insight\", \"insurance\", \"interesting\", \"job\", \"job\", \"kit\", \"know\", \"know\", \"know\", \"like\", \"like\", \"like\", \"like\", \"line\", \"line\", \"line\", \"low\", \"lower\", \"make\", \"make\", \"make\", \"make\", \"man\", \"many\", \"many\", \"many\", \"many\", \"march\", \"march\", \"market\", \"market\", \"mask\", \"mask\", \"measure\", \"measure\", \"medical\", \"meet\", \"monday\", \"need\", \"need\", \"need\", \"new\", \"new\", \"new\", \"new\", \"oil\", \"one\", \"one\", \"one\", \"one\", \"online\", \"opec\", \"order\", \"order\", \"order\", \"output\", \"outside\", \"paid\", \"pandemic\", \"pandemic\", \"pandemic\", \"pantry\", \"paper\", \"pay\", \"pay\", \"payment\", \"people\", \"people\", \"personal\", \"ppe\", \"price\", \"price\", \"product\", \"product\", \"product\", \"product\", \"program\", \"protection\", \"protective\", \"queue\", \"raise\", \"rate\", \"really\", \"recession\", \"record\", \"register\", \"related\", \"related\", \"related\", \"rent\", \"report\", \"report\", \"research\", \"restaurant\", \"restaurant\", \"restriction\", \"retail\", \"retail\", \"retailer\", \"retailer\", \"retailer\", \"roll\", \"russia\", \"sanitizer\", \"sanitizer\", \"scam\", \"scammer\", \"senior\", \"sentiment\", \"service\", \"service\", \"shelf\", \"shopping\", \"shopping\", \"shut\", \"soap\", \"someone\", \"something\", \"spending\", \"stop\", \"stop\", \"store\", \"store\", \"supermarket\", \"supermarket\", \"supply\", \"supply\", \"supply\", \"supply\", \"support\", \"test\", \"testing\", \"thing\", \"think\", \"think\", \"think\", \"time\", \"time\", \"time\", \"time\", \"toilet\", \"trend\", \"truck\", \"trump\", \"trump\", \"u\", \"u\", \"u\", \"u\", \"via\", \"via\", \"via\", \"via\", \"wash\", \"wear\", \"wearing\", \"webinar\", \"went\", \"woman\", \"work\", \"work\", \"worker\", \"worker\", \"worker\", \"world\", \"world\", \"world\", \"world\", \"year\", \"year\", \"year\"]}, \"R\": 30, \"lambda.step\": 0.01, \"plot.opts\": {\"xlab\": \"PC1\", \"ylab\": \"PC2\"}, \"topic.order\": [1, 2, 3, 4]};\n",
       "\n",
       "function LDAvis_load_lib(url, callback){\n",
       "  var s = document.createElement('script');\n",
       "  s.src = url;\n",
       "  s.async = true;\n",
       "  s.onreadystatechange = s.onload = callback;\n",
       "  s.onerror = function(){console.warn(\"failed to load library \" + url);};\n",
       "  document.getElementsByTagName(\"head\")[0].appendChild(s);\n",
       "}\n",
       "\n",
       "if(typeof(LDAvis) !== \"undefined\"){\n",
       "   // already loaded: just create the visualization\n",
       "   !function(LDAvis){\n",
       "       new LDAvis(\"#\" + \"ldavis_el1162818551610817446742019288\", ldavis_el1162818551610817446742019288_data);\n",
       "   }(LDAvis);\n",
       "}else if(typeof define === \"function\" && define.amd){\n",
       "   // require.js is available: use it to load d3/LDAvis\n",
       "   require.config({paths: {d3: \"https://cdnjs.cloudflare.com/ajax/libs/d3/3.5.5/d3.min\"}});\n",
       "   require([\"d3\"], function(d3){\n",
       "      window.d3 = d3;\n",
       "      LDAvis_load_lib(\"https://cdn.rawgit.com/bmabey/pyLDAvis/files/ldavis.v1.0.0.js\", function(){\n",
       "        new LDAvis(\"#\" + \"ldavis_el1162818551610817446742019288\", ldavis_el1162818551610817446742019288_data);\n",
       "      });\n",
       "    });\n",
       "}else{\n",
       "    // require.js not available: dynamically load d3 & LDAvis\n",
       "    LDAvis_load_lib(\"https://cdnjs.cloudflare.com/ajax/libs/d3/3.5.5/d3.min.js\", function(){\n",
       "         LDAvis_load_lib(\"https://cdn.rawgit.com/bmabey/pyLDAvis/files/ldavis.v1.0.0.js\", function(){\n",
       "                 new LDAvis(\"#\" + \"ldavis_el1162818551610817446742019288\", ldavis_el1162818551610817446742019288_data);\n",
       "            })\n",
       "         });\n",
       "}\n",
       "</script>"
      ],
      "text/plain": [
       "<IPython.core.display.HTML object>"
      ]
     },
     "execution_count": 29,
     "metadata": {},
     "output_type": "execute_result"
    }
   ],
   "source": [
    "import pyLDAvis.gensim\n",
    "\"\"\"\n",
    "    Using pyLDAvis model to interpret the topics in a topic model\n",
    "\"\"\"\n",
    "lda_display = pyLDAvis.gensim.prepare(lda, corpus, id2word, sort_topics=False)\n",
    "pyLDAvis.enable_notebook()\n",
    "pyLDAvis.display(lda_display)"
   ]
  },
  {
   "cell_type": "code",
   "execution_count": 35,
   "metadata": {},
   "outputs": [
    {
     "data": {
      "text/html": [
       "<style>.container { max-width:100% !important; }</style>"
      ],
      "text/plain": [
       "<IPython.core.display.HTML object>"
      ]
     },
     "metadata": {},
     "output_type": "display_data"
    },
    {
     "data": {
      "text/html": [
       "<style>.output_result { max-width:100% !important; }</style>"
      ],
      "text/plain": [
       "<IPython.core.display.HTML object>"
      ]
     },
     "metadata": {},
     "output_type": "display_data"
    },
    {
     "data": {
      "text/html": [
       "<style>.output_area { max-width:100% !important; }</style>"
      ],
      "text/plain": [
       "<IPython.core.display.HTML object>"
      ]
     },
     "metadata": {},
     "output_type": "display_data"
    },
    {
     "data": {
      "text/html": [
       "<style>.input_area { max-width:100% !important; }</style>"
      ],
      "text/plain": [
       "<IPython.core.display.HTML object>"
      ]
     },
     "metadata": {},
     "output_type": "display_data"
    }
   ],
   "source": [
    "from IPython.core.display import display, HTML\n",
    "display(HTML(\"<style>.container { max-width:100% !important; }</style>\"))\n",
    "display(HTML(\"<style>.output_result { max-width:100% !important; }</style>\"))\n",
    "display(HTML(\"<style>.output_area { max-width:100% !important; }</style>\"))\n",
    "display(HTML(\"<style>.input_area { max-width:100% !important; }</style>\"))"
   ]
  },
  {
   "cell_type": "code",
   "execution_count": null,
   "metadata": {},
   "outputs": [],
   "source": []
  },
  {
   "cell_type": "code",
   "execution_count": null,
   "metadata": {},
   "outputs": [],
   "source": []
  },
  {
   "cell_type": "code",
   "execution_count": 22,
   "metadata": {},
   "outputs": [],
   "source": [
    "import pandas as pd\n",
    "import pkg_resources\n",
    "import re, string, json\n",
    "from tqdm import tqdm\n",
    "from collections import Counter\n",
    "import re\n",
    "from nltk.tokenize import TweetTokenizer\n",
    "import nltk\n",
    "from nltk.corpus import stopwords"
   ]
  },
  {
   "cell_type": "code",
   "execution_count": 23,
   "metadata": {},
   "outputs": [],
   "source": [
    "def simplify_punctuation_and_whitespace(sentence):\n",
    "    #norm_sents = []\n",
    "    #print(\"Normalizing whitespaces and punctuation\\n----------------------------\")\n",
    "    sentence = _replace_urls(sentence)\n",
    "    sentence = _simplify_punctuation(sentence)\n",
    "    #sentence = _normalize_whitespace(sentence)\n",
    "    return sentence\n",
    "\n",
    "def _replace_urls(text):\n",
    "    \"\"\"\n",
    "    Get rid of URLs and Mentions\n",
    "    \"\"\"\n",
    "    url_regex = r'(https?:\\/\\/(?:www\\.|(?!www))[a-zA-Z0-9][a-zA-Z0-9-]+[a-zA-Z0-9]\\.[^\\s]{2,}|www\\.[a-zA-Z0-9][a-zA-Z0-9-]+[a-zA-Z0-9]\\.[^\\s]{2,}|https?:\\/\\/(?:www\\.|(?!www))[a-zA-Z0-9]+\\.[^\\s]{2,}|www\\.[a-zA-Z0-9]+\\.[^\\s]{2,})'\n",
    "    text = re.sub(url_regex, \"\", text)\n",
    "    text = re.sub(r'@\\w+', '', text)\n",
    "    \n",
    "    return text\n",
    "\n",
    "def _simplify_punctuation(text):\n",
    "    corrected = str(text)\n",
    "    corrected = re.sub(r'([!?,;])\\1+', r'\\1', corrected)       # simplifie doubled or more complex punctuation\n",
    "    corrected = re.sub(r'\\.(\\.| \\.){1,}', r'...', corrected)   # unify repeted dots\n",
    "    corrected = re.sub(r'â|Â[\\x92]|â|Â[\\x93]', \"'\", corrected) # unrecognized charecters that can be a ( ' )\n",
    "    corrected = re.sub(r'[^\\x20-\\x7E]', \"\", corrected)         # dispose unrecognized charecters \n",
    "    corrected = re.sub(r'([\\w])\\1{2,}', r'\\1', corrected)      # simplifie repeted letters\n",
    "    return corrected\n",
    "\n",
    "def normalize_whitespace(text):\n",
    "    \"\"\"\n",
    "    This function normalizes whitespaces, removing duplicates.\n",
    "    \"\"\"\n",
    "    corrected = str(text)\n",
    "    corrected = re.sub(r\"//t\",r\"\\t\", corrected)\n",
    "    corrected = re.sub(r\"( )\\1+\",r\"\\1\", corrected)\n",
    "    corrected = re.sub(r\"(\\n)\\1+\",r\"\\1\", corrected)\n",
    "    corrected = re.sub(r\"(\\r)\\1+\",r\"\\1\", corrected)\n",
    "    corrected = re.sub(r\"(\\t)\\1+\",r\"\\1\", corrected)\n",
    "    corrected = re.sub(r'\\r|\\n|\\t', ' ',corrected)\n",
    "    return corrected.strip(\" \")\n",
    "\n",
    "def tokenize(sentence):\n",
    "    tweet_tokenizer = TweetTokenizer() \n",
    "    tokens = tweet_tokenizer.tokenize(sentence)\n",
    "    return ' '.join(tokens).strip()\n",
    "\n",
    "def normalize_contractions(sentence):\n",
    "    contraction_list = json.loads(open('english_contractions.json', 'r').read())\n",
    "    #print(\"Normalizing contractions\\n----------------------------\")\n",
    "    tokens = sentence.split(' ')\n",
    "    temp = _normalize_contractions_text(tokens, contraction_list)\n",
    "    return ' '.join(temp).strip()\n",
    "\n",
    "def _normalize_contractions_text(token_list, contractions):\n",
    "    \"\"\"\n",
    "    This function normalizes english contractions. exp: I'm --> I am\n",
    "    \"\"\"\n",
    "    new_token_list = []\n",
    "    #token_list = text.split()\n",
    "    for word_pos in range(len(token_list)):\n",
    "        word = token_list[word_pos]\n",
    "        first_upper = False\n",
    "        if word and word[0].isupper():\n",
    "            first_upper = True\n",
    "        if word.lower() in contractions:\n",
    "            replacement = contractions[word.lower()]\n",
    "            if first_upper:\n",
    "                replacement = replacement[0].upper()+replacement[1:]\n",
    "            replacement_tokens = replacement.split()\n",
    "            if len(replacement_tokens)>1:\n",
    "                new_token_list.append(replacement_tokens[0])\n",
    "                new_token_list.append(replacement_tokens[1])\n",
    "            else:\n",
    "                new_token_list.append(replacement_tokens[0])\n",
    "        else:\n",
    "            new_token_list.append(word)\n",
    "    return new_token_list\n",
    "\n",
    "def lemmatize_and_remove_stopwords(sentence):\n",
    "    pattern = r'^((\\d|[-+=!?,;:\\/)(\"])(\\d|[-+=!?,;:\\/)(. A-z\"])*|((\\]\\[)|[-!?,;:\\\"$.\\'])+|[. ]+)$'\n",
    "    stop_words = set(stopwords.words('english'))\n",
    "    wnl = nltk.WordNetLemmatizer()\n",
    "    tokens = sentence.split(' ')\n",
    "    lowerCaseTokens = [re.sub(pattern, \"\", t.lower()) for t in tokens]\n",
    "    lemmatizedTokens = [wnl.lemmatize(l) for l in lowerCaseTokens if l and len(l) > 1 and not l in stop_words]\n",
    "    return ' '.join(lemmatizedTokens).strip()"
   ]
  },
  {
   "cell_type": "code",
   "execution_count": 24,
   "metadata": {},
   "outputs": [],
   "source": [
    "def get_to_work(original_tweets):\n",
    "    original_tweets = original_tweets.apply(simplify_punctuation_and_whitespace)\n",
    "    original_tweets = original_tweets.apply(normalize_whitespace)\n",
    "    original_tweets = original_tweets.apply(tokenize)\n",
    "    original_tweets = original_tweets.apply(normalize_contractions)\n",
    "    original_tweets = original_tweets.apply(lemmatize_and_remove_stopwords)\n",
    "    return original_tweets"
   ]
  },
  {
   "cell_type": "code",
   "execution_count": 25,
   "metadata": {},
   "outputs": [],
   "source": [
    "sheets = pd.read_csv('Covid_19_tweets_train.csv', encoding= \"latin1\")\n",
    "\n",
    "size = sheets['OriginalTweet'].shape[0]"
   ]
  },
  {
   "cell_type": "code",
   "execution_count": 26,
   "metadata": {},
   "outputs": [],
   "source": [
    "temp = get_to_work(sheets['OriginalTweet'])"
   ]
  },
  {
   "cell_type": "code",
   "execution_count": 27,
   "metadata": {},
   "outputs": [],
   "source": [
    "sheets['OriginalTweet'] = temp"
   ]
  },
  {
   "cell_type": "code",
   "execution_count": 28,
   "metadata": {},
   "outputs": [],
   "source": [
    "def normalize_empty_rows(text):\n",
    "    if len(text) == 0:\n",
    "        return None\n",
    "    else:\n",
    "        return text"
   ]
  },
  {
   "cell_type": "code",
   "execution_count": 29,
   "metadata": {},
   "outputs": [],
   "source": [
    "sheets['OriginalTweet'] = sheets['OriginalTweet'].apply(normalize_empty_rows)"
   ]
  },
  {
   "cell_type": "code",
   "execution_count": 30,
   "metadata": {},
   "outputs": [
    {
     "data": {
      "text/html": [
       "<div>\n",
       "<style scoped>\n",
       "    .dataframe tbody tr th:only-of-type {\n",
       "        vertical-align: middle;\n",
       "    }\n",
       "\n",
       "    .dataframe tbody tr th {\n",
       "        vertical-align: top;\n",
       "    }\n",
       "\n",
       "    .dataframe thead th {\n",
       "        text-align: right;\n",
       "    }\n",
       "</style>\n",
       "<table border=\"1\" class=\"dataframe\">\n",
       "  <thead>\n",
       "    <tr style=\"text-align: right;\">\n",
       "      <th></th>\n",
       "      <th>UserName</th>\n",
       "      <th>ScreenName</th>\n",
       "      <th>Location</th>\n",
       "      <th>TweetAt</th>\n",
       "      <th>OriginalTweet</th>\n",
       "      <th>Sentiment</th>\n",
       "    </tr>\n",
       "  </thead>\n",
       "  <tbody>\n",
       "    <tr>\n",
       "      <th>0</th>\n",
       "      <td>3799</td>\n",
       "      <td>48751</td>\n",
       "      <td>London</td>\n",
       "      <td>16-03-2020</td>\n",
       "      <td>None</td>\n",
       "      <td>Neutral</td>\n",
       "    </tr>\n",
       "    <tr>\n",
       "      <th>1</th>\n",
       "      <td>3800</td>\n",
       "      <td>48752</td>\n",
       "      <td>UK</td>\n",
       "      <td>16-03-2020</td>\n",
       "      <td>advice talk neighbour family exchange phone nu...</td>\n",
       "      <td>Positive</td>\n",
       "    </tr>\n",
       "    <tr>\n",
       "      <th>2</th>\n",
       "      <td>3801</td>\n",
       "      <td>48753</td>\n",
       "      <td>Vagabonds</td>\n",
       "      <td>16-03-2020</td>\n",
       "      <td>coronavirus australia woolworth give elderly d...</td>\n",
       "      <td>Positive</td>\n",
       "    </tr>\n",
       "    <tr>\n",
       "      <th>3</th>\n",
       "      <td>3802</td>\n",
       "      <td>48754</td>\n",
       "      <td>NaN</td>\n",
       "      <td>16-03-2020</td>\n",
       "      <td>food stock one empty please panic enough food ...</td>\n",
       "      <td>Positive</td>\n",
       "    </tr>\n",
       "    <tr>\n",
       "      <th>4</th>\n",
       "      <td>3803</td>\n",
       "      <td>48755</td>\n",
       "      <td>NaN</td>\n",
       "      <td>16-03-2020</td>\n",
       "      <td>ready go supermarket #covid19 outbreak.not par...</td>\n",
       "      <td>Extremely Negative</td>\n",
       "    </tr>\n",
       "  </tbody>\n",
       "</table>\n",
       "</div>"
      ],
      "text/plain": [
       "   UserName  ScreenName   Location     TweetAt  \\\n",
       "0      3799       48751     London  16-03-2020   \n",
       "1      3800       48752         UK  16-03-2020   \n",
       "2      3801       48753  Vagabonds  16-03-2020   \n",
       "3      3802       48754        NaN  16-03-2020   \n",
       "4      3803       48755        NaN  16-03-2020   \n",
       "\n",
       "                                       OriginalTweet           Sentiment  \n",
       "0                                               None             Neutral  \n",
       "1  advice talk neighbour family exchange phone nu...            Positive  \n",
       "2  coronavirus australia woolworth give elderly d...            Positive  \n",
       "3  food stock one empty please panic enough food ...            Positive  \n",
       "4  ready go supermarket #covid19 outbreak.not par...  Extremely Negative  "
      ]
     },
     "execution_count": 30,
     "metadata": {},
     "output_type": "execute_result"
    }
   ],
   "source": [
    "sheets.head()"
   ]
  },
  {
   "cell_type": "code",
   "execution_count": 31,
   "metadata": {},
   "outputs": [
    {
     "data": {
      "text/plain": [
       "UserName            0\n",
       "ScreenName          0\n",
       "Location         8590\n",
       "TweetAt             0\n",
       "OriginalTweet      33\n",
       "Sentiment           0\n",
       "dtype: int64"
      ]
     },
     "execution_count": 31,
     "metadata": {},
     "output_type": "execute_result"
    }
   ],
   "source": [
    "sheets.isnull().sum()"
   ]
  },
  {
   "cell_type": "code",
   "execution_count": 32,
   "metadata": {},
   "outputs": [],
   "source": [
    "#sheets = sheets.dropna()"
   ]
  },
  {
   "cell_type": "code",
   "execution_count": 33,
   "metadata": {},
   "outputs": [],
   "source": [
    "sheets = sheets[pd.notnull(sheets[\"OriginalTweet\"])]"
   ]
  },
  {
   "cell_type": "code",
   "execution_count": 34,
   "metadata": {},
   "outputs": [
    {
     "data": {
      "text/html": [
       "<div>\n",
       "<style scoped>\n",
       "    .dataframe tbody tr th:only-of-type {\n",
       "        vertical-align: middle;\n",
       "    }\n",
       "\n",
       "    .dataframe tbody tr th {\n",
       "        vertical-align: top;\n",
       "    }\n",
       "\n",
       "    .dataframe thead th {\n",
       "        text-align: right;\n",
       "    }\n",
       "</style>\n",
       "<table border=\"1\" class=\"dataframe\">\n",
       "  <thead>\n",
       "    <tr style=\"text-align: right;\">\n",
       "      <th></th>\n",
       "      <th>UserName</th>\n",
       "      <th>ScreenName</th>\n",
       "      <th>Location</th>\n",
       "      <th>TweetAt</th>\n",
       "      <th>OriginalTweet</th>\n",
       "      <th>Sentiment</th>\n",
       "    </tr>\n",
       "  </thead>\n",
       "  <tbody>\n",
       "    <tr>\n",
       "      <th>4006</th>\n",
       "      <td>7805</td>\n",
       "      <td>52757</td>\n",
       "      <td>London, England</td>\n",
       "      <td>18-03-2020</td>\n",
       "      <td>south korea's heavy reliance third-party merch...</td>\n",
       "      <td>Neutral</td>\n",
       "    </tr>\n",
       "    <tr>\n",
       "      <th>4007</th>\n",
       "      <td>7806</td>\n",
       "      <td>52758</td>\n",
       "      <td>London, England</td>\n",
       "      <td>18-03-2020</td>\n",
       "      <td>vigilant consumer japan public shaming company...</td>\n",
       "      <td>Positive</td>\n",
       "    </tr>\n",
       "    <tr>\n",
       "      <th>4008</th>\n",
       "      <td>7807</td>\n",
       "      <td>52759</td>\n",
       "      <td>San Diego</td>\n",
       "      <td>18-03-2020</td>\n",
       "      <td>#breaking senate vote approve house-passed cor...</td>\n",
       "      <td>Positive</td>\n",
       "    </tr>\n",
       "    <tr>\n",
       "      <th>4009</th>\n",
       "      <td>7808</td>\n",
       "      <td>52760</td>\n",
       "      <td>Ottawa, Ontario</td>\n",
       "      <td>18-03-2020</td>\n",
       "      <td>t'was saturday past word eon ago evolution cov...</td>\n",
       "      <td>Extremely Positive</td>\n",
       "    </tr>\n",
       "    <tr>\n",
       "      <th>4010</th>\n",
       "      <td>7809</td>\n",
       "      <td>52761</td>\n",
       "      <td>New York, USA</td>\n",
       "      <td>18-03-2020</td>\n",
       "      <td>face start itching moment walk grocery store #...</td>\n",
       "      <td>Negative</td>\n",
       "    </tr>\n",
       "    <tr>\n",
       "      <th>4011</th>\n",
       "      <td>7810</td>\n",
       "      <td>52762</td>\n",
       "      <td>Moulamein NSW Australia</td>\n",
       "      <td>18-03-2020</td>\n",
       "      <td>sunrice prepares tiny harvest stock fly superm...</td>\n",
       "      <td>Neutral</td>\n",
       "    </tr>\n",
       "    <tr>\n",
       "      <th>4012</th>\n",
       "      <td>7811</td>\n",
       "      <td>52763</td>\n",
       "      <td>Chicago, IL / Rincon, PR</td>\n",
       "      <td>18-03-2020</td>\n",
       "      <td>waiting line get grocery store aguada puerto r...</td>\n",
       "      <td>Neutral</td>\n",
       "    </tr>\n",
       "    <tr>\n",
       "      <th>4013</th>\n",
       "      <td>7812</td>\n",
       "      <td>52764</td>\n",
       "      <td>Chicago, IL / Rincon, PR</td>\n",
       "      <td>18-03-2020</td>\n",
       "      <td>really realize much cough touch face standing ...</td>\n",
       "      <td>Neutral</td>\n",
       "    </tr>\n",
       "    <tr>\n",
       "      <th>4014</th>\n",
       "      <td>7813</td>\n",
       "      <td>52765</td>\n",
       "      <td>Los Angeles, CA</td>\n",
       "      <td>18-03-2020</td>\n",
       "      <td>came home market toilet paper paper towel egg ...</td>\n",
       "      <td>Extremely Negative</td>\n",
       "    </tr>\n",
       "    <tr>\n",
       "      <th>4015</th>\n",
       "      <td>7814</td>\n",
       "      <td>52766</td>\n",
       "      <td>Vancouver, British Columbia</td>\n",
       "      <td>18-03-2020</td>\n",
       "      <td>disappointing allow resellers jack price many ...</td>\n",
       "      <td>Negative</td>\n",
       "    </tr>\n",
       "  </tbody>\n",
       "</table>\n",
       "</div>"
      ],
      "text/plain": [
       "      UserName  ScreenName                     Location     TweetAt  \\\n",
       "4006      7805       52757              London, England  18-03-2020   \n",
       "4007      7806       52758              London, England  18-03-2020   \n",
       "4008      7807       52759                    San Diego  18-03-2020   \n",
       "4009      7808       52760              Ottawa, Ontario  18-03-2020   \n",
       "4010      7809       52761                New York, USA  18-03-2020   \n",
       "4011      7810       52762      Moulamein NSW Australia  18-03-2020   \n",
       "4012      7811       52763     Chicago, IL / Rincon, PR  18-03-2020   \n",
       "4013      7812       52764     Chicago, IL / Rincon, PR  18-03-2020   \n",
       "4014      7813       52765              Los Angeles, CA  18-03-2020   \n",
       "4015      7814       52766  Vancouver, British Columbia  18-03-2020   \n",
       "\n",
       "                                          OriginalTweet           Sentiment  \n",
       "4006  south korea's heavy reliance third-party merch...             Neutral  \n",
       "4007  vigilant consumer japan public shaming company...            Positive  \n",
       "4008  #breaking senate vote approve house-passed cor...            Positive  \n",
       "4009  t'was saturday past word eon ago evolution cov...  Extremely Positive  \n",
       "4010  face start itching moment walk grocery store #...            Negative  \n",
       "4011  sunrice prepares tiny harvest stock fly superm...             Neutral  \n",
       "4012  waiting line get grocery store aguada puerto r...             Neutral  \n",
       "4013  really realize much cough touch face standing ...             Neutral  \n",
       "4014  came home market toilet paper paper towel egg ...  Extremely Negative  \n",
       "4015  disappointing allow resellers jack price many ...            Negative  "
      ]
     },
     "execution_count": 34,
     "metadata": {},
     "output_type": "execute_result"
    }
   ],
   "source": [
    "sheets[4000:4010]"
   ]
  },
  {
   "cell_type": "code",
   "execution_count": 35,
   "metadata": {},
   "outputs": [
    {
     "name": "stdout",
     "output_type": "stream",
     "text": [
      "repost discgolfcenter due covid spread limiting retail store le people including employee notice offer store pick well free shipping\n"
     ]
    }
   ],
   "source": [
    "print(sheets['OriginalTweet'][4053])"
   ]
  },
  {
   "cell_type": "code",
   "execution_count": 36,
   "metadata": {},
   "outputs": [],
   "source": [
    "from sklearn.model_selection import train_test_split\n",
    "from sklearn.feature_extraction.text import CountVectorizer\n",
    "from sklearn.linear_model import LogisticRegression"
   ]
  },
  {
   "cell_type": "code",
   "execution_count": 37,
   "metadata": {},
   "outputs": [],
   "source": [
    "sentences = sheets['OriginalTweet'].values\n",
    "y = sheets['Sentiment'].values\n",
    "\n",
    "sentences_train, sentences_test, y_train, y_test = train_test_split(sentences, y, test_size=0.25, random_state=1000)"
   ]
  },
  {
   "cell_type": "code",
   "execution_count": 38,
   "metadata": {},
   "outputs": [
    {
     "name": "stdout",
     "output_type": "stream",
     "text": [
      "30843\n",
      "10281\n"
     ]
    }
   ],
   "source": [
    "print(len(sentences_train))\n",
    "print(len(sentences_test))"
   ]
  },
  {
   "cell_type": "code",
   "execution_count": 56,
   "metadata": {},
   "outputs": [],
   "source": [
    "vectorizer = CountVectorizer()\n",
    "vectorizer.fit(sentences_train)\n",
    "\n",
    "X_train = vectorizer.transform(sentences_train)\n",
    "X_test  = vectorizer.transform(sentences_test)"
   ]
  },
  {
   "cell_type": "code",
   "execution_count": 57,
   "metadata": {},
   "outputs": [
    {
     "name": "stdout",
     "output_type": "stream",
     "text": [
      "  (0, 6813)\t1\n",
      "  (0, 10154)\t1\n",
      "  (0, 10602)\t1\n",
      "  (0, 11126)\t1\n",
      "  (0, 13910)\t1\n",
      "  (0, 14002)\t1\n",
      "  (0, 14616)\t1\n",
      "  (0, 14753)\t1\n",
      "  (0, 25480)\t1\n",
      "  (0, 27167)\t1\n",
      "  (0, 29108)\t1\n",
      "  (0, 30770)\t1\n",
      "  (0, 32113)\t1\n"
     ]
    }
   ],
   "source": [
    "print(X_train[:1])"
   ]
  },
  {
   "cell_type": "code",
   "execution_count": 58,
   "metadata": {},
   "outputs": [
    {
     "name": "stdout",
     "output_type": "stream",
     "text": [
      "['feel', 'like', '#lottery', 'much', 'worth', '#stockmarket', '#toiletpaper', '#arizona', '#coronavirus', '#stoppanicbuying', '#foxnews', '#fox10phoenix']\n",
      "['d.watson', 'f10', 'selling', 'mask', 'high', 'price', 'providing', 'bill', 'receipt', '#coronavirusinpakistan', '#coronavirusoutbreak', '#covid2019']\n",
      "['supermarket', 'denmark', 'got', 'tired', 'people', 'hoarding', 'hand', 'sanitizer', 'came', 'way', 'stopping', 'bottle', 'kr40', 'bottle', 'kr10', 'bottle.hoarding', 'stopped', '#covid19', '#hoarding', 'via', 'cc']\n",
      "['lucky', 'year', 'st', \"patrick's\", 'day', 'midst', 'nationwide', 'closing', 'restaurant', 'public', 'place', 'west', 'coast', 'north', 'eatery', 'bar', 'adjusts', 'meet', \"consumer's\", 'need', '#covid19', '#curbsidetakeout', 'ampdeliveryoptions', \"#la's101northeatery\"]\n",
      "['due', '#coronavirus', 'pandemic', '#ftse100', 'fallen', 'year', 'low', '#oilprices', 'dropped', 'year.demand', 'low', 'energy', 'price', 'cheaper', 'time', 'take', 'advantage', 'secure', 'next', '#energycontract', 'info-energy.co.uk']\n",
      "['wore', 'masks.who', 'saw', 'looked', 'back', 'eye', 'whitman', 'emerson', 'mateus', '#loveandantennas', '#nyc', '#japanesebrushpen', '#ink', '#paper', '#story', '#coronavirus', '#covid_19', '#supermarket', '#100armyofwoah']\n",
      "['zo', 'kan', 'het', 'ook', 'die', 'denen', 'zijn', 'zo', 'gek', 'nogniet', 'supermarket', 'denmark', 'got', 'tired', 'people', 'hoarding', 'hand', 'sanitizer', 'came', 'way', 'stopping', 'bottle', 'kr40', 'bottle', 'kr10', 'bottle.hoarding', 'stopped', '#covid19', '#coronavirus', '#hoarding']\n",
      "['#oil', 'future', 'ny', 'jumped', 'barrel', 'below.noon', 'price', '#spx5002421', '#nas1007288', '#wti22', '#gold1485', '#silver12', 'trading', 'oil', 'free', 'demo', '#coronavirus', '#covid19', '#covid2019au', '#donaldtrump', '#coronavirusoutbreak']\n",
      "['stable', 'supply', 'good', 'happens', 'covid', 'worse', 'panic', 'buying', 'x10', 'cannot', 'find', 'food', 'everyone', 'want', 'food']\n",
      "['stop', 'hoarding', 'black', 'marketing', 'hand', 'sanitizers', 'amp', 'mask', 'consumer', 'affair', 'ministry', 'cap', 'price', 'till', 'jun', 'price', 'list', 'ply', 'surgical', 'mask', 'max', 'rs10', 'ply', 'mask', 'max', 'rs8', 'hand', 'sanitizers', 'max', 'rs100', 'bottle']\n",
      "['suggestion', 'stop', 'panic', 'stockpiling', 'food', 'item', 'normal', 'price', 'item', 'item', 'x10', 'normal', 'price', 'item', 'item', 'x100', 'normal', 'price', '#coronacrisis']\n",
      "['cv', 'health', 'release', 'covid', 'resource', 'aetna', 'member', 'drug', 'store', 'news', '#innovation', '#marketing101', '#customerjourney', '#retail', 'via']\n",
      "['#quarantined', 'line', '#supermarket', 'bored', 'got', '#coronavirus', 'tune', 'et', 'today', 'spin', '#hiphop', '#radio', '#music', '#rap', '#rnb', '#pop', '#rnbmusic', '#trap', '#trapmusic', '#hot97', '#power105', '#dj']\n",
      "['#disney', 'warns', 'coronavirus', 'outbreak', 'could', 'change', 'consumer', 'behavior', 'theme', 'park', 'business', '#yournerdsidepodcast', '#yournerdside', '#kblx1029', '#podcast', '#disney', '#covid19', '#coronavirus', '#spreaker', '#spotify', '#tunein', '#applepodcast']\n",
      "['supermarket', 'denmark', 'got', 'tired', 'people', 'hoarding', 'hand', 'sanitizer', 'came', 'way', 'stopping', 'bottle', 'kr40', 'bottle', 'kr10', 'bottle', 'hoarding', 'stopped']\n",
      "['done', 'supermarket', 'denmark', 'got', 'tired', 'people', 'hoarding', 'hand', 'sanitizer', 'came', 'way', 'stopping', 'bottle', 'kr40', 'bottle', 'kr10', 'bottle.hoarding', 'stopped', '#covid19', '#coronavirus', '#hoarding']\n",
      "['supermarket', 'denmark', 'got', 'tired', 'people', 'hoarding', 'hand', 'sanitizer', 'came', 'way', 'stopping', 'bottle', 'kr40', 'bottle', 'kr10', 'bottle.hoarding', 'stopped', '#covid19', '#coronavirus', '#hoardingwe', '#toiletpaper']\n",
      "['please', 'regulatethe', 'price', 'hand', 'sanitizers', 'came', 'pharmacy', 'selling', 'bottle', 'r100', '#coronavirusinsouthafrica', '#quarantineandchill', '#covid_19', '#stopthespread', '#humanrightsday', '#covid19insa']\n",
      "['mi', 'tv', 'v', 'realme', 'tv', 'release', 'date', 'feature', 'pricesfull', 'video', '#realmetv', '#mitv5', '#mi10', '#mi10pro', '#coronavirusupdatetoday', '#realmenarzo', '#realmenarzo10', '#coronavirusoutbreakindia', '#stayathomechallenge', '#indiafightscoronavirus', '#covid_19']\n",
      "['first', 'frame', 'picture', 'truck', 'conveying', 'student', 'oye-ekiti', 'ibadan', 'lagos', 'respectively', '#10', 'trying', 'avert', 'covid', 'second', 'frame', 'hiked', 'price', 'bus', 'inadan', 'norm', '#1500', 'lot', 'student', 'stranded', 'oye-ekiti']\n",
      "['#croozefmnews', '#covid_19', '#covid19ug', 'price', 'terribly', 'increase', 'mbarara', 'trader', 'suspended', 'refusal', 'pay', 'sh10']\n",
      "['medical', 'surgical', 'mask', 'covid', 'coronavirus', 'deliveried', 'fastest', 'courier', 'day', 'contact', 'sara', 'sales10.com', 'price']\n",
      "['always', 'sneeze', 'cough', 'tissue', 'bent', 'elbow.ask', 'coronavirus', 'covid', 'question', 'doctor', 'online', '#coronavirus', '#virus', '#covid19', '#icliniq100hrs', '#handwash', '#sanitizer']\n",
      "['online', 'shopping', 'working', 'vulnerable', 'group', 'shopping', 'arrive-no', 'substitute', 'need', 'sorting', 'trying', 'keep', 'away', 'shop', '#coronavirus', '#sainsburys', '#no10', '#armyforfooddistribution']\n",
      "['covid', 'store', 'update', 'temporary', 'store', 'closure', 'mount', 'chain', 'store', 'age', '#marketing101', '#cro', '#retail', '#transaction', 'via']\n",
      "['amidst', 'covid', 'pandemic', 'shopee', 'ensuring', 'affordable', 'access', 'face', 'mask', 'ply', 'face', 'mask', 'offered', 'le', 'rm100']\n",
      "['supermarket', 'cashier', 'get', 'r102m', 'cash', 'appreciation', 'bonus', 'covid', 'work']\n",
      "['suspend', 'ethanol', 'restriction', 'sitting', 'million', 'gallon', 'ethanol', 'e10', 'fuel', 'used', 'amp', 'denatured', 'either', 'hand', 'sanitizer', 'instead', 'isopropyl', 'sold', 'directly', 'reduce', 'fire', 'hazard', 'disinfectant', 'surface']\n",
      "['great', 'home', 'activitythe', 'original', 'reach', 'still', 'see', 'world-class', 'art', 'without', 'price', 'online', 'tour', 'museum', '#coronavirus', '#coronaviruslockdown10', \"world's\", 'best', 'virtual', 'museum', 'art', 'gallery', 'tour']\n",
      "['supermarket', 'cashier', 'get', 'r102m', 'pay', 'bonus', 'covid', 'work', 'via']\n",
      "['shoprite', 'supermarket', 'cashier', 'get', 'r102m', 'cash', 'appreciation', 'bonus', 'covid', 'work', 'via']\n",
      "['supermarket', 'cashier', 'get', 'r102m', 'pay', 'bonus', 'covid', 'work', 'story']\n",
      "['supermarket', 'cashier', 'get', 'r102m', 'pay', 'bonus', 'covid', 'work']\n",
      "['#singer', '#runtown', 'share', 'million', 'naira', 'n10m', '#twitter', '#people', '#stockup', '#survival', '#essentialsbless', '#money', '#giveaway', '#coronavirus', '#covid19', '#covid', '#nigeria', '#naija']\n",
      "['hand', 'washing', 'covid', '-->', '#coronavirus', '#virus', '#covid19', '#icliniq100hrs', '#life', '#handwash', '#sanitizer', '#protection', '#prevention', '#celebrateyou', '#safety', '#onlinedoctor', '#home']\n",
      "['supermarket', 'cashier', 'get', 'r102m', 'pay', 'bonus', 'covid', 'work', 'brilliant', 'initiative', 'well', 'deserved']\n",
      "['access', 'konga', 'n10m', 'covid', 'fund', 'simply', 'add', 'code', 'solosafe', 'check', 'page', 'shopping', 'online']\n",
      "['day', '#10', 'quarantine', 'tonight', 'begin', 'county', 'lockdown', 'going', 'dc', 'whole', 'ordeal', 'probably', 'safer', 'way', 'made', 'final', 'trip', 'grocery', 'store', 'finally', 'watched', 'hobbs', 'shaw', '#coronavirus']\n",
      "['crude', 'oil', 'dropped', 'lowest', 'year', 'asia', '#coronavirus', '#us', '#eu', 'show', 'little', 'sign', 'slowing.noon', 'price', '#spx5002504', '#nas1007507', '#wti20', '#gold1618', '#silver14', 'price', 'closely', '#covid19', '#coronavirusoutbreak']\n",
      "['whether', 'consumer', 'work', '#b2b', 'company', 'thing', '#smallbusinesses', 'life', 'need', 'little', 'extra', 'help', 'right', 'specific', 'way', '#covid10', '#coronavirus', '#smallbiz']\n",
      "['tip', 'safer', 'shoppingask', 'coronavirus', 'covid', 'question', 'doctor', 'online', '#coronavirus', '#virus', '#covid19', '#icliniq100hrs', '#life', '#shopping']\n",
      "['still', 'working', 'covid', 'trouble', 'however', 'day', 'spent', 'delivering', 'shopping', 'loved', 'one', 'cannot', 'get', 'playing', 'champ', 'man', 'poker', 'missus', 'entertains', 'combing', 'beard', 'online', 'jigsaw', 'canny', '#cm0102', '#fm20', '#holdem']\n",
      "['surging', 'oil', 'price', 'lifted', \"#uk's\", 'commodity-heavy', '#ftse100', 'thursday', 'although', 'mood', 'fragile', 'britain', 'saw', 'record', 'surge', 'death', '#coronavirus', 'pandemic', 'threatens', 'plunge', 'world', '#economy', 'deep', 'recession']\n",
      "['charge', 'expediting', 'package', 'christmas', 'eve', 'consumer', 'beware-gouging', 'alive', 'well', '#coronavirus', '#masks', '#pricegouging', '#covid-10']\n",
      "['finally', 'managed', 'get', 'delivery', 'slot', 'online', 'shopping', 'ordered', 'turkey', 'sprout', 'christmas', 'cake', 'christmas', 'cracker', 'pudding', '#covid2019', '#lockdown101']\n",
      "['hospitality', 'fast', 'food', 'company', 'like', 'mcdonalds', 'stand', 'worker', 'covid', 'crisis', 'worker', 'deserve', 'paid', '#100percent', 'see']\n",
      "['shipping', '#kn95', '#respirators', 'equivalent', '#n95100', 'verifiable', 'authenticity', '#blockchain', 'digital', 'certificate', 'prove', 'origin', 'shipping', 'worldwide', 'day', 'mask', 'per', 'day', 'capacity', 'tricol', 'group', '#covid_19', '#vet']\n",
      "['realized', 'couple', 'month', 'prior', 'losing', 'job', 'found', 'two', 'item', 'one', 'property', 'managed', 'n100', 'full', 'faced', 'mask', 'giant', 'bottle', 'almost', 'pure', 'alcohol', 'hand', 'sanitizer', 'joke', 'lol', '#coronavirus']\n",
      "['still', 'stock', 'scrub', 'tunic', 'price', '#workwear', '#hospital', '#scrubs', '#tunics', '#discount', '#nhs', '#coronavirus', '#helpthenhs', '#menstunics', '#tabards', '#onlinediacount', '#10', '#scrubtrousers', '#scrubtops']\n",
      "['opinion', 'uncle', 'sam', 'need', 'start', 'giving', 'u', 'free', 'hand', 'sanitizer', '#coronavirus', '#covid10', '#publichealth']\n",
      "['covid', 'prevention', 'tipsask', 'doctor', '#covid19', '#stayhome', '#socialdistancing', '#coronavirus', '#virus', '#icliniq100hrs', '#life', '#handwash', '#sanitizer']\n",
      "['#nbc10responds', 'reporter', 'continues', 'answer', 'coronavirus-related', 'question', 'one', 'viewer', 'asked', 'coworker', 'test', 'positive', 'covid']\n",
      "['normally', 'bumper', 'bumper', 'callahan', 'tunnel', 'boston', 'wicked', 'light', 'traffic', '#coronavirus', '#covid19', '#toiletpaper', '#bidenharris2020', '#democrats', '#chicagotribune', '#capecod', '#newyork', '#1010wins', '#latimes', '#worldhealthday2020', '#bostonglobe', '#abc', '#miamibeach', '#bostoncollege', '#bostonstrong', '#nurses']\n",
      "['vendor', 'always', 'sync', 'hiking', 'price', 'maybe', 'whatsapp', 'group', 'like', 'ok', 'today', 'let', 'u', 'start', 'selling', 'cup', 'garri', '#10', 'price', 'crazy', 'right', '#covid_19', '#lockdownextension']\n",
      "['stay', 'safe', 'everyone', 'ask', 'doctor', '#covid19', '#stayhome', '#socialdistancing', '#coronavirus', '#virus', '#icliniq100hrs', '#life', '#handwash', '#sanitizer']\n",
      "['coronavirus', 'ask', 'doctor', '#covid19', '#stayhome', '#socialdistancing', '#coronavirus', '#virus', '#icliniq100hrs', '#life', '#handwash', '#sanitizer', '#protection', '#prevention', '#celebrateyou', '#safety', '#onlinedoctor', '#home', '#coronavillains']\n",
      "['tesco', 'estimate', 'million', 'hit', 'due', 'coronavirus', 'pandemic', '#tesco', '#retailer', '#supermarket', '#coronavirus', '#stockmarketnews', '#uk', '#ftse100', '#davelewis']\n",
      "['young', 'chop', 'press', 'crip', 'pop', 'smoke', 'supermarket', 'almost', 'arrested', 'via', '#1017challenge', '#coronavirus', '#covid_19', '#worldstarhiphop', '#kroger', '#kushupchallenge', '#celebrity', '#quaratinelife', '#newmusic', '#pandemic', '#thursdayvibes', '#musicindustry', '#stayhome', '#tbt']\n",
      "['#100daysofcode', 'day', 'undefined', 'update', 'approved', 'covid', 'essential', 'online', 'shopping', 'list', 'io', 'app', 'share', 'link', 'product', 'admins', 'another', 'reason', 'available', 'reject', 'product']\n",
      "['#coronavirus', 'spread', 'touching', 'surface', 'object', 'virus', 'touching', 'eye', 'nose', 'mouth', 'thereafter', 'therefore', 'kindly', 'wash', 'hand', 'periodically', 'use', 'alcohol', 'based', 'hand', 'sanitizer', '#staysafe', '#splashfm1055']\n",
      "['sanitizer', 'italy', 'wuhan', 'grocery', 'join', 'parmar', 's10']\n",
      "['best', 'time', 'buy', 'stock', 'everybody', 'fearful', 'wait', 'stock', 'market', 'bottom', 'start', 'buying', 'relatively', 'cheap', 'price', '#investing101', '#coronavirus', '#forexinvestment', '#forexmarket']\n",
      "['hand', 'washing', 'stepsclick', '-->', '#icliniq100hrs', '#covid19', '#coronavirus', '#askadoctor', '#doctoronline', '#handwash', '#healthyliving', '#sanitizer', '#celebrateyou']\n",
      "['#covid_19', 'stay-at-home', 'activitiesup', 'feed', 'chicken', 'make', 'coffee', 'follow', 'email', '#pause', 'activity', '#kalypso', '#wondercat10', 'supermarket', 'run', 'start', 'making', '#pickled', 'veggie', 'finish', 'pickled', '#veggies4', 'breakie', 'lunch']\n",
      "['#10baje', 'please', 'give', 'new', 'task', 'today', 'soap', 'kill', '#coronavirus', 'airborne', 'soap', 'bubble', 'kill', 'airborne', 'virus', 'particle', 'science', 'behind', 'blowing', 'bubble', 'new', 'finding', 'point', 'new', 'way', 'produce', 'range', 'consumer', 'product']\n"
     ]
    }
   ],
   "source": [
    "for sen in sheets['OriginalTweet']:\n",
    "    if \"10\" in sen:\n",
    "        print(sen.split())"
   ]
  },
  {
   "cell_type": "code",
   "execution_count": null,
   "metadata": {},
   "outputs": [],
   "source": []
  },
  {
   "cell_type": "code",
   "execution_count": 59,
   "metadata": {},
   "outputs": [
    {
     "name": "stdout",
     "output_type": "stream",
     "text": [
      "Train Accuracy: 0.9391758259572675\n",
      "Ttest Accuracy: 0.6094737865966345\n"
     ]
    },
    {
     "name": "stderr",
     "output_type": "stream",
     "text": [
      "C:\\Users\\AdelAKA\\anaconda3\\lib\\site-packages\\sklearn\\linear_model\\_logistic.py:762: ConvergenceWarning: lbfgs failed to converge (status=1):\n",
      "STOP: TOTAL NO. of ITERATIONS REACHED LIMIT.\n",
      "\n",
      "Increase the number of iterations (max_iter) or scale the data as shown in:\n",
      "    https://scikit-learn.org/stable/modules/preprocessing.html\n",
      "Please also refer to the documentation for alternative solver options:\n",
      "    https://scikit-learn.org/stable/modules/linear_model.html#logistic-regression\n",
      "  n_iter_i = _check_optimize_result(\n"
     ]
    }
   ],
   "source": [
    "classifier = LogisticRegression()\n",
    "classifier.fit(X_train, y_train)\n",
    "score_train = classifier.score(X_train, y_train)\n",
    "score_test = classifier.score(X_test, y_test)\n",
    "\n",
    "print(\"Train Accuracy:\", score_train)\n",
    "print(\"Ttest Accuracy:\", score_test)"
   ]
  },
  {
   "cell_type": "code",
   "execution_count": 32,
   "metadata": {},
   "outputs": [],
   "source": [
    "from sklearn import preprocessing"
   ]
  },
  {
   "cell_type": "code",
   "execution_count": 61,
   "metadata": {},
   "outputs": [],
   "source": [
    "scaler = preprocessing.StandardScaler(with_mean=False).fit(X_train)\n",
    "scaler.scale_\n",
    "X_scaled = scaler.transform(X_train)"
   ]
  },
  {
   "cell_type": "code",
   "execution_count": 62,
   "metadata": {},
   "outputs": [
    {
     "data": {
      "text/plain": [
       "<30843x36454 sparse matrix of type '<class 'numpy.float64'>'\n",
       "\twith 509225 stored elements in Compressed Sparse Row format>"
      ]
     },
     "execution_count": 62,
     "metadata": {},
     "output_type": "execute_result"
    }
   ],
   "source": [
    "X_scaled"
   ]
  },
  {
   "cell_type": "code",
   "execution_count": 63,
   "metadata": {},
   "outputs": [
    {
     "data": {
      "text/plain": [
       "<30843x36454 sparse matrix of type '<class 'numpy.int64'>'\n",
       "\twith 509225 stored elements in Compressed Sparse Row format>"
      ]
     },
     "execution_count": 63,
     "metadata": {},
     "output_type": "execute_result"
    }
   ],
   "source": [
    "X_train"
   ]
  },
  {
   "cell_type": "code",
   "execution_count": 64,
   "metadata": {},
   "outputs": [],
   "source": [
    "scaler = preprocessing.StandardScaler(with_mean=False).fit(X_test)\n",
    "scaler.scale_\n",
    "X_test_scaled = scaler.transform(X_test)"
   ]
  },
  {
   "cell_type": "code",
   "execution_count": 65,
   "metadata": {},
   "outputs": [
    {
     "name": "stdout",
     "output_type": "stream",
     "text": [
      "Train Accuracy: 0.9997081995914794\n",
      "Ttest Accuracy: 0.476023733099893\n"
     ]
    },
    {
     "name": "stderr",
     "output_type": "stream",
     "text": [
      "C:\\Users\\AdelAKA\\anaconda3\\lib\\site-packages\\sklearn\\linear_model\\_logistic.py:762: ConvergenceWarning: lbfgs failed to converge (status=1):\n",
      "STOP: TOTAL NO. of ITERATIONS REACHED LIMIT.\n",
      "\n",
      "Increase the number of iterations (max_iter) or scale the data as shown in:\n",
      "    https://scikit-learn.org/stable/modules/preprocessing.html\n",
      "Please also refer to the documentation for alternative solver options:\n",
      "    https://scikit-learn.org/stable/modules/linear_model.html#logistic-regression\n",
      "  n_iter_i = _check_optimize_result(\n"
     ]
    }
   ],
   "source": [
    "classifier = LogisticRegression()\n",
    "classifier.fit(X_scaled, y_train)\n",
    "score_train = classifier.score(X_scaled, y_train)\n",
    "score_test = classifier.score(X_test_scaled, y_test)\n",
    "\n",
    "print(\"Train Accuracy:\", score_train)\n",
    "print(\"Ttest Accuracy:\", score_test)"
   ]
  },
  {
   "cell_type": "code",
   "execution_count": 39,
   "metadata": {},
   "outputs": [],
   "source": [
    "from sklearn.feature_extraction.text import TfidfVectorizer"
   ]
  },
  {
   "cell_type": "code",
   "execution_count": 40,
   "metadata": {
    "scrolled": false
   },
   "outputs": [
    {
     "data": {
      "text/html": [
       "<div>\n",
       "<style scoped>\n",
       "    .dataframe tbody tr th:only-of-type {\n",
       "        vertical-align: middle;\n",
       "    }\n",
       "\n",
       "    .dataframe tbody tr th {\n",
       "        vertical-align: top;\n",
       "    }\n",
       "\n",
       "    .dataframe thead th {\n",
       "        text-align: right;\n",
       "    }\n",
       "</style>\n",
       "<table border=\"1\" class=\"dataframe\">\n",
       "  <thead>\n",
       "    <tr style=\"text-align: right;\">\n",
       "      <th></th>\n",
       "      <th>10</th>\n",
       "      <th>14days</th>\n",
       "      <th>19</th>\n",
       "      <th>19 at</th>\n",
       "      <th>19 but</th>\n",
       "      <th>19 collapse</th>\n",
       "      <th>19 consumer</th>\n",
       "      <th>19 corona</th>\n",
       "      <th>19 coronavirus</th>\n",
       "      <th>19 covid</th>\n",
       "      <th>...</th>\n",
       "      <th>zone feel</th>\n",
       "      <th>zoo</th>\n",
       "      <th>zoom</th>\n",
       "      <th>zoom meeting</th>\n",
       "      <th>zoonotic</th>\n",
       "      <th>zoonotic deeply</th>\n",
       "      <th>zu</th>\n",
       "      <th>zuku</th>\n",
       "      <th>zweli</th>\n",
       "      <th>zweli mkhize</th>\n",
       "    </tr>\n",
       "  </thead>\n",
       "  <tbody>\n",
       "    <tr>\n",
       "      <th>0</th>\n",
       "      <td>0.0</td>\n",
       "      <td>0.0</td>\n",
       "      <td>0.000000</td>\n",
       "      <td>0.0</td>\n",
       "      <td>0.0</td>\n",
       "      <td>0.0</td>\n",
       "      <td>0.0</td>\n",
       "      <td>0.0</td>\n",
       "      <td>0.000000</td>\n",
       "      <td>0.0</td>\n",
       "      <td>...</td>\n",
       "      <td>0.0</td>\n",
       "      <td>0.0</td>\n",
       "      <td>0.0</td>\n",
       "      <td>0.0</td>\n",
       "      <td>0.0</td>\n",
       "      <td>0.0</td>\n",
       "      <td>0.0</td>\n",
       "      <td>0.0</td>\n",
       "      <td>0.0</td>\n",
       "      <td>0.0</td>\n",
       "    </tr>\n",
       "    <tr>\n",
       "      <th>1</th>\n",
       "      <td>0.0</td>\n",
       "      <td>0.0</td>\n",
       "      <td>0.000000</td>\n",
       "      <td>0.0</td>\n",
       "      <td>0.0</td>\n",
       "      <td>0.0</td>\n",
       "      <td>0.0</td>\n",
       "      <td>0.0</td>\n",
       "      <td>0.000000</td>\n",
       "      <td>0.0</td>\n",
       "      <td>...</td>\n",
       "      <td>0.0</td>\n",
       "      <td>0.0</td>\n",
       "      <td>0.0</td>\n",
       "      <td>0.0</td>\n",
       "      <td>0.0</td>\n",
       "      <td>0.0</td>\n",
       "      <td>0.0</td>\n",
       "      <td>0.0</td>\n",
       "      <td>0.0</td>\n",
       "      <td>0.0</td>\n",
       "    </tr>\n",
       "    <tr>\n",
       "      <th>2</th>\n",
       "      <td>0.0</td>\n",
       "      <td>0.0</td>\n",
       "      <td>0.139062</td>\n",
       "      <td>0.0</td>\n",
       "      <td>0.0</td>\n",
       "      <td>0.0</td>\n",
       "      <td>0.0</td>\n",
       "      <td>0.0</td>\n",
       "      <td>0.204623</td>\n",
       "      <td>0.0</td>\n",
       "      <td>...</td>\n",
       "      <td>0.0</td>\n",
       "      <td>0.0</td>\n",
       "      <td>0.0</td>\n",
       "      <td>0.0</td>\n",
       "      <td>0.0</td>\n",
       "      <td>0.0</td>\n",
       "      <td>0.0</td>\n",
       "      <td>0.0</td>\n",
       "      <td>0.0</td>\n",
       "      <td>0.0</td>\n",
       "    </tr>\n",
       "    <tr>\n",
       "      <th>3</th>\n",
       "      <td>0.0</td>\n",
       "      <td>0.0</td>\n",
       "      <td>0.000000</td>\n",
       "      <td>0.0</td>\n",
       "      <td>0.0</td>\n",
       "      <td>0.0</td>\n",
       "      <td>0.0</td>\n",
       "      <td>0.0</td>\n",
       "      <td>0.000000</td>\n",
       "      <td>0.0</td>\n",
       "      <td>...</td>\n",
       "      <td>0.0</td>\n",
       "      <td>0.0</td>\n",
       "      <td>0.0</td>\n",
       "      <td>0.0</td>\n",
       "      <td>0.0</td>\n",
       "      <td>0.0</td>\n",
       "      <td>0.0</td>\n",
       "      <td>0.0</td>\n",
       "      <td>0.0</td>\n",
       "      <td>0.0</td>\n",
       "    </tr>\n",
       "    <tr>\n",
       "      <th>4</th>\n",
       "      <td>0.0</td>\n",
       "      <td>0.0</td>\n",
       "      <td>0.000000</td>\n",
       "      <td>0.0</td>\n",
       "      <td>0.0</td>\n",
       "      <td>0.0</td>\n",
       "      <td>0.0</td>\n",
       "      <td>0.0</td>\n",
       "      <td>0.000000</td>\n",
       "      <td>0.0</td>\n",
       "      <td>...</td>\n",
       "      <td>0.0</td>\n",
       "      <td>0.0</td>\n",
       "      <td>0.0</td>\n",
       "      <td>0.0</td>\n",
       "      <td>0.0</td>\n",
       "      <td>0.0</td>\n",
       "      <td>0.0</td>\n",
       "      <td>0.0</td>\n",
       "      <td>0.0</td>\n",
       "      <td>0.0</td>\n",
       "    </tr>\n",
       "    <tr>\n",
       "      <th>5</th>\n",
       "      <td>0.0</td>\n",
       "      <td>0.0</td>\n",
       "      <td>0.000000</td>\n",
       "      <td>0.0</td>\n",
       "      <td>0.0</td>\n",
       "      <td>0.0</td>\n",
       "      <td>0.0</td>\n",
       "      <td>0.0</td>\n",
       "      <td>0.000000</td>\n",
       "      <td>0.0</td>\n",
       "      <td>...</td>\n",
       "      <td>0.0</td>\n",
       "      <td>0.0</td>\n",
       "      <td>0.0</td>\n",
       "      <td>0.0</td>\n",
       "      <td>0.0</td>\n",
       "      <td>0.0</td>\n",
       "      <td>0.0</td>\n",
       "      <td>0.0</td>\n",
       "      <td>0.0</td>\n",
       "      <td>0.0</td>\n",
       "    </tr>\n",
       "    <tr>\n",
       "      <th>6</th>\n",
       "      <td>0.0</td>\n",
       "      <td>0.0</td>\n",
       "      <td>0.000000</td>\n",
       "      <td>0.0</td>\n",
       "      <td>0.0</td>\n",
       "      <td>0.0</td>\n",
       "      <td>0.0</td>\n",
       "      <td>0.0</td>\n",
       "      <td>0.000000</td>\n",
       "      <td>0.0</td>\n",
       "      <td>...</td>\n",
       "      <td>0.0</td>\n",
       "      <td>0.0</td>\n",
       "      <td>0.0</td>\n",
       "      <td>0.0</td>\n",
       "      <td>0.0</td>\n",
       "      <td>0.0</td>\n",
       "      <td>0.0</td>\n",
       "      <td>0.0</td>\n",
       "      <td>0.0</td>\n",
       "      <td>0.0</td>\n",
       "    </tr>\n",
       "    <tr>\n",
       "      <th>7</th>\n",
       "      <td>0.0</td>\n",
       "      <td>0.0</td>\n",
       "      <td>0.000000</td>\n",
       "      <td>0.0</td>\n",
       "      <td>0.0</td>\n",
       "      <td>0.0</td>\n",
       "      <td>0.0</td>\n",
       "      <td>0.0</td>\n",
       "      <td>0.000000</td>\n",
       "      <td>0.0</td>\n",
       "      <td>...</td>\n",
       "      <td>0.0</td>\n",
       "      <td>0.0</td>\n",
       "      <td>0.0</td>\n",
       "      <td>0.0</td>\n",
       "      <td>0.0</td>\n",
       "      <td>0.0</td>\n",
       "      <td>0.0</td>\n",
       "      <td>0.0</td>\n",
       "      <td>0.0</td>\n",
       "      <td>0.0</td>\n",
       "    </tr>\n",
       "    <tr>\n",
       "      <th>8</th>\n",
       "      <td>0.0</td>\n",
       "      <td>0.0</td>\n",
       "      <td>0.000000</td>\n",
       "      <td>0.0</td>\n",
       "      <td>0.0</td>\n",
       "      <td>0.0</td>\n",
       "      <td>0.0</td>\n",
       "      <td>0.0</td>\n",
       "      <td>0.000000</td>\n",
       "      <td>0.0</td>\n",
       "      <td>...</td>\n",
       "      <td>0.0</td>\n",
       "      <td>0.0</td>\n",
       "      <td>0.0</td>\n",
       "      <td>0.0</td>\n",
       "      <td>0.0</td>\n",
       "      <td>0.0</td>\n",
       "      <td>0.0</td>\n",
       "      <td>0.0</td>\n",
       "      <td>0.0</td>\n",
       "      <td>0.0</td>\n",
       "    </tr>\n",
       "    <tr>\n",
       "      <th>9</th>\n",
       "      <td>0.0</td>\n",
       "      <td>0.0</td>\n",
       "      <td>0.000000</td>\n",
       "      <td>0.0</td>\n",
       "      <td>0.0</td>\n",
       "      <td>0.0</td>\n",
       "      <td>0.0</td>\n",
       "      <td>0.0</td>\n",
       "      <td>0.000000</td>\n",
       "      <td>0.0</td>\n",
       "      <td>...</td>\n",
       "      <td>0.0</td>\n",
       "      <td>0.0</td>\n",
       "      <td>0.0</td>\n",
       "      <td>0.0</td>\n",
       "      <td>0.0</td>\n",
       "      <td>0.0</td>\n",
       "      <td>0.0</td>\n",
       "      <td>0.0</td>\n",
       "      <td>0.0</td>\n",
       "      <td>0.0</td>\n",
       "    </tr>\n",
       "  </tbody>\n",
       "</table>\n",
       "<p>10 rows × 68902 columns</p>\n",
       "</div>"
      ],
      "text/plain": [
       "    10  14days        19  19 at  19 but  19 collapse  19 consumer  19 corona  \\\n",
       "0  0.0     0.0  0.000000    0.0     0.0          0.0          0.0        0.0   \n",
       "1  0.0     0.0  0.000000    0.0     0.0          0.0          0.0        0.0   \n",
       "2  0.0     0.0  0.139062    0.0     0.0          0.0          0.0        0.0   \n",
       "3  0.0     0.0  0.000000    0.0     0.0          0.0          0.0        0.0   \n",
       "4  0.0     0.0  0.000000    0.0     0.0          0.0          0.0        0.0   \n",
       "5  0.0     0.0  0.000000    0.0     0.0          0.0          0.0        0.0   \n",
       "6  0.0     0.0  0.000000    0.0     0.0          0.0          0.0        0.0   \n",
       "7  0.0     0.0  0.000000    0.0     0.0          0.0          0.0        0.0   \n",
       "8  0.0     0.0  0.000000    0.0     0.0          0.0          0.0        0.0   \n",
       "9  0.0     0.0  0.000000    0.0     0.0          0.0          0.0        0.0   \n",
       "\n",
       "   19 coronavirus  19 covid  ...  zone feel  zoo  zoom  zoom meeting  \\\n",
       "0        0.000000       0.0  ...        0.0  0.0   0.0           0.0   \n",
       "1        0.000000       0.0  ...        0.0  0.0   0.0           0.0   \n",
       "2        0.204623       0.0  ...        0.0  0.0   0.0           0.0   \n",
       "3        0.000000       0.0  ...        0.0  0.0   0.0           0.0   \n",
       "4        0.000000       0.0  ...        0.0  0.0   0.0           0.0   \n",
       "5        0.000000       0.0  ...        0.0  0.0   0.0           0.0   \n",
       "6        0.000000       0.0  ...        0.0  0.0   0.0           0.0   \n",
       "7        0.000000       0.0  ...        0.0  0.0   0.0           0.0   \n",
       "8        0.000000       0.0  ...        0.0  0.0   0.0           0.0   \n",
       "9        0.000000       0.0  ...        0.0  0.0   0.0           0.0   \n",
       "\n",
       "   zoonotic  zoonotic deeply   zu  zuku  zweli  zweli mkhize  \n",
       "0       0.0              0.0  0.0   0.0    0.0           0.0  \n",
       "1       0.0              0.0  0.0   0.0    0.0           0.0  \n",
       "2       0.0              0.0  0.0   0.0    0.0           0.0  \n",
       "3       0.0              0.0  0.0   0.0    0.0           0.0  \n",
       "4       0.0              0.0  0.0   0.0    0.0           0.0  \n",
       "5       0.0              0.0  0.0   0.0    0.0           0.0  \n",
       "6       0.0              0.0  0.0   0.0    0.0           0.0  \n",
       "7       0.0              0.0  0.0   0.0    0.0           0.0  \n",
       "8       0.0              0.0  0.0   0.0    0.0           0.0  \n",
       "9       0.0              0.0  0.0   0.0    0.0           0.0  \n",
       "\n",
       "[10 rows x 68902 columns]"
      ]
     },
     "execution_count": 40,
     "metadata": {},
     "output_type": "execute_result"
    }
   ],
   "source": [
    "tfidf = TfidfVectorizer(min_df=2, max_df=0.5, ngram_range=(1, 2))\n",
    "tfidf.fit(sentences_train) #calcualate the values\n",
    "X_train = tfidf.transform(sentences_train) #make the vectors\n",
    "X_test = tfidf.transform(sentences_test)\n",
    "pd.DataFrame(\n",
    "    X_train[:10].todense(),\n",
    "    columns=tfidf.get_feature_names()\n",
    ")"
   ]
  },
  {
   "cell_type": "code",
   "execution_count": 68,
   "metadata": {},
   "outputs": [],
   "source": [
    "#pd.DataFrame(\n",
    "#    X_train[24850:24900].todense(),\n",
    "#    columns=tfidf.get_feature_names()\n",
    "#)"
   ]
  },
  {
   "cell_type": "code",
   "execution_count": 69,
   "metadata": {},
   "outputs": [
    {
     "name": "stdout",
     "output_type": "stream",
     "text": [
      "Train Accuracy: 0.8494634114709982\n",
      "Ttest Accuracy: 0.5583114483026943\n"
     ]
    },
    {
     "name": "stderr",
     "output_type": "stream",
     "text": [
      "C:\\Users\\AdelAKA\\anaconda3\\lib\\site-packages\\sklearn\\linear_model\\_logistic.py:762: ConvergenceWarning: lbfgs failed to converge (status=1):\n",
      "STOP: TOTAL NO. of ITERATIONS REACHED LIMIT.\n",
      "\n",
      "Increase the number of iterations (max_iter) or scale the data as shown in:\n",
      "    https://scikit-learn.org/stable/modules/preprocessing.html\n",
      "Please also refer to the documentation for alternative solver options:\n",
      "    https://scikit-learn.org/stable/modules/linear_model.html#logistic-regression\n",
      "  n_iter_i = _check_optimize_result(\n"
     ]
    }
   ],
   "source": [
    "classifier = LogisticRegression()\n",
    "classifier.fit(X_train, y_train)\n",
    "score_train = classifier.score(X_train, y_train)\n",
    "score_test = classifier.score(X_test, y_test)\n",
    "\n",
    "print(\"Train Accuracy:\", score_train)\n",
    "print(\"Ttest Accuracy:\", score_test)"
   ]
  },
  {
   "cell_type": "code",
   "execution_count": 33,
   "metadata": {},
   "outputs": [],
   "source": [
    "def remove_hashtag(sentence):\n",
    "    tokens = sentence.split(' ')\n",
    "    noHashtags = [t for t in tokens if t[0] != \"#\"]\n",
    "    return ' '.join(noHashtags).strip()"
   ]
  },
  {
   "cell_type": "code",
   "execution_count": 71,
   "metadata": {},
   "outputs": [],
   "source": [
    "for i in range(len(sentences_train)):\n",
    "    sentences_train[i] = remove_hashtag(sentences_train[i])\n",
    "for i in range(len(sentences_test)):\n",
    "    sentences_test[i] = remove_hashtag(sentences_test[i])"
   ]
  },
  {
   "cell_type": "code",
   "execution_count": 72,
   "metadata": {},
   "outputs": [
    {
     "name": "stdout",
     "output_type": "stream",
     "text": [
      "['thank grocery store employee put health greater risk help everyone eat sign'\n",
      " 'please virtue signal expressing gratitude essential worker word show real gratitude staying home grocery store mental health outing'\n",
      " 'extra cautious harm disinfecting frequently touched surface disposable cloth tissue alcohol based sanitizer disinfectant ensure surrounding safe'\n",
      " 'agree leave kid home streamline supermarket visit limit contact potential exposure'\n",
      " 'rather go supermarket today kept distance amp babybel amp easter egg lunch lunch today'\n",
      " 'immigrant farm worker work tirelessly keep food table supermarket shelf shelter place hope time lift curtain force people see really foundation country'\n",
      " 'supermarket sweep near horizon government said lockdown could go forever'\n",
      " 'online shopping yesfor health covid strategy sure'\n",
      " 'supermarket assistant went basket today make sure hoarding three anything treated bloke next till loudly telling someone overblown would month'\n",
      " 'call investor brand credit line etc adapt address covid well soon online trend become routine consumer behavior substantially increase marketplace like amazon brand need prepare']\n"
     ]
    }
   ],
   "source": [
    "print(sentences_train[:10])"
   ]
  },
  {
   "cell_type": "code",
   "execution_count": 73,
   "metadata": {},
   "outputs": [
    {
     "name": "stdout",
     "output_type": "stream",
     "text": [
      "Train Accuracy: 0.9255908958272542\n",
      "Ttest Accuracy: 0.6315533508413579\n"
     ]
    },
    {
     "name": "stderr",
     "output_type": "stream",
     "text": [
      "C:\\Users\\AdelAKA\\anaconda3\\lib\\site-packages\\sklearn\\linear_model\\_logistic.py:762: ConvergenceWarning: lbfgs failed to converge (status=1):\n",
      "STOP: TOTAL NO. of ITERATIONS REACHED LIMIT.\n",
      "\n",
      "Increase the number of iterations (max_iter) or scale the data as shown in:\n",
      "    https://scikit-learn.org/stable/modules/preprocessing.html\n",
      "Please also refer to the documentation for alternative solver options:\n",
      "    https://scikit-learn.org/stable/modules/linear_model.html#logistic-regression\n",
      "  n_iter_i = _check_optimize_result(\n"
     ]
    }
   ],
   "source": [
    "vectorizer = CountVectorizer()\n",
    "vectorizer.fit(sentences_train)\n",
    "\n",
    "X_train = vectorizer.transform(sentences_train)\n",
    "X_test  = vectorizer.transform(sentences_test)\n",
    "\n",
    "classifier = LogisticRegression()\n",
    "classifier.fit(X_train, y_train)\n",
    "score_train = classifier.score(X_train, y_train)\n",
    "score_test = classifier.score(X_test, y_test)\n",
    "\n",
    "print(\"Train Accuracy:\", score_train)\n",
    "print(\"Ttest Accuracy:\", score_test)"
   ]
  },
  {
   "cell_type": "code",
   "execution_count": 74,
   "metadata": {},
   "outputs": [
    {
     "name": "stdout",
     "output_type": "stream",
     "text": [
      "Train Accuracy: 0.8499497454851992\n",
      "Ttest Accuracy: 0.5715397334889603\n"
     ]
    },
    {
     "name": "stderr",
     "output_type": "stream",
     "text": [
      "C:\\Users\\AdelAKA\\anaconda3\\lib\\site-packages\\sklearn\\linear_model\\_logistic.py:762: ConvergenceWarning: lbfgs failed to converge (status=1):\n",
      "STOP: TOTAL NO. of ITERATIONS REACHED LIMIT.\n",
      "\n",
      "Increase the number of iterations (max_iter) or scale the data as shown in:\n",
      "    https://scikit-learn.org/stable/modules/preprocessing.html\n",
      "Please also refer to the documentation for alternative solver options:\n",
      "    https://scikit-learn.org/stable/modules/linear_model.html#logistic-regression\n",
      "  n_iter_i = _check_optimize_result(\n"
     ]
    }
   ],
   "source": [
    "tfidf = TfidfVectorizer(min_df=2, max_df=0.5, ngram_range=(1, 2))\n",
    "tfidf.fit(sentences_train) #calcualate the values\n",
    "X_train = tfidf.transform(sentences_train) #make the vectors\n",
    "X_test = tfidf.transform(sentences_test)\n",
    "#pd.DataFrame(\n",
    "#    X_train[:10].todense(),\n",
    "#    columns=tfidf.get_feature_names()\n",
    "#)\n",
    "\n",
    "classifier = LogisticRegression()\n",
    "classifier.fit(X_train, y_train)\n",
    "score_train = classifier.score(X_train, y_train)\n",
    "score_test = classifier.score(X_test, y_test)\n",
    "\n",
    "print(\"Train Accuracy:\", score_train)\n",
    "print(\"Ttest Accuracy:\", score_test)"
   ]
  },
  {
   "cell_type": "code",
   "execution_count": 47,
   "metadata": {},
   "outputs": [],
   "source": [
    "all_words_freq = Counter()\n",
    "\n",
    "for sentence in sentences_train:\n",
    "    all_words_freq.update(w for w in sentence.split())"
   ]
  },
  {
   "cell_type": "code",
   "execution_count": 48,
   "metadata": {},
   "outputs": [
    {
     "name": "stdout",
     "output_type": "stream",
     "text": [
      "['#coronavirus', 'covid', 'price', 'store', 'supermarket', 'food']\n"
     ]
    }
   ],
   "source": [
    "un_needed = []\n",
    "for k, v in all_words_freq.most_common()[:6]:\n",
    "    un_needed.append(k)\n",
    "print(un_needed)"
   ]
  },
  {
   "cell_type": "code",
   "execution_count": 49,
   "metadata": {},
   "outputs": [],
   "source": [
    "def remove_most_common(sentence):\n",
    "    tokens = sentence.split(' ')\n",
    "    noHashtags = [t for t in tokens if not t in un_needed]\n",
    "    return ' '.join(noHashtags).strip()"
   ]
  },
  {
   "cell_type": "code",
   "execution_count": 78,
   "metadata": {},
   "outputs": [],
   "source": [
    "for i in range(len(sentences_train)):\n",
    "    sentences_train[i] = remove_most_common(sentences_train[i])\n",
    "for i in range(len(sentences_test)):\n",
    "    sentences_test[i] = remove_most_common(sentences_test[i])"
   ]
  },
  {
   "cell_type": "code",
   "execution_count": 79,
   "metadata": {},
   "outputs": [
    {
     "name": "stdout",
     "output_type": "stream",
     "text": [
      "Train Accuracy: 0.9273092760107642\n",
      "Ttest Accuracy: 0.6308724832214765\n"
     ]
    },
    {
     "name": "stderr",
     "output_type": "stream",
     "text": [
      "C:\\Users\\AdelAKA\\anaconda3\\lib\\site-packages\\sklearn\\linear_model\\_logistic.py:762: ConvergenceWarning: lbfgs failed to converge (status=1):\n",
      "STOP: TOTAL NO. of ITERATIONS REACHED LIMIT.\n",
      "\n",
      "Increase the number of iterations (max_iter) or scale the data as shown in:\n",
      "    https://scikit-learn.org/stable/modules/preprocessing.html\n",
      "Please also refer to the documentation for alternative solver options:\n",
      "    https://scikit-learn.org/stable/modules/linear_model.html#logistic-regression\n",
      "  n_iter_i = _check_optimize_result(\n"
     ]
    }
   ],
   "source": [
    "vectorizer = CountVectorizer()\n",
    "vectorizer.fit(sentences_train)\n",
    "\n",
    "X_train = vectorizer.transform(sentences_train)\n",
    "X_test  = vectorizer.transform(sentences_test)\n",
    "\n",
    "classifier = LogisticRegression()\n",
    "classifier.fit(X_train, y_train)\n",
    "score_train = classifier.score(X_train, y_train)\n",
    "score_test = classifier.score(X_test, y_test)\n",
    "\n",
    "print(\"Train Accuracy:\", score_train)\n",
    "print(\"Ttest Accuracy:\", score_test)"
   ]
  },
  {
   "cell_type": "code",
   "execution_count": 80,
   "metadata": {},
   "outputs": [
    {
     "name": "stdout",
     "output_type": "stream",
     "text": [
      "Train Accuracy: 0.850014590020426\n",
      "Ttest Accuracy: 0.5748468047855267\n"
     ]
    },
    {
     "name": "stderr",
     "output_type": "stream",
     "text": [
      "C:\\Users\\AdelAKA\\anaconda3\\lib\\site-packages\\sklearn\\linear_model\\_logistic.py:762: ConvergenceWarning: lbfgs failed to converge (status=1):\n",
      "STOP: TOTAL NO. of ITERATIONS REACHED LIMIT.\n",
      "\n",
      "Increase the number of iterations (max_iter) or scale the data as shown in:\n",
      "    https://scikit-learn.org/stable/modules/preprocessing.html\n",
      "Please also refer to the documentation for alternative solver options:\n",
      "    https://scikit-learn.org/stable/modules/linear_model.html#logistic-regression\n",
      "  n_iter_i = _check_optimize_result(\n"
     ]
    }
   ],
   "source": [
    "tfidf = TfidfVectorizer(min_df=2, max_df=0.5, ngram_range=(1, 2))\n",
    "tfidf.fit(sentences_train) #calcualate the values\n",
    "X_train = tfidf.transform(sentences_train) #make the vectors\n",
    "X_test = tfidf.transform(sentences_test)\n",
    "#pd.DataFrame(\n",
    "#    X_train[:10].todense(),\n",
    "#    columns=tfidf.get_feature_names()\n",
    "#)\n",
    "\n",
    "classifier = LogisticRegression()\n",
    "classifier.fit(X_train, y_train)\n",
    "score_train = classifier.score(X_train, y_train)\n",
    "score_test = classifier.score(X_test, y_test)\n",
    "\n",
    "print(\"Train Accuracy:\", score_train)\n",
    "print(\"Ttest Accuracy:\", score_test)"
   ]
  },
  {
   "cell_type": "code",
   "execution_count": 81,
   "metadata": {},
   "outputs": [
    {
     "data": {
      "text/html": [
       "<div>\n",
       "<style scoped>\n",
       "    .dataframe tbody tr th:only-of-type {\n",
       "        vertical-align: middle;\n",
       "    }\n",
       "\n",
       "    .dataframe tbody tr th {\n",
       "        vertical-align: top;\n",
       "    }\n",
       "\n",
       "    .dataframe thead th {\n",
       "        text-align: right;\n",
       "    }\n",
       "</style>\n",
       "<table border=\"1\" class=\"dataframe\">\n",
       "  <thead>\n",
       "    <tr style=\"text-align: right;\">\n",
       "      <th></th>\n",
       "      <th>19</th>\n",
       "      <th>19 at</th>\n",
       "      <th>19 but</th>\n",
       "      <th>19 in</th>\n",
       "      <th>19 my</th>\n",
       "      <th>19 people</th>\n",
       "      <th>19 please</th>\n",
       "      <th>19 read</th>\n",
       "      <th>19 the</th>\n",
       "      <th>19 we</th>\n",
       "      <th>...</th>\n",
       "      <th>zone feel</th>\n",
       "      <th>zoo</th>\n",
       "      <th>zoom</th>\n",
       "      <th>zoom meeting</th>\n",
       "      <th>zoonotic</th>\n",
       "      <th>zoonotic deeply</th>\n",
       "      <th>zu</th>\n",
       "      <th>zuku</th>\n",
       "      <th>zweli</th>\n",
       "      <th>zweli mkhize</th>\n",
       "    </tr>\n",
       "  </thead>\n",
       "  <tbody>\n",
       "    <tr>\n",
       "      <th>0</th>\n",
       "      <td>0.0</td>\n",
       "      <td>0.0</td>\n",
       "      <td>0.0</td>\n",
       "      <td>0.0</td>\n",
       "      <td>0.0</td>\n",
       "      <td>0.0</td>\n",
       "      <td>0.0</td>\n",
       "      <td>0.0</td>\n",
       "      <td>0.0</td>\n",
       "      <td>0.0</td>\n",
       "      <td>...</td>\n",
       "      <td>0.0</td>\n",
       "      <td>0.0</td>\n",
       "      <td>0.0</td>\n",
       "      <td>0.0</td>\n",
       "      <td>0.0</td>\n",
       "      <td>0.0</td>\n",
       "      <td>0.0</td>\n",
       "      <td>0.0</td>\n",
       "      <td>0.0</td>\n",
       "      <td>0.0</td>\n",
       "    </tr>\n",
       "    <tr>\n",
       "      <th>1</th>\n",
       "      <td>0.0</td>\n",
       "      <td>0.0</td>\n",
       "      <td>0.0</td>\n",
       "      <td>0.0</td>\n",
       "      <td>0.0</td>\n",
       "      <td>0.0</td>\n",
       "      <td>0.0</td>\n",
       "      <td>0.0</td>\n",
       "      <td>0.0</td>\n",
       "      <td>0.0</td>\n",
       "      <td>...</td>\n",
       "      <td>0.0</td>\n",
       "      <td>0.0</td>\n",
       "      <td>0.0</td>\n",
       "      <td>0.0</td>\n",
       "      <td>0.0</td>\n",
       "      <td>0.0</td>\n",
       "      <td>0.0</td>\n",
       "      <td>0.0</td>\n",
       "      <td>0.0</td>\n",
       "      <td>0.0</td>\n",
       "    </tr>\n",
       "    <tr>\n",
       "      <th>2</th>\n",
       "      <td>0.0</td>\n",
       "      <td>0.0</td>\n",
       "      <td>0.0</td>\n",
       "      <td>0.0</td>\n",
       "      <td>0.0</td>\n",
       "      <td>0.0</td>\n",
       "      <td>0.0</td>\n",
       "      <td>0.0</td>\n",
       "      <td>0.0</td>\n",
       "      <td>0.0</td>\n",
       "      <td>...</td>\n",
       "      <td>0.0</td>\n",
       "      <td>0.0</td>\n",
       "      <td>0.0</td>\n",
       "      <td>0.0</td>\n",
       "      <td>0.0</td>\n",
       "      <td>0.0</td>\n",
       "      <td>0.0</td>\n",
       "      <td>0.0</td>\n",
       "      <td>0.0</td>\n",
       "      <td>0.0</td>\n",
       "    </tr>\n",
       "    <tr>\n",
       "      <th>3</th>\n",
       "      <td>0.0</td>\n",
       "      <td>0.0</td>\n",
       "      <td>0.0</td>\n",
       "      <td>0.0</td>\n",
       "      <td>0.0</td>\n",
       "      <td>0.0</td>\n",
       "      <td>0.0</td>\n",
       "      <td>0.0</td>\n",
       "      <td>0.0</td>\n",
       "      <td>0.0</td>\n",
       "      <td>...</td>\n",
       "      <td>0.0</td>\n",
       "      <td>0.0</td>\n",
       "      <td>0.0</td>\n",
       "      <td>0.0</td>\n",
       "      <td>0.0</td>\n",
       "      <td>0.0</td>\n",
       "      <td>0.0</td>\n",
       "      <td>0.0</td>\n",
       "      <td>0.0</td>\n",
       "      <td>0.0</td>\n",
       "    </tr>\n",
       "    <tr>\n",
       "      <th>4</th>\n",
       "      <td>0.0</td>\n",
       "      <td>0.0</td>\n",
       "      <td>0.0</td>\n",
       "      <td>0.0</td>\n",
       "      <td>0.0</td>\n",
       "      <td>0.0</td>\n",
       "      <td>0.0</td>\n",
       "      <td>0.0</td>\n",
       "      <td>0.0</td>\n",
       "      <td>0.0</td>\n",
       "      <td>...</td>\n",
       "      <td>0.0</td>\n",
       "      <td>0.0</td>\n",
       "      <td>0.0</td>\n",
       "      <td>0.0</td>\n",
       "      <td>0.0</td>\n",
       "      <td>0.0</td>\n",
       "      <td>0.0</td>\n",
       "      <td>0.0</td>\n",
       "      <td>0.0</td>\n",
       "      <td>0.0</td>\n",
       "    </tr>\n",
       "    <tr>\n",
       "      <th>5</th>\n",
       "      <td>0.0</td>\n",
       "      <td>0.0</td>\n",
       "      <td>0.0</td>\n",
       "      <td>0.0</td>\n",
       "      <td>0.0</td>\n",
       "      <td>0.0</td>\n",
       "      <td>0.0</td>\n",
       "      <td>0.0</td>\n",
       "      <td>0.0</td>\n",
       "      <td>0.0</td>\n",
       "      <td>...</td>\n",
       "      <td>0.0</td>\n",
       "      <td>0.0</td>\n",
       "      <td>0.0</td>\n",
       "      <td>0.0</td>\n",
       "      <td>0.0</td>\n",
       "      <td>0.0</td>\n",
       "      <td>0.0</td>\n",
       "      <td>0.0</td>\n",
       "      <td>0.0</td>\n",
       "      <td>0.0</td>\n",
       "    </tr>\n",
       "    <tr>\n",
       "      <th>6</th>\n",
       "      <td>0.0</td>\n",
       "      <td>0.0</td>\n",
       "      <td>0.0</td>\n",
       "      <td>0.0</td>\n",
       "      <td>0.0</td>\n",
       "      <td>0.0</td>\n",
       "      <td>0.0</td>\n",
       "      <td>0.0</td>\n",
       "      <td>0.0</td>\n",
       "      <td>0.0</td>\n",
       "      <td>...</td>\n",
       "      <td>0.0</td>\n",
       "      <td>0.0</td>\n",
       "      <td>0.0</td>\n",
       "      <td>0.0</td>\n",
       "      <td>0.0</td>\n",
       "      <td>0.0</td>\n",
       "      <td>0.0</td>\n",
       "      <td>0.0</td>\n",
       "      <td>0.0</td>\n",
       "      <td>0.0</td>\n",
       "    </tr>\n",
       "    <tr>\n",
       "      <th>7</th>\n",
       "      <td>0.0</td>\n",
       "      <td>0.0</td>\n",
       "      <td>0.0</td>\n",
       "      <td>0.0</td>\n",
       "      <td>0.0</td>\n",
       "      <td>0.0</td>\n",
       "      <td>0.0</td>\n",
       "      <td>0.0</td>\n",
       "      <td>0.0</td>\n",
       "      <td>0.0</td>\n",
       "      <td>...</td>\n",
       "      <td>0.0</td>\n",
       "      <td>0.0</td>\n",
       "      <td>0.0</td>\n",
       "      <td>0.0</td>\n",
       "      <td>0.0</td>\n",
       "      <td>0.0</td>\n",
       "      <td>0.0</td>\n",
       "      <td>0.0</td>\n",
       "      <td>0.0</td>\n",
       "      <td>0.0</td>\n",
       "    </tr>\n",
       "    <tr>\n",
       "      <th>8</th>\n",
       "      <td>0.0</td>\n",
       "      <td>0.0</td>\n",
       "      <td>0.0</td>\n",
       "      <td>0.0</td>\n",
       "      <td>0.0</td>\n",
       "      <td>0.0</td>\n",
       "      <td>0.0</td>\n",
       "      <td>0.0</td>\n",
       "      <td>0.0</td>\n",
       "      <td>0.0</td>\n",
       "      <td>...</td>\n",
       "      <td>0.0</td>\n",
       "      <td>0.0</td>\n",
       "      <td>0.0</td>\n",
       "      <td>0.0</td>\n",
       "      <td>0.0</td>\n",
       "      <td>0.0</td>\n",
       "      <td>0.0</td>\n",
       "      <td>0.0</td>\n",
       "      <td>0.0</td>\n",
       "      <td>0.0</td>\n",
       "    </tr>\n",
       "    <tr>\n",
       "      <th>9</th>\n",
       "      <td>0.0</td>\n",
       "      <td>0.0</td>\n",
       "      <td>0.0</td>\n",
       "      <td>0.0</td>\n",
       "      <td>0.0</td>\n",
       "      <td>0.0</td>\n",
       "      <td>0.0</td>\n",
       "      <td>0.0</td>\n",
       "      <td>0.0</td>\n",
       "      <td>0.0</td>\n",
       "      <td>...</td>\n",
       "      <td>0.0</td>\n",
       "      <td>0.0</td>\n",
       "      <td>0.0</td>\n",
       "      <td>0.0</td>\n",
       "      <td>0.0</td>\n",
       "      <td>0.0</td>\n",
       "      <td>0.0</td>\n",
       "      <td>0.0</td>\n",
       "      <td>0.0</td>\n",
       "      <td>0.0</td>\n",
       "    </tr>\n",
       "  </tbody>\n",
       "</table>\n",
       "<p>10 rows × 58131 columns</p>\n",
       "</div>"
      ],
      "text/plain": [
       "    19  19 at  19 but  19 in  19 my  19 people  19 please  19 read  19 the  \\\n",
       "0  0.0    0.0     0.0    0.0    0.0        0.0        0.0      0.0     0.0   \n",
       "1  0.0    0.0     0.0    0.0    0.0        0.0        0.0      0.0     0.0   \n",
       "2  0.0    0.0     0.0    0.0    0.0        0.0        0.0      0.0     0.0   \n",
       "3  0.0    0.0     0.0    0.0    0.0        0.0        0.0      0.0     0.0   \n",
       "4  0.0    0.0     0.0    0.0    0.0        0.0        0.0      0.0     0.0   \n",
       "5  0.0    0.0     0.0    0.0    0.0        0.0        0.0      0.0     0.0   \n",
       "6  0.0    0.0     0.0    0.0    0.0        0.0        0.0      0.0     0.0   \n",
       "7  0.0    0.0     0.0    0.0    0.0        0.0        0.0      0.0     0.0   \n",
       "8  0.0    0.0     0.0    0.0    0.0        0.0        0.0      0.0     0.0   \n",
       "9  0.0    0.0     0.0    0.0    0.0        0.0        0.0      0.0     0.0   \n",
       "\n",
       "   19 we  ...  zone feel  zoo  zoom  zoom meeting  zoonotic  zoonotic deeply  \\\n",
       "0    0.0  ...        0.0  0.0   0.0           0.0       0.0              0.0   \n",
       "1    0.0  ...        0.0  0.0   0.0           0.0       0.0              0.0   \n",
       "2    0.0  ...        0.0  0.0   0.0           0.0       0.0              0.0   \n",
       "3    0.0  ...        0.0  0.0   0.0           0.0       0.0              0.0   \n",
       "4    0.0  ...        0.0  0.0   0.0           0.0       0.0              0.0   \n",
       "5    0.0  ...        0.0  0.0   0.0           0.0       0.0              0.0   \n",
       "6    0.0  ...        0.0  0.0   0.0           0.0       0.0              0.0   \n",
       "7    0.0  ...        0.0  0.0   0.0           0.0       0.0              0.0   \n",
       "8    0.0  ...        0.0  0.0   0.0           0.0       0.0              0.0   \n",
       "9    0.0  ...        0.0  0.0   0.0           0.0       0.0              0.0   \n",
       "\n",
       "    zu  zuku  zweli  zweli mkhize  \n",
       "0  0.0   0.0    0.0           0.0  \n",
       "1  0.0   0.0    0.0           0.0  \n",
       "2  0.0   0.0    0.0           0.0  \n",
       "3  0.0   0.0    0.0           0.0  \n",
       "4  0.0   0.0    0.0           0.0  \n",
       "5  0.0   0.0    0.0           0.0  \n",
       "6  0.0   0.0    0.0           0.0  \n",
       "7  0.0   0.0    0.0           0.0  \n",
       "8  0.0   0.0    0.0           0.0  \n",
       "9  0.0   0.0    0.0           0.0  \n",
       "\n",
       "[10 rows x 58131 columns]"
      ]
     },
     "execution_count": 81,
     "metadata": {},
     "output_type": "execute_result"
    }
   ],
   "source": [
    "pd.DataFrame(\n",
    "   X_train[:10].todense(),\n",
    "    columns=tfidf.get_feature_names()\n",
    ")"
   ]
  },
  {
   "cell_type": "code",
   "execution_count": 41,
   "metadata": {},
   "outputs": [],
   "source": [
    "def switch_hashtag_to_words(sentence):\n",
    "    tokens = sentence.split(' ')\n",
    "    cleanTokens = [re.sub(r'[#_]', \" \", t) for t in tokens]\n",
    "    ignore_numbers = [re.sub(r'\\d', \"\", t) for t in cleanTokens]\n",
    "    return ' '.join(ignore_numbers).strip()"
   ]
  },
  {
   "cell_type": "code",
   "execution_count": 42,
   "metadata": {},
   "outputs": [],
   "source": [
    "sentences = sheets['OriginalTweet'].values\n",
    "y = sheets['Sentiment'].values\n",
    "\n",
    "sentences_train, sentences_test, y_train, y_test = train_test_split(sentences, y, test_size=0.25, random_state=1000)"
   ]
  },
  {
   "cell_type": "code",
   "execution_count": 50,
   "metadata": {},
   "outputs": [],
   "source": [
    "for i in range(len(sentences_train)):\n",
    "    sentences_train[i] = remove_most_common(switch_hashtag_to_words(sentences_train[i]))\n",
    "for i in range(len(sentences_test)):\n",
    "    sentences_test[i] = remove_most_common(switch_hashtag_to_words(sentences_test[i]))"
   ]
  },
  {
   "cell_type": "code",
   "execution_count": 85,
   "metadata": {},
   "outputs": [
    {
     "name": "stdout",
     "output_type": "stream",
     "text": [
      "['coronavirus thank employee put health greater risk help everyone eat sign'\n",
      " 'please virtue signal expressing gratitude essential worker word show real gratitude staying home mental health outing  essentialworker  stayhomesavelives'\n",
      " 'extra cautious harm disinfecting frequently touched surface disposable cloth tissue alcohol based sanitizer disinfectant ensure surrounding safe  sanitize  covid-  coronavirus  stayfit  familycarehospitals'\n",
      " 'agree leave kid home streamline visit limit contact potential exposure'\n",
      " 'rather go today kept distance amp babybel amp easter egg lunch lunch today'\n",
      " 'immigrant farm worker work tirelessly keep table shelf shelter place hope time lift curtain force people see really foundation country'\n",
      " 'sweep near horizon government said lockdown could go forever    coronavirus'\n",
      " 'online shopping yesfor health strategy sure'\n",
      " 'assistant went basket today make sure hoarding three anything treated bloke next till loudly telling someone overblown would month  coronavirusuk  coronavirus'\n",
      " 'call investor brand credit line etc adapt address well soon online trend become routine consumer behavior substantially increase marketplace like amazon brand need prepare']\n"
     ]
    }
   ],
   "source": [
    "print(sentences_train[:10])"
   ]
  },
  {
   "cell_type": "code",
   "execution_count": 51,
   "metadata": {},
   "outputs": [
    {
     "data": {
      "text/html": [
       "<div>\n",
       "<style scoped>\n",
       "    .dataframe tbody tr th:only-of-type {\n",
       "        vertical-align: middle;\n",
       "    }\n",
       "\n",
       "    .dataframe tbody tr th {\n",
       "        vertical-align: top;\n",
       "    }\n",
       "\n",
       "    .dataframe thead th {\n",
       "        text-align: right;\n",
       "    }\n",
       "</style>\n",
       "<table border=\"1\" class=\"dataframe\">\n",
       "  <thead>\n",
       "    <tr style=\"text-align: right;\">\n",
       "      <th></th>\n",
       "      <th>aa</th>\n",
       "      <th>aalto</th>\n",
       "      <th>aalto university</th>\n",
       "      <th>aaluminium</th>\n",
       "      <th>aaluminium ingot</th>\n",
       "      <th>aap</th>\n",
       "      <th>aapl</th>\n",
       "      <th>aaron</th>\n",
       "      <th>aaron holm</th>\n",
       "      <th>aata</th>\n",
       "      <th>...</th>\n",
       "      <th>zoo</th>\n",
       "      <th>zoom</th>\n",
       "      <th>zoom coronavirus</th>\n",
       "      <th>zoom meeting</th>\n",
       "      <th>zoonotic</th>\n",
       "      <th>zoonotic deeply</th>\n",
       "      <th>zu</th>\n",
       "      <th>zuku</th>\n",
       "      <th>zweli</th>\n",
       "      <th>zweli mkhize</th>\n",
       "    </tr>\n",
       "  </thead>\n",
       "  <tbody>\n",
       "    <tr>\n",
       "      <th>0</th>\n",
       "      <td>0.0</td>\n",
       "      <td>0.0</td>\n",
       "      <td>0.0</td>\n",
       "      <td>0.0</td>\n",
       "      <td>0.0</td>\n",
       "      <td>0.0</td>\n",
       "      <td>0.0</td>\n",
       "      <td>0.0</td>\n",
       "      <td>0.0</td>\n",
       "      <td>0.0</td>\n",
       "      <td>...</td>\n",
       "      <td>0.0</td>\n",
       "      <td>0.0</td>\n",
       "      <td>0.0</td>\n",
       "      <td>0.0</td>\n",
       "      <td>0.0</td>\n",
       "      <td>0.0</td>\n",
       "      <td>0.0</td>\n",
       "      <td>0.0</td>\n",
       "      <td>0.0</td>\n",
       "      <td>0.0</td>\n",
       "    </tr>\n",
       "    <tr>\n",
       "      <th>1</th>\n",
       "      <td>0.0</td>\n",
       "      <td>0.0</td>\n",
       "      <td>0.0</td>\n",
       "      <td>0.0</td>\n",
       "      <td>0.0</td>\n",
       "      <td>0.0</td>\n",
       "      <td>0.0</td>\n",
       "      <td>0.0</td>\n",
       "      <td>0.0</td>\n",
       "      <td>0.0</td>\n",
       "      <td>...</td>\n",
       "      <td>0.0</td>\n",
       "      <td>0.0</td>\n",
       "      <td>0.0</td>\n",
       "      <td>0.0</td>\n",
       "      <td>0.0</td>\n",
       "      <td>0.0</td>\n",
       "      <td>0.0</td>\n",
       "      <td>0.0</td>\n",
       "      <td>0.0</td>\n",
       "      <td>0.0</td>\n",
       "    </tr>\n",
       "    <tr>\n",
       "      <th>2</th>\n",
       "      <td>0.0</td>\n",
       "      <td>0.0</td>\n",
       "      <td>0.0</td>\n",
       "      <td>0.0</td>\n",
       "      <td>0.0</td>\n",
       "      <td>0.0</td>\n",
       "      <td>0.0</td>\n",
       "      <td>0.0</td>\n",
       "      <td>0.0</td>\n",
       "      <td>0.0</td>\n",
       "      <td>...</td>\n",
       "      <td>0.0</td>\n",
       "      <td>0.0</td>\n",
       "      <td>0.0</td>\n",
       "      <td>0.0</td>\n",
       "      <td>0.0</td>\n",
       "      <td>0.0</td>\n",
       "      <td>0.0</td>\n",
       "      <td>0.0</td>\n",
       "      <td>0.0</td>\n",
       "      <td>0.0</td>\n",
       "    </tr>\n",
       "    <tr>\n",
       "      <th>3</th>\n",
       "      <td>0.0</td>\n",
       "      <td>0.0</td>\n",
       "      <td>0.0</td>\n",
       "      <td>0.0</td>\n",
       "      <td>0.0</td>\n",
       "      <td>0.0</td>\n",
       "      <td>0.0</td>\n",
       "      <td>0.0</td>\n",
       "      <td>0.0</td>\n",
       "      <td>0.0</td>\n",
       "      <td>...</td>\n",
       "      <td>0.0</td>\n",
       "      <td>0.0</td>\n",
       "      <td>0.0</td>\n",
       "      <td>0.0</td>\n",
       "      <td>0.0</td>\n",
       "      <td>0.0</td>\n",
       "      <td>0.0</td>\n",
       "      <td>0.0</td>\n",
       "      <td>0.0</td>\n",
       "      <td>0.0</td>\n",
       "    </tr>\n",
       "    <tr>\n",
       "      <th>4</th>\n",
       "      <td>0.0</td>\n",
       "      <td>0.0</td>\n",
       "      <td>0.0</td>\n",
       "      <td>0.0</td>\n",
       "      <td>0.0</td>\n",
       "      <td>0.0</td>\n",
       "      <td>0.0</td>\n",
       "      <td>0.0</td>\n",
       "      <td>0.0</td>\n",
       "      <td>0.0</td>\n",
       "      <td>...</td>\n",
       "      <td>0.0</td>\n",
       "      <td>0.0</td>\n",
       "      <td>0.0</td>\n",
       "      <td>0.0</td>\n",
       "      <td>0.0</td>\n",
       "      <td>0.0</td>\n",
       "      <td>0.0</td>\n",
       "      <td>0.0</td>\n",
       "      <td>0.0</td>\n",
       "      <td>0.0</td>\n",
       "    </tr>\n",
       "    <tr>\n",
       "      <th>5</th>\n",
       "      <td>0.0</td>\n",
       "      <td>0.0</td>\n",
       "      <td>0.0</td>\n",
       "      <td>0.0</td>\n",
       "      <td>0.0</td>\n",
       "      <td>0.0</td>\n",
       "      <td>0.0</td>\n",
       "      <td>0.0</td>\n",
       "      <td>0.0</td>\n",
       "      <td>0.0</td>\n",
       "      <td>...</td>\n",
       "      <td>0.0</td>\n",
       "      <td>0.0</td>\n",
       "      <td>0.0</td>\n",
       "      <td>0.0</td>\n",
       "      <td>0.0</td>\n",
       "      <td>0.0</td>\n",
       "      <td>0.0</td>\n",
       "      <td>0.0</td>\n",
       "      <td>0.0</td>\n",
       "      <td>0.0</td>\n",
       "    </tr>\n",
       "    <tr>\n",
       "      <th>6</th>\n",
       "      <td>0.0</td>\n",
       "      <td>0.0</td>\n",
       "      <td>0.0</td>\n",
       "      <td>0.0</td>\n",
       "      <td>0.0</td>\n",
       "      <td>0.0</td>\n",
       "      <td>0.0</td>\n",
       "      <td>0.0</td>\n",
       "      <td>0.0</td>\n",
       "      <td>0.0</td>\n",
       "      <td>...</td>\n",
       "      <td>0.0</td>\n",
       "      <td>0.0</td>\n",
       "      <td>0.0</td>\n",
       "      <td>0.0</td>\n",
       "      <td>0.0</td>\n",
       "      <td>0.0</td>\n",
       "      <td>0.0</td>\n",
       "      <td>0.0</td>\n",
       "      <td>0.0</td>\n",
       "      <td>0.0</td>\n",
       "    </tr>\n",
       "    <tr>\n",
       "      <th>7</th>\n",
       "      <td>0.0</td>\n",
       "      <td>0.0</td>\n",
       "      <td>0.0</td>\n",
       "      <td>0.0</td>\n",
       "      <td>0.0</td>\n",
       "      <td>0.0</td>\n",
       "      <td>0.0</td>\n",
       "      <td>0.0</td>\n",
       "      <td>0.0</td>\n",
       "      <td>0.0</td>\n",
       "      <td>...</td>\n",
       "      <td>0.0</td>\n",
       "      <td>0.0</td>\n",
       "      <td>0.0</td>\n",
       "      <td>0.0</td>\n",
       "      <td>0.0</td>\n",
       "      <td>0.0</td>\n",
       "      <td>0.0</td>\n",
       "      <td>0.0</td>\n",
       "      <td>0.0</td>\n",
       "      <td>0.0</td>\n",
       "    </tr>\n",
       "    <tr>\n",
       "      <th>8</th>\n",
       "      <td>0.0</td>\n",
       "      <td>0.0</td>\n",
       "      <td>0.0</td>\n",
       "      <td>0.0</td>\n",
       "      <td>0.0</td>\n",
       "      <td>0.0</td>\n",
       "      <td>0.0</td>\n",
       "      <td>0.0</td>\n",
       "      <td>0.0</td>\n",
       "      <td>0.0</td>\n",
       "      <td>...</td>\n",
       "      <td>0.0</td>\n",
       "      <td>0.0</td>\n",
       "      <td>0.0</td>\n",
       "      <td>0.0</td>\n",
       "      <td>0.0</td>\n",
       "      <td>0.0</td>\n",
       "      <td>0.0</td>\n",
       "      <td>0.0</td>\n",
       "      <td>0.0</td>\n",
       "      <td>0.0</td>\n",
       "    </tr>\n",
       "    <tr>\n",
       "      <th>9</th>\n",
       "      <td>0.0</td>\n",
       "      <td>0.0</td>\n",
       "      <td>0.0</td>\n",
       "      <td>0.0</td>\n",
       "      <td>0.0</td>\n",
       "      <td>0.0</td>\n",
       "      <td>0.0</td>\n",
       "      <td>0.0</td>\n",
       "      <td>0.0</td>\n",
       "      <td>0.0</td>\n",
       "      <td>...</td>\n",
       "      <td>0.0</td>\n",
       "      <td>0.0</td>\n",
       "      <td>0.0</td>\n",
       "      <td>0.0</td>\n",
       "      <td>0.0</td>\n",
       "      <td>0.0</td>\n",
       "      <td>0.0</td>\n",
       "      <td>0.0</td>\n",
       "      <td>0.0</td>\n",
       "      <td>0.0</td>\n",
       "    </tr>\n",
       "  </tbody>\n",
       "</table>\n",
       "<p>10 rows × 65201 columns</p>\n",
       "</div>"
      ],
      "text/plain": [
       "    aa  aalto  aalto university  aaluminium  aaluminium ingot  aap  aapl  \\\n",
       "0  0.0    0.0               0.0         0.0               0.0  0.0   0.0   \n",
       "1  0.0    0.0               0.0         0.0               0.0  0.0   0.0   \n",
       "2  0.0    0.0               0.0         0.0               0.0  0.0   0.0   \n",
       "3  0.0    0.0               0.0         0.0               0.0  0.0   0.0   \n",
       "4  0.0    0.0               0.0         0.0               0.0  0.0   0.0   \n",
       "5  0.0    0.0               0.0         0.0               0.0  0.0   0.0   \n",
       "6  0.0    0.0               0.0         0.0               0.0  0.0   0.0   \n",
       "7  0.0    0.0               0.0         0.0               0.0  0.0   0.0   \n",
       "8  0.0    0.0               0.0         0.0               0.0  0.0   0.0   \n",
       "9  0.0    0.0               0.0         0.0               0.0  0.0   0.0   \n",
       "\n",
       "   aaron  aaron holm  aata  ...  zoo  zoom  zoom coronavirus  zoom meeting  \\\n",
       "0    0.0         0.0   0.0  ...  0.0   0.0               0.0           0.0   \n",
       "1    0.0         0.0   0.0  ...  0.0   0.0               0.0           0.0   \n",
       "2    0.0         0.0   0.0  ...  0.0   0.0               0.0           0.0   \n",
       "3    0.0         0.0   0.0  ...  0.0   0.0               0.0           0.0   \n",
       "4    0.0         0.0   0.0  ...  0.0   0.0               0.0           0.0   \n",
       "5    0.0         0.0   0.0  ...  0.0   0.0               0.0           0.0   \n",
       "6    0.0         0.0   0.0  ...  0.0   0.0               0.0           0.0   \n",
       "7    0.0         0.0   0.0  ...  0.0   0.0               0.0           0.0   \n",
       "8    0.0         0.0   0.0  ...  0.0   0.0               0.0           0.0   \n",
       "9    0.0         0.0   0.0  ...  0.0   0.0               0.0           0.0   \n",
       "\n",
       "   zoonotic  zoonotic deeply   zu  zuku  zweli  zweli mkhize  \n",
       "0       0.0              0.0  0.0   0.0    0.0           0.0  \n",
       "1       0.0              0.0  0.0   0.0    0.0           0.0  \n",
       "2       0.0              0.0  0.0   0.0    0.0           0.0  \n",
       "3       0.0              0.0  0.0   0.0    0.0           0.0  \n",
       "4       0.0              0.0  0.0   0.0    0.0           0.0  \n",
       "5       0.0              0.0  0.0   0.0    0.0           0.0  \n",
       "6       0.0              0.0  0.0   0.0    0.0           0.0  \n",
       "7       0.0              0.0  0.0   0.0    0.0           0.0  \n",
       "8       0.0              0.0  0.0   0.0    0.0           0.0  \n",
       "9       0.0              0.0  0.0   0.0    0.0           0.0  \n",
       "\n",
       "[10 rows x 65201 columns]"
      ]
     },
     "execution_count": 51,
     "metadata": {},
     "output_type": "execute_result"
    }
   ],
   "source": [
    "tfidf = TfidfVectorizer(min_df=2, max_df=0.5, ngram_range=(1, 2))\n",
    "tfidf.fit(sentences_train) #calcualate the values\n",
    "X_train = tfidf.transform(sentences_train) #make the vectors\n",
    "X_test = tfidf.transform(sentences_test)\n",
    "pd.DataFrame(\n",
    "    X_train[:10].todense(),\n",
    "    columns=tfidf.get_feature_names()\n",
    ")"
   ]
  },
  {
   "cell_type": "code",
   "execution_count": 52,
   "metadata": {},
   "outputs": [
    {
     "name": "stdout",
     "output_type": "stream",
     "text": [
      "Train Accuracy: 0.9429368090004215\n",
      "Ttest Accuracy: 0.6102519210193561\n"
     ]
    },
    {
     "name": "stderr",
     "output_type": "stream",
     "text": [
      "C:\\Users\\AdelAKA\\anaconda3\\lib\\site-packages\\sklearn\\linear_model\\_logistic.py:762: ConvergenceWarning: lbfgs failed to converge (status=1):\n",
      "STOP: TOTAL NO. of ITERATIONS REACHED LIMIT.\n",
      "\n",
      "Increase the number of iterations (max_iter) or scale the data as shown in:\n",
      "    https://scikit-learn.org/stable/modules/preprocessing.html\n",
      "Please also refer to the documentation for alternative solver options:\n",
      "    https://scikit-learn.org/stable/modules/linear_model.html#logistic-regression\n",
      "  n_iter_i = _check_optimize_result(\n"
     ]
    }
   ],
   "source": [
    "vectorizer = CountVectorizer()\n",
    "vectorizer.fit(sentences_train)\n",
    "\n",
    "X_train = vectorizer.transform(sentences_train)\n",
    "X_test  = vectorizer.transform(sentences_test)\n",
    "\n",
    "classifier = LogisticRegression()\n",
    "classifier.fit(X_train, y_train)\n",
    "score_train = classifier.score(X_train, y_train)\n",
    "score_test = classifier.score(X_test, y_test)\n",
    "\n",
    "print(\"Train Accuracy:\", score_train)\n",
    "print(\"Ttest Accuracy:\", score_test)"
   ]
  },
  {
   "cell_type": "code",
   "execution_count": 87,
   "metadata": {},
   "outputs": [
    {
     "name": "stdout",
     "output_type": "stream",
     "text": [
      "Train Accuracy: 0.8551048860357293\n",
      "Ttest Accuracy: 0.5691080634179555\n"
     ]
    },
    {
     "name": "stderr",
     "output_type": "stream",
     "text": [
      "C:\\Users\\AdelAKA\\anaconda3\\lib\\site-packages\\sklearn\\linear_model\\_logistic.py:762: ConvergenceWarning: lbfgs failed to converge (status=1):\n",
      "STOP: TOTAL NO. of ITERATIONS REACHED LIMIT.\n",
      "\n",
      "Increase the number of iterations (max_iter) or scale the data as shown in:\n",
      "    https://scikit-learn.org/stable/modules/preprocessing.html\n",
      "Please also refer to the documentation for alternative solver options:\n",
      "    https://scikit-learn.org/stable/modules/linear_model.html#logistic-regression\n",
      "  n_iter_i = _check_optimize_result(\n"
     ]
    }
   ],
   "source": [
    "tfidf = TfidfVectorizer(min_df=2, max_df=0.5, ngram_range=(1, 2))\n",
    "tfidf.fit(sentences_train) #calcualate the values\n",
    "X_train = tfidf.transform(sentences_train) #make the vectors\n",
    "X_test = tfidf.transform(sentences_test)\n",
    "#pd.DataFrame(\n",
    "#    X_train[:10].todense(),\n",
    "#    columns=tfidf.get_feature_names()\n",
    "#)\n",
    "\n",
    "classifier = LogisticRegression()\n",
    "classifier.fit(X_train, y_train)\n",
    "score_train = classifier.score(X_train, y_train)\n",
    "score_test = classifier.score(X_test, y_test)\n",
    "\n",
    "print(\"Train Accuracy:\", score_train)\n",
    "print(\"Ttest Accuracy:\", score_test)"
   ]
  },
  {
   "cell_type": "code",
   "execution_count": 36,
   "metadata": {},
   "outputs": [],
   "source": [
    "#from sklearn import svm"
   ]
  },
  {
   "cell_type": "code",
   "execution_count": 37,
   "metadata": {},
   "outputs": [],
   "source": [
    "sentences = sheets['OriginalTweet'].values\n",
    "y = sheets['Sentiment'].values\n",
    "\n",
    "sentences_train, sentences_test, y_train, y_test = train_test_split(sentences, y, test_size=0.25, random_state=1000)"
   ]
  },
  {
   "cell_type": "code",
   "execution_count": 38,
   "metadata": {},
   "outputs": [],
   "source": [
    "for i in range(len(sentences_train)):\n",
    "    sentences_train[i] = remove_hashtag(sentences_train[i])\n",
    "for i in range(len(sentences_test)):\n",
    "    sentences_test[i] = remove_hashtag(sentences_test[i])"
   ]
  },
  {
   "cell_type": "code",
   "execution_count": 39,
   "metadata": {},
   "outputs": [],
   "source": [
    "#vectorizer = CountVectorizer()\n",
    "#vectorizer.fit(sentences_train)\n",
    "\n",
    "#X_train = vectorizer.transform(sentences_train)\n",
    "#X_test  = vectorizer.transform(sentences_test)\n",
    "\n",
    "#classifier = LogisticRegression()\n",
    "#classifier.fit(X_train, y_train)\n",
    "#score_train = classifier.score(X_train, y_train)\n",
    "#score_test = classifier.score(X_test, y_test)\n",
    "\n",
    "\n",
    "#print(\"Train Accuracy:\", score_train)\n",
    "#print(\"Ttest Accuracy:\", score_test)"
   ]
  },
  {
   "cell_type": "code",
   "execution_count": 40,
   "metadata": {},
   "outputs": [],
   "source": [
    "#from sklearn.gaussian_process.kernels import RBF\n",
    "#from sklearn.gaussian_process import GaussianProcessClassifier\n",
    "#from sklearn.svm import SVC"
   ]
  },
  {
   "cell_type": "code",
   "execution_count": 41,
   "metadata": {},
   "outputs": [
    {
     "data": {
      "text/plain": [
       "<30843x26590 sparse matrix of type '<class 'numpy.int64'>'\n",
       "\twith 451256 stored elements in Compressed Sparse Row format>"
      ]
     },
     "execution_count": 41,
     "metadata": {},
     "output_type": "execute_result"
    }
   ],
   "source": [
    "#X_train"
   ]
  },
  {
   "cell_type": "code",
   "execution_count": null,
   "metadata": {},
   "outputs": [],
   "source": [
    "#classifier = GaussianProcessClassifier(1.0 * RBF(1.0))\n",
    "#classifier.fit(X_train.toarray(), y_train)\n",
    "#score_train = classifier.score(X_train, y_train)\n",
    "#score_test = classifier.score(X_test, y_test)\n",
    "\n",
    "#print(\"Train Accuracy:\", score_train)\n",
    "#print(\"Ttest Accuracy:\", score_test)"
   ]
  },
  {
   "cell_type": "code",
   "execution_count": null,
   "metadata": {},
   "outputs": [],
   "source": [
    "#clf = SVC(kernel=\"poly\", degree=3, C=0.025)\n",
    "#clf.fit(X_train, y_train)\n",
    "#score_train = clf.score(X_train, y_train)\n",
    "#score_test = clf.score(X_test, y_test)\n",
    "\n",
    "#print(\"Train Accuracy:\", score_train)\n",
    "#print(\"Ttest Accuracy:\", score_test)"
   ]
  },
  {
   "cell_type": "code",
   "execution_count": 88,
   "metadata": {},
   "outputs": [],
   "source": [
    "def turn_into_two_classes(label):\n",
    "    if label == \"Extremely Positive\" or label == \"Positive\":\n",
    "        return 'Positive'\n",
    "    elif label == \"Extremely Negative\" or label == \"Negative\":\n",
    "        return 'Negative'\n",
    "    elif label == \"Neutral\":\n",
    "        return None"
   ]
  },
  {
   "cell_type": "code",
   "execution_count": 89,
   "metadata": {},
   "outputs": [],
   "source": [
    "templabel = sheets['Sentiment'].apply(turn_into_two_classes)"
   ]
  },
  {
   "cell_type": "code",
   "execution_count": 90,
   "metadata": {},
   "outputs": [
    {
     "data": {
      "text/plain": [
       "UserName            0\n",
       "ScreenName          0\n",
       "Location         8579\n",
       "TweetAt             0\n",
       "OriginalTweet       0\n",
       "Sentiment        7683\n",
       "dtype: int64"
      ]
     },
     "execution_count": 90,
     "metadata": {},
     "output_type": "execute_result"
    }
   ],
   "source": [
    "sheets['Sentiment'] = templabel\n",
    "sheets.isnull().sum()"
   ]
  },
  {
   "cell_type": "code",
   "execution_count": 91,
   "metadata": {},
   "outputs": [
    {
     "data": {
      "text/plain": [
       "UserName            0\n",
       "ScreenName          0\n",
       "Location         7049\n",
       "TweetAt             0\n",
       "OriginalTweet       0\n",
       "Sentiment           0\n",
       "dtype: int64"
      ]
     },
     "execution_count": 91,
     "metadata": {},
     "output_type": "execute_result"
    }
   ],
   "source": [
    "sheets = sheets[pd.notnull(sheets[\"Sentiment\"])]\n",
    "sheets.isnull().sum()"
   ]
  },
  {
   "cell_type": "code",
   "execution_count": 92,
   "metadata": {},
   "outputs": [],
   "source": [
    "sentences = sheets['OriginalTweet'].values\n",
    "y = sheets['Sentiment'].values\n",
    "\n",
    "sentences_train, sentences_test, y_train, y_test = train_test_split(sentences, y, test_size=0.25, random_state=1000)"
   ]
  },
  {
   "cell_type": "code",
   "execution_count": 93,
   "metadata": {},
   "outputs": [],
   "source": [
    "for i in range(len(sentences_train)):\n",
    "    sentences_train[i] = remove_hashtag(sentences_train[i])\n",
    "for i in range(len(sentences_test)):\n",
    "    sentences_test[i] = remove_hashtag(sentences_test[i])"
   ]
  },
  {
   "cell_type": "code",
   "execution_count": 94,
   "metadata": {},
   "outputs": [
    {
     "name": "stdout",
     "output_type": "stream",
     "text": [
      "Train Accuracy: 0.9671052631578947\n",
      "Ttest Accuracy: 0.8753737591197225\n"
     ]
    },
    {
     "name": "stderr",
     "output_type": "stream",
     "text": [
      "C:\\Users\\AdelAKA\\anaconda3\\lib\\site-packages\\sklearn\\linear_model\\_logistic.py:762: ConvergenceWarning: lbfgs failed to converge (status=1):\n",
      "STOP: TOTAL NO. of ITERATIONS REACHED LIMIT.\n",
      "\n",
      "Increase the number of iterations (max_iter) or scale the data as shown in:\n",
      "    https://scikit-learn.org/stable/modules/preprocessing.html\n",
      "Please also refer to the documentation for alternative solver options:\n",
      "    https://scikit-learn.org/stable/modules/linear_model.html#logistic-regression\n",
      "  n_iter_i = _check_optimize_result(\n"
     ]
    }
   ],
   "source": [
    "vectorizer = CountVectorizer()\n",
    "vectorizer.fit(sentences_train)\n",
    "\n",
    "X_train = vectorizer.transform(sentences_train)\n",
    "X_test  = vectorizer.transform(sentences_test)\n",
    "\n",
    "classifier = LogisticRegression()\n",
    "classifier.fit(X_train, y_train)\n",
    "score_train = classifier.score(X_train, y_train)\n",
    "score_test = classifier.score(X_test, y_test)\n",
    "\n",
    "print(\"Train Accuracy:\", score_train)\n",
    "print(\"Ttest Accuracy:\", score_test)"
   ]
  },
  {
   "cell_type": "code",
   "execution_count": 95,
   "metadata": {},
   "outputs": [],
   "source": [
    "for i in range(len(sentences_train)):\n",
    "    sentences_train[i] = remove_most_common(sentences_train[i])\n",
    "for i in range(len(sentences_test)):\n",
    "    sentences_test[i] = remove_most_common(sentences_test[i])"
   ]
  },
  {
   "cell_type": "code",
   "execution_count": 96,
   "metadata": {},
   "outputs": [
    {
     "name": "stdout",
     "output_type": "stream",
     "text": [
      "Train Accuracy: 0.9671052631578947\n",
      "Ttest Accuracy: 0.8748953474464777\n"
     ]
    },
    {
     "name": "stderr",
     "output_type": "stream",
     "text": [
      "C:\\Users\\AdelAKA\\anaconda3\\lib\\site-packages\\sklearn\\linear_model\\_logistic.py:762: ConvergenceWarning: lbfgs failed to converge (status=1):\n",
      "STOP: TOTAL NO. of ITERATIONS REACHED LIMIT.\n",
      "\n",
      "Increase the number of iterations (max_iter) or scale the data as shown in:\n",
      "    https://scikit-learn.org/stable/modules/preprocessing.html\n",
      "Please also refer to the documentation for alternative solver options:\n",
      "    https://scikit-learn.org/stable/modules/linear_model.html#logistic-regression\n",
      "  n_iter_i = _check_optimize_result(\n"
     ]
    }
   ],
   "source": [
    "vectorizer = CountVectorizer()\n",
    "vectorizer.fit(sentences_train)\n",
    "\n",
    "X_train = vectorizer.transform(sentences_train)\n",
    "X_test  = vectorizer.transform(sentences_test)\n",
    "\n",
    "classifier = LogisticRegression()\n",
    "classifier.fit(X_train, y_train)\n",
    "score_train = classifier.score(X_train, y_train)\n",
    "score_test = classifier.score(X_test, y_test)\n",
    "\n",
    "print(\"Train Accuracy:\", score_train)\n",
    "print(\"Ttest Accuracy:\", score_test)"
   ]
  },
  {
   "cell_type": "code",
   "execution_count": 97,
   "metadata": {},
   "outputs": [],
   "source": [
    "sentences = sheets['OriginalTweet'].values\n",
    "y = sheets['Sentiment'].values\n",
    "\n",
    "sentences_train, sentences_test, y_train, y_test = train_test_split(sentences, y, test_size=0.25, random_state=1000)"
   ]
  },
  {
   "cell_type": "code",
   "execution_count": 98,
   "metadata": {},
   "outputs": [],
   "source": [
    "for i in range(len(sentences_train)):\n",
    "    sentences_train[i] = switch_hashtag_to_words(sentences_train[i])\n",
    "for i in range(len(sentences_test)):\n",
    "    sentences_test[i] = switch_hashtag_to_words(sentences_test[i])"
   ]
  },
  {
   "cell_type": "code",
   "execution_count": 99,
   "metadata": {},
   "outputs": [
    {
     "name": "stdout",
     "output_type": "stream",
     "text": [
      "Train Accuracy: 0.9721291866028708\n",
      "Ttest Accuracy: 0.868675995694295\n"
     ]
    },
    {
     "name": "stderr",
     "output_type": "stream",
     "text": [
      "C:\\Users\\AdelAKA\\anaconda3\\lib\\site-packages\\sklearn\\linear_model\\_logistic.py:762: ConvergenceWarning: lbfgs failed to converge (status=1):\n",
      "STOP: TOTAL NO. of ITERATIONS REACHED LIMIT.\n",
      "\n",
      "Increase the number of iterations (max_iter) or scale the data as shown in:\n",
      "    https://scikit-learn.org/stable/modules/preprocessing.html\n",
      "Please also refer to the documentation for alternative solver options:\n",
      "    https://scikit-learn.org/stable/modules/linear_model.html#logistic-regression\n",
      "  n_iter_i = _check_optimize_result(\n"
     ]
    }
   ],
   "source": [
    "vectorizer = CountVectorizer()\n",
    "vectorizer.fit(sentences_train)\n",
    "\n",
    "X_train = vectorizer.transform(sentences_train)\n",
    "X_test  = vectorizer.transform(sentences_test)\n",
    "\n",
    "classifier = LogisticRegression()\n",
    "classifier.fit(X_train, y_train)\n",
    "score_train = classifier.score(X_train, y_train)\n",
    "score_test = classifier.score(X_test, y_test)\n",
    "\n",
    "print(\"Train Accuracy:\", score_train)\n",
    "print(\"Ttest Accuracy:\", score_test)"
   ]
  },
  {
   "cell_type": "code",
   "execution_count": 100,
   "metadata": {},
   "outputs": [
    {
     "name": "stdout",
     "output_type": "stream",
     "text": [
      "\n"
     ]
    }
   ],
   "source": [
    "\"\"\"\n",
    "CountVectorizer - LogisticRegression :\n",
    "    Train Accuracy: 0.9391758259572675\n",
    "    Ttest Accuracy: 0.6094737865966345\n",
    "TfidfVectorizer - LogisticRegression :\n",
    "    Train Accuracy: 0.8494634114709982\n",
    "    Ttest Accuracy: 0.5583114483026943\n",
    "CountVectorizer - LogisticRegression - remove_hashtag :\n",
    "    Train Accuracy: 0.9255908958272542\n",
    "    Ttest Accuracy: 0.6315533508413579\n",
    "TfidfVectorizer - LogisticRegression - remove_hashtag :\n",
    "    Train Accuracy: 0.8499497454851992\n",
    "    Ttest Accuracy: 0.5715397334889603\n",
    "CountVectorizer - LogisticRegression - remove_hashtag - remove_most_common_words:\n",
    "    Train Accuracy: 0.9273092760107642\n",
    "    Ttest Accuracy: 0.6308724832214765\n",
    "TfidfVectorizer - LogisticRegression - remove_hashtag - remove_most_common_words:\n",
    "    Train Accuracy: 0.850014590020426\n",
    "    Ttest Accuracy: 0.5748468047855267\n",
    "CountVectorizer - LogisticRegression - switch_hashtag_to_words - remove_most_common_words:\n",
    "    Train Accuracy: 0.9442985442401841\n",
    "    Ttest Accuracy: 0.6094737865966345\n",
    "TfidfVectorizer - LogisticRegression - switch_hashtag_to_words - remove_most_common_words:\n",
    "    Train Accuracy: 0.8551048860357293\n",
    "    Ttest Accuracy: 0.5691080634179555\n",
    "CountVectorizer - LogisticRegression - remove_hashtag - two_labels('positive', 'negative'):\n",
    "    Train Accuracy: 0.9671052631578947\n",
    "    Ttest Accuracy: 0.8753737591197225\n",
    "CountVectorizer - LogisticRegression - remove_hashtag - remove_most_common_words - two_labels('positive', 'negative'):\n",
    "    Train Accuracy: 0.9671052631578947\n",
    "    Ttest Accuracy: 0.8748953474464777\n",
    "CountVectorizer - LogisticRegression - switch_hashtag_to_words - two_labels('positive', 'negative'):\n",
    "    Train Accuracy: 0.9721291866028708\n",
    "    Ttest Accuracy: 0.868675995694295\n",
    "\"\"\"\n",
    "print()"
   ]
  },
  {
   "cell_type": "code",
   "execution_count": 54,
   "metadata": {},
   "outputs": [],
   "source": [
    "sentences = sheets['OriginalTweet'].values\n",
    "y = sheets['Sentiment'].values\n",
    "\n",
    "sentences_train, sentences_test, y_train, y_test = train_test_split(sentences, y, test_size=0.25, random_state=1000)"
   ]
  },
  {
   "cell_type": "code",
   "execution_count": 53,
   "metadata": {},
   "outputs": [],
   "source": [
    "def create_model(num_filters, kernel_size, vocab_size, embedding_dim, maxlen):\n",
    "    model = Sequential()\n",
    "    model.add(layers.Embedding(vocab_size, embedding_dim, input_length=maxlen))\n",
    "    model.add(layers.Conv1D(num_filters, kernel_size, activation='relu'))\n",
    "    model.add(layers.GlobalMaxPooling1D())\n",
    "    model.add(layers.Dense(10, activation='relu'))\n",
    "    model.add(layers.Dense(1, activation='sigmoid'))\n",
    "    model.compile(optimizer='adam',\n",
    "                  loss='binary_crossentropy',\n",
    "                  metrics=['accuracy'])\n",
    "    return model"
   ]
  },
  {
   "cell_type": "code",
   "execution_count": 63,
   "metadata": {},
   "outputs": [
    {
     "ename": "ImportError",
     "evalue": "Keras requires TensorFlow 2.2 or higher. Install TensorFlow via `pip install tensorflow`",
     "output_type": "error",
     "traceback": [
      "\u001b[1;31m---------------------------------------------------------------------------\u001b[0m",
      "\u001b[1;31mModuleNotFoundError\u001b[0m                       Traceback (most recent call last)",
      "\u001b[1;32m~\\anaconda3\\lib\\site-packages\\keras\\__init__.py\u001b[0m in \u001b[0;36m<module>\u001b[1;34m\u001b[0m\n\u001b[0;32m      2\u001b[0m \u001b[1;32mtry\u001b[0m\u001b[1;33m:\u001b[0m\u001b[1;33m\u001b[0m\u001b[1;33m\u001b[0m\u001b[0m\n\u001b[1;32m----> 3\u001b[1;33m     \u001b[1;32mfrom\u001b[0m \u001b[0mtensorflow\u001b[0m\u001b[1;33m.\u001b[0m\u001b[0mkeras\u001b[0m\u001b[1;33m.\u001b[0m\u001b[0mlayers\u001b[0m\u001b[1;33m.\u001b[0m\u001b[0mexperimental\u001b[0m\u001b[1;33m.\u001b[0m\u001b[0mpreprocessing\u001b[0m \u001b[1;32mimport\u001b[0m \u001b[0mRandomRotation\u001b[0m\u001b[1;33m\u001b[0m\u001b[1;33m\u001b[0m\u001b[0m\n\u001b[0m\u001b[0;32m      4\u001b[0m \u001b[1;32mexcept\u001b[0m \u001b[0mImportError\u001b[0m\u001b[1;33m:\u001b[0m\u001b[1;33m\u001b[0m\u001b[1;33m\u001b[0m\u001b[0m\n",
      "\u001b[1;31mModuleNotFoundError\u001b[0m: No module named 'tensorflow'",
      "\nDuring handling of the above exception, another exception occurred:\n",
      "\u001b[1;31mImportError\u001b[0m                               Traceback (most recent call last)",
      "\u001b[1;32m<ipython-input-63-14f6241eb66f>\u001b[0m in \u001b[0;36m<module>\u001b[1;34m\u001b[0m\n\u001b[1;32m----> 1\u001b[1;33m \u001b[1;32mfrom\u001b[0m \u001b[0mkeras\u001b[0m\u001b[1;33m.\u001b[0m\u001b[0mmodels\u001b[0m \u001b[1;32mimport\u001b[0m \u001b[0mSequential\u001b[0m\u001b[1;33m\u001b[0m\u001b[1;33m\u001b[0m\u001b[0m\n\u001b[0m\u001b[0;32m      2\u001b[0m \u001b[1;32mfrom\u001b[0m \u001b[0mkeras\u001b[0m \u001b[1;32mimport\u001b[0m \u001b[0mlayers\u001b[0m\u001b[1;33m\u001b[0m\u001b[1;33m\u001b[0m\u001b[0m\n\u001b[0;32m      3\u001b[0m \u001b[1;32mfrom\u001b[0m \u001b[0mkeras\u001b[0m\u001b[1;33m.\u001b[0m\u001b[0mpreprocessing\u001b[0m\u001b[1;33m.\u001b[0m\u001b[0mtext\u001b[0m \u001b[1;32mimport\u001b[0m \u001b[0mTokenizer\u001b[0m\u001b[1;33m\u001b[0m\u001b[1;33m\u001b[0m\u001b[0m\n\u001b[0;32m      4\u001b[0m \u001b[1;32mfrom\u001b[0m \u001b[0mkeras\u001b[0m\u001b[1;33m.\u001b[0m\u001b[0mpreprocessing\u001b[0m\u001b[1;33m.\u001b[0m\u001b[0msequence\u001b[0m \u001b[1;32mimport\u001b[0m \u001b[0mpad_sequences\u001b[0m\u001b[1;33m\u001b[0m\u001b[1;33m\u001b[0m\u001b[0m\n\u001b[0;32m      5\u001b[0m \u001b[1;32mfrom\u001b[0m \u001b[0mkeras\u001b[0m\u001b[1;33m.\u001b[0m\u001b[0mwrappers\u001b[0m\u001b[1;33m.\u001b[0m\u001b[0mscikit_learn\u001b[0m \u001b[1;32mimport\u001b[0m \u001b[0mKerasClassifier\u001b[0m\u001b[1;33m\u001b[0m\u001b[1;33m\u001b[0m\u001b[0m\n",
      "\u001b[1;32m~\\anaconda3\\lib\\site-packages\\keras\\__init__.py\u001b[0m in \u001b[0;36m<module>\u001b[1;34m\u001b[0m\n\u001b[0;32m      3\u001b[0m     \u001b[1;32mfrom\u001b[0m \u001b[0mtensorflow\u001b[0m\u001b[1;33m.\u001b[0m\u001b[0mkeras\u001b[0m\u001b[1;33m.\u001b[0m\u001b[0mlayers\u001b[0m\u001b[1;33m.\u001b[0m\u001b[0mexperimental\u001b[0m\u001b[1;33m.\u001b[0m\u001b[0mpreprocessing\u001b[0m \u001b[1;32mimport\u001b[0m \u001b[0mRandomRotation\u001b[0m\u001b[1;33m\u001b[0m\u001b[1;33m\u001b[0m\u001b[0m\n\u001b[0;32m      4\u001b[0m \u001b[1;32mexcept\u001b[0m \u001b[0mImportError\u001b[0m\u001b[1;33m:\u001b[0m\u001b[1;33m\u001b[0m\u001b[1;33m\u001b[0m\u001b[0m\n\u001b[1;32m----> 5\u001b[1;33m     raise ImportError(\n\u001b[0m\u001b[0;32m      6\u001b[0m         \u001b[1;34m'Keras requires TensorFlow 2.2 or higher. '\u001b[0m\u001b[1;33m\u001b[0m\u001b[1;33m\u001b[0m\u001b[0m\n\u001b[0;32m      7\u001b[0m         'Install TensorFlow via `pip install tensorflow`')\n",
      "\u001b[1;31mImportError\u001b[0m: Keras requires TensorFlow 2.2 or higher. Install TensorFlow via `pip install tensorflow`"
     ]
    }
   ],
   "source": [
    "from keras.models import Sequential\n",
    "from keras import layers\n",
    "from keras.preprocessing.text import Tokenizer\n",
    "from keras.preprocessing.sequence import pad_sequences\n",
    "from keras.wrappers.scikit_learn import KerasClassifier\n"
   ]
  },
  {
   "cell_type": "code",
   "execution_count": 58,
   "metadata": {},
   "outputs": [
    {
     "ename": "NameError",
     "evalue": "name 'Tokenizer' is not defined",
     "output_type": "error",
     "traceback": [
      "\u001b[1;31m---------------------------------------------------------------------------\u001b[0m",
      "\u001b[1;31mNameError\u001b[0m                                 Traceback (most recent call last)",
      "\u001b[1;32m<ipython-input-58-89451bf7f2fb>\u001b[0m in \u001b[0;36m<module>\u001b[1;34m\u001b[0m\n\u001b[0;32m     17\u001b[0m \u001b[1;33m\u001b[0m\u001b[0m\n\u001b[0;32m     18\u001b[0m \u001b[1;31m# Tokenize words\u001b[0m\u001b[1;33m\u001b[0m\u001b[1;33m\u001b[0m\u001b[1;33m\u001b[0m\u001b[0m\n\u001b[1;32m---> 19\u001b[1;33m \u001b[0mtokenizer\u001b[0m \u001b[1;33m=\u001b[0m \u001b[0mTokenizer\u001b[0m\u001b[1;33m(\u001b[0m\u001b[0mnum_words\u001b[0m\u001b[1;33m=\u001b[0m\u001b[1;36m5000\u001b[0m\u001b[1;33m)\u001b[0m\u001b[1;33m\u001b[0m\u001b[1;33m\u001b[0m\u001b[0m\n\u001b[0m\u001b[0;32m     20\u001b[0m \u001b[0mtokenizer\u001b[0m\u001b[1;33m.\u001b[0m\u001b[0mfit_on_texts\u001b[0m\u001b[1;33m(\u001b[0m\u001b[0msentences_train\u001b[0m\u001b[1;33m)\u001b[0m\u001b[1;33m\u001b[0m\u001b[1;33m\u001b[0m\u001b[0m\n\u001b[0;32m     21\u001b[0m \u001b[0mX_train\u001b[0m \u001b[1;33m=\u001b[0m \u001b[0mtokenizer\u001b[0m\u001b[1;33m.\u001b[0m\u001b[0mtexts_to_sequences\u001b[0m\u001b[1;33m(\u001b[0m\u001b[0msentences_train\u001b[0m\u001b[1;33m)\u001b[0m\u001b[1;33m\u001b[0m\u001b[1;33m\u001b[0m\u001b[0m\n",
      "\u001b[1;31mNameError\u001b[0m: name 'Tokenizer' is not defined"
     ]
    }
   ],
   "source": [
    "# Main settings\n",
    "\n",
    "epochs = 20\n",
    "embedding_dim = 50\n",
    "maxlen = 100\n",
    "output_file = 'output.txt'\n",
    "\n",
    "# Run grid search for each source (yelp, amazon, imdb)\n",
    "#for source, frame in df.groupby('source'):\n",
    "    #print('Running grid search for data set :', source)\n",
    "    #sentences = df['sentence'].values\n",
    "    #y = df['label'].values\n",
    "\n",
    "    # Train-test split\n",
    "    #sentences_train, sentences_test, y_train, y_test = train_test_split(\n",
    "    #    sentences, y, test_size=0.25, random_state=1000)\n",
    "\n",
    "# Tokenize words\n",
    "tokenizer = Tokenizer(num_words=5000)\n",
    "tokenizer.fit_on_texts(sentences_train)\n",
    "X_train = tokenizer.texts_to_sequences(sentences_train)\n",
    "X_test = tokenizer.texts_to_sequences(sentences_test)\n",
    "\n",
    "# Adding 1 because of reserved 0 index\n",
    "vocab_size = len(tokenizer.word_index) + 1\n",
    "\n",
    "# Pad sequences with zeros\n",
    "X_train = pad_sequences(X_train, padding='post', maxlen=maxlen)\n",
    "X_test = pad_sequences(X_test, padding='post', maxlen=maxlen)\n",
    "\n",
    "# Parameter grid for grid search\n",
    "param_grid = dict(num_filters=[32, 64, 128],\n",
    "                  kernel_size=[3, 5, 7],\n",
    "                  vocab_size=[vocab_size],\n",
    "                  embedding_dim=[embedding_dim],\n",
    "                  maxlen=[maxlen])\n",
    "model = KerasClassifier(build_fn=create_model,\n",
    "                        epochs=epochs, batch_size=10,\n",
    "                        verbose=False)\n",
    "grid = RandomizedSearchCV(estimator=model, param_distributions=param_grid,\n",
    "                          cv=4, verbose=1, n_iter=5)\n",
    "grid_result = grid.fit(X_train, y_train)\n",
    "\n",
    "# Evaluate testing set\n",
    "test_accuracy = grid.score(X_test, y_test)\n",
    "\n",
    "# Save and evaluate results\n",
    "#     prompt = input(f'finished {source}; write to file and proceed? [y/n]')\n",
    "#     if prompt.lower() not in {'y', 'true', 'yes'}:\n",
    "#         break\n",
    "#     with open(output_file, 'w+') as f:\n",
    "s = ('Running {} data set\\nBest Accuracy : '\n",
    "         '{:.4f}\\n{}\\nTest Accuracy : {:.4f}\\n\\n')\n",
    "output_string = s.format(\n",
    "    source,\n",
    "    grid_result.best_score_,\n",
    "    grid_result.best_params_,\n",
    "    test_accuracy)\n",
    "print(output_string)\n",
    "#         f.write(output_string)"
   ]
  },
  {
   "cell_type": "code",
   "execution_count": null,
   "metadata": {},
   "outputs": [],
   "source": []
  }
 ],
 "metadata": {
  "kernelspec": {
   "display_name": "Python 3",
   "language": "python",
   "name": "python3"
  },
  "language_info": {
   "codemirror_mode": {
    "name": "ipython",
    "version": 3
   },
   "file_extension": ".py",
   "mimetype": "text/x-python",
   "name": "python",
   "nbconvert_exporter": "python",
   "pygments_lexer": "ipython3",
   "version": "3.8.3"
  }
 },
 "nbformat": 4,
 "nbformat_minor": 4
}
